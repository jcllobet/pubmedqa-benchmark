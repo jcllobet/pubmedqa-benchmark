{
 "cells": [
  {
   "cell_type": "code",
   "execution_count": 36,
   "id": "8dceb10e-c22c-44db-a937-9a722030139b",
   "metadata": {},
   "outputs": [],
   "source": [
    "import json\n",
    "import os\n",
    "import matplotlib.pyplot as plt\n",
    "import glob\n",
    "from openai import OpenAI\n",
    "import requests\n",
    "from sklearn.metrics import accuracy_score, f1_score, precision_score, recall_score\n",
    "import numpy as np\n",
    "import glob\n",
    "import os\n",
    "\n",
    "from r2r.client import R2RClient\n",
    "from r2r.core.utils import generate_id_from_label"
   ]
  },
  {
   "cell_type": "code",
   "execution_count": 2,
   "id": "84d852fa-2484-4c66-be19-2b0494d9afc2",
   "metadata": {},
   "outputs": [],
   "source": [
    "open_api_key = \"\""
   ]
  },
  {
   "cell_type": "code",
   "execution_count": null,
   "id": "1bfd6c22",
   "metadata": {},
   "outputs": [],
   "source": [
    "\n",
    "\n",
    "# Initialize the client with the base URL of your API\n",
    "base_url = \"https://sciphi-0d04df5c-7e2c-43e2-be14-a320adb1676f-qwpin2swwa-ue.a.run.app\"  # Change this to your actual API base URL\n",
    "client = R2RClient(base_url)\n",
    "\n",
    "user_id_0 = generate_id_from_label(\"user_0\")\n",
    "\n"
   ]
  },
  {
   "cell_type": "code",
   "execution_count": null,
   "id": "05c9003e",
   "metadata": {},
   "outputs": [],
   "source": [
    "prompt = \"\"\"You are given a user query {query} and a user context {context}. Use the context to answer the given query. \"\"\"\n",
    "formatted_prompt = prompt.format(\n",
    "    query=\"What are the key themes of these books?\",\n",
    "    context=\"User Uploads:\\nContexts Pqau Split Part 1.pdf\",\n",
    ")\n",
    "\n",
    "# Perform a search on this file\n",
    "search_response = client.rag_completion(\n",
    "    formatted_prompt, 5, filters={\"user_id\": user_id_0}\n",
    ")"
   ]
  },
  {
   "cell_type": "code",
   "execution_count": 45,
   "id": "cde65f71-06ea-425c-8346-e56348803214",
   "metadata": {},
   "outputs": [],
   "source": [
    "def prompt(payload):\n",
    "    headers = {\n",
    "        \"Content-Type\": \"application/json\",\n",
    "        \"Authorization\": f\"Bearer {open_api_key}\"\n",
    "    }\n",
    "\n",
    "    try:\n",
    "        resp = requests.post(\"https://api.openai.com/v1/chat/completions\", \n",
    "                             headers=headers, json=payload)\n",
    "        data = resp.json()\n",
    "        resp_dict = data['choices'][0]['message']['content']\n",
    "\n",
    "        return resp_dict\n",
    "    \n",
    "    except requests.exceptions.HTTPError as http_err:\n",
    "        print(f\"HTTP error occurred: {http_err}\")\n",
    "    except requests.exceptions.RequestException as err:\n",
    "        print(f\"An error occurred: {err}\")\n",
    "    except KeyError as key_err:\n",
    "        print(f\"Key error: {key_err} - the structure of the response might not be as expected.\")\n",
    "    \n",
    "    return None\n"
   ]
  },
  {
   "cell_type": "markdown",
   "id": "6f01f12f-ffca-45e5-a493-bbdb020ec893",
   "metadata": {},
   "source": [
    "### Load data"
   ]
  },
  {
   "cell_type": "code",
   "execution_count": 22,
   "id": "d33b25bf-c480-4236-8cfa-a22db4d9eb08",
   "metadata": {},
   "outputs": [
    {
     "data": {
      "text/plain": [
       "(500, 500)"
      ]
     },
     "execution_count": 22,
     "metadata": {},
     "output_type": "execute_result"
    }
   ],
   "source": [
    "data = json.load(open('pubmedqa-master/data/test_set.json'))\n",
    "labels = json.load(open('pubmedqa-master/data/test_ground_truth.json'))\n",
    "len(data), len(labels)"
   ]
  },
  {
   "cell_type": "code",
   "execution_count": null,
   "id": "525f68dd-66c2-49d5-ab9d-60ce9acd805b",
   "metadata": {},
   "outputs": [],
   "source": [
    "predictions, gt = {}, {}\n",
    "\n",
    "class_dict = { 'no': 0, 'yes': 1, 'maybe': 2}\n",
    "\n",
    "for i, q in data.items():\n",
    "    text_prompt = \"Answer question given user query context: {} . Answer can only be one word and it should be either 'yes', 'no', or 'maybe'.\".format(str(q))\n",
    "\n",
    "    prompt_data = {\n",
    "        \"model\": 'gpt-4-vision-preview', \n",
    "        \"temperature\": 0,\n",
    "        \"messages\": [\n",
    "            {\n",
    "                \"role\": \"user\",\n",
    "                \"content\": [\n",
    "                    {\"type\": \"text\", \"text\": text_prompt},\n",
    "                ],\n",
    "            }\n",
    "        ],\n",
    "        \"max_tokens\": f\"{30}\",\n",
    "    }\n",
    "    resp = prompt(prompt_data)\n",
    "    \n",
    "    predictions.update({i: class_dict[resp.lower()]})\n",
    "    gt.update({i: class_dict[labels[i]]})\n"
   ]
  },
  {
   "cell_type": "code",
   "execution_count": null,
   "id": "7a65a2bd-aab3-47fa-9a39-2f4a3ce780f8",
   "metadata": {},
   "outputs": [],
   "source": [
    "len(predictions), len(gt)"
   ]
  },
  {
   "cell_type": "code",
   "execution_count": null,
   "id": "d3955322-f7dc-4bf2-bd3c-1a8582c33c76",
   "metadata": {},
   "outputs": [],
   "source": [
    "accuracy_score(list(gt.values()), list(predictions.values() ))"
   ]
  },
  {
   "cell_type": "code",
   "execution_count": null,
   "id": "ff261290-ed10-48f1-8de2-40526c294f18",
   "metadata": {},
   "outputs": [],
   "source": [
    "f1_score(list(gt.values()), list(predictions.values()), average='macro')"
   ]
  },
  {
   "cell_type": "markdown",
   "id": "74b19f11-3a33-44e2-ac80-8ed7cf9609d7",
   "metadata": {},
   "source": [
    "### GPT3.5"
   ]
  },
  {
   "cell_type": "code",
   "execution_count": 48,
   "id": "3eb94ace-8022-4a31-a10a-f09bbbcad87c",
   "metadata": {},
   "outputs": [],
   "source": [
    "predictions, gt = {}, {}\n",
    "\n",
    "class_dict = { 'no': 0, 'yes': 1, 'maybe': 2}\n",
    "\n",
    "for i, q in data.items():\n",
    "    text_prompt = \"Answer question given context: {} . Answer can only be one word and it should be either 'yes', 'no', or 'maybe'.\".format(str(q))\n",
    "\n",
    "    prompt_data = {\n",
    "        \"model\": 'gpt-3.5-turbo', \n",
    "        \"temperature\": 0,\n",
    "        \"messages\": [\n",
    "            {\n",
    "        \"role\": \"system\",\n",
    "        \"content\": \"You are a helpful medical assistant.\"\n",
    "      },\n",
    "            {\n",
    "                \"role\": \"user\",\n",
    "                \"content\": text_prompt\n",
    "            }\n",
    "        ]\n",
    "    }\n",
    "    resp = prompt(prompt_data)\n",
    "\n",
    "    predictions.update({i: class_dict[resp.lower()]})\n",
    "    gt.update({i: class_dict[labels[i]]})\n"
   ]
  },
  {
   "cell_type": "code",
   "execution_count": 49,
   "id": "9da88baf-0afe-443c-97b8-7355ef7ede7d",
   "metadata": {},
   "outputs": [
    {
     "data": {
      "text/plain": [
       "(500, 500)"
      ]
     },
     "execution_count": 49,
     "metadata": {},
     "output_type": "execute_result"
    }
   ],
   "source": [
    "len(predictions), len(gt)"
   ]
  },
  {
   "cell_type": "code",
   "execution_count": 55,
   "id": "1944636e-7834-4fd3-9017-ba52c259c984",
   "metadata": {},
   "outputs": [
    {
     "data": {
      "text/plain": [
       "0.928"
      ]
     },
     "execution_count": 55,
     "metadata": {},
     "output_type": "execute_result"
    }
   ],
   "source": [
    "accuracy_score(list(gt.values()), list(predictions.values() ))"
   ]
  },
  {
   "cell_type": "code",
   "execution_count": 60,
   "id": "386f4910-cbbd-49c4-ae5a-052607f1c0ff",
   "metadata": {},
   "outputs": [
    {
     "data": {
      "text/plain": [
       "0.8875015232868346"
      ]
     },
     "execution_count": 60,
     "metadata": {},
     "output_type": "execute_result"
    }
   ],
   "source": [
    "f1_score(list(gt.values()), list(predictions.values()), average='macro')"
   ]
  },
  {
   "cell_type": "code",
   "execution_count": null,
   "id": "22009054-7edd-46bd-b0f0-9a1eda58c1ca",
   "metadata": {},
   "outputs": [],
   "source": []
  }
 ],
 "metadata": {
  "kernelspec": {
   "display_name": "Python 3 (ipykernel)",
   "language": "python",
   "name": "python3"
  },
  "language_info": {
   "codemirror_mode": {
    "name": "ipython",
    "version": 3
   },
   "file_extension": ".py",
   "mimetype": "text/x-python",
   "name": "python",
   "nbconvert_exporter": "python",
   "pygments_lexer": "ipython3",
   "version": "3.9.6"
  }
 },
 "nbformat": 4,
 "nbformat_minor": 5
}
