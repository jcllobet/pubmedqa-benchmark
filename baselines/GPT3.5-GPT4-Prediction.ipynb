{
 "cells": [
  {
   "cell_type": "code",
   "execution_count": 1,
   "id": "8dceb10e-c22c-44db-a937-9a722030139b",
   "metadata": {},
   "outputs": [
    {
     "name": "stderr",
     "output_type": "stream",
     "text": [
      "/Users/mariadobko/env/lib/python3.9/site-packages/urllib3/__init__.py:35: NotOpenSSLWarning: urllib3 v2 only supports OpenSSL 1.1.1+, currently the 'ssl' module is compiled with 'LibreSSL 2.8.3'. See: https://github.com/urllib3/urllib3/issues/3020\n",
      "  warnings.warn(\n"
     ]
    }
   ],
   "source": [
    "import json\n",
    "import os\n",
    "import matplotlib.pyplot as plt\n",
    "import glob\n",
    "from openai import OpenAI\n",
    "import requests\n",
    "from sklearn.metrics import accuracy_score, f1_score, precision_score, recall_score\n",
    "import numpy as np\n",
    "import tqdm "
   ]
  },
  {
   "cell_type": "code",
   "execution_count": 2,
   "id": "84d852fa-2484-4c66-be19-2b0494d9afc2",
   "metadata": {},
   "outputs": [],
   "source": [
    "open_api_key = \"\""
   ]
  },
  {
   "cell_type": "code",
   "execution_count": 3,
   "id": "cde65f71-06ea-425c-8346-e56348803214",
   "metadata": {},
   "outputs": [],
   "source": [
    "def prompting(payload):\n",
    "    headers = {\n",
    "        \"Content-Type\": \"application/json\",\n",
    "        \"Authorization\": f\"Bearer {open_api_key}\"\n",
    "    }\n",
    "\n",
    "    try:\n",
    "        resp = requests.post(\"https://api.openai.com/v1/chat/completions\", \n",
    "                             headers=headers, json=payload)\n",
    "        data = resp.json()\n",
    "        resp_dict = data['choices'][0]['message']['content']\n",
    "        return resp_dict\n",
    "    \n",
    "    except requests.exceptions.HTTPError as http_err:\n",
    "        print(f\"HTTP error occurred: {http_err}\")\n",
    "    except requests.exceptions.RequestException as err:\n",
    "        print(f\"An error occurred: {err}\")\n",
    "    except KeyError as key_err:\n",
    "        print(f\"Key error: {key_err} - the structure of the response might not be as expected.\")\n",
    "    \n",
    "    return None\n"
   ]
  },
  {
   "cell_type": "markdown",
   "id": "6f01f12f-ffca-45e5-a493-bbdb020ec893",
   "metadata": {},
   "source": [
    "### Load data"
   ]
  },
  {
   "cell_type": "code",
   "execution_count": 4,
   "id": "d33b25bf-c480-4236-8cfa-a22db4d9eb08",
   "metadata": {},
   "outputs": [
    {
     "data": {
      "text/plain": [
       "(500, 500)"
      ]
     },
     "execution_count": 4,
     "metadata": {},
     "output_type": "execute_result"
    }
   ],
   "source": [
    "data = json.load(open('pubmedqa-master/data/test_set.json'))\n",
    "labels = json.load(open('pubmedqa-master/data/test_ground_truth.json'))\n",
    "len(data), len(labels)"
   ]
  },
  {
   "cell_type": "code",
   "execution_count": 133,
   "id": "525f68dd-66c2-49d5-ab9d-60ce9acd805b",
   "metadata": {},
   "outputs": [
    {
     "name": "stderr",
     "output_type": "stream",
     "text": [
      "100%|██████████████████████████████████████████████████████████████████████| 500/500 [11:16<00:00,  1.35s/it]\n"
     ]
    }
   ],
   "source": [
    "predictions, gt = {}, {}\n",
    "\n",
    "class_dict = { 'no': 0, 'yes': 1, 'maybe': 2, 'none':3}\n",
    "\n",
    "for i, q in tqdm.tqdm(data.items()):\n",
    "    question = str(q['QUESTION'])\n",
    "    context = str(q['CONTEXTS'])  \n",
    "    inp = {'question': question, 'context': context}\n",
    "    text_prompt = \"Answer question given context: {} . Answer can only be one word and it should be either 'yes', 'no', or 'maybe'.\".format(\n",
    "        question + \" \" + context )\n",
    "\n",
    "    prompt_data = {\n",
    "        \"model\": 'gpt-4-vision-preview', \n",
    "        \"temperature\": 0,\n",
    "        \"messages\": [\n",
    "            {\n",
    "                \"role\": \"user\",\n",
    "                \"content\": [\n",
    "                    {\"type\": \"text\", \"text\": text_prompt},\n",
    "                ],\n",
    "            }\n",
    "        ],\n",
    "        \"max_tokens\": f\"{30}\",\n",
    "    }\n",
    "    resp = prompting(prompt_data)\n",
    "\n",
    "    r = 'none'\n",
    "    if 'no' in resp.lower():\n",
    "        r = 'no'\n",
    "    elif 'yes' in resp.lower():\n",
    "        r = 'yes'\n",
    "    elif 'maybe' in resp.lower() or 'perhaps' in resp.lower():\n",
    "        r = 'maybe'\n",
    "\n",
    "    predictions.update({i: class_dict[r]})\n",
    "    gt.update({i: class_dict[labels[i]]})"
   ]
  },
  {
   "cell_type": "code",
   "execution_count": 134,
   "id": "7a65a2bd-aab3-47fa-9a39-2f4a3ce780f8",
   "metadata": {},
   "outputs": [
    {
     "data": {
      "text/plain": [
       "(500, 500)"
      ]
     },
     "execution_count": 134,
     "metadata": {},
     "output_type": "execute_result"
    }
   ],
   "source": [
    "len(predictions), len(gt)"
   ]
  },
  {
   "cell_type": "code",
   "execution_count": 135,
   "id": "d3955322-f7dc-4bf2-bd3c-1a8582c33c76",
   "metadata": {},
   "outputs": [
    {
     "data": {
      "text/plain": [
       "0.748"
      ]
     },
     "execution_count": 135,
     "metadata": {},
     "output_type": "execute_result"
    }
   ],
   "source": [
    "accuracy_score(list(gt.values()), list(predictions.values() ))"
   ]
  },
  {
   "cell_type": "code",
   "execution_count": 136,
   "id": "ff261290-ed10-48f1-8de2-40526c294f18",
   "metadata": {},
   "outputs": [
    {
     "data": {
      "text/plain": [
       "0.5837309982081961"
      ]
     },
     "execution_count": 136,
     "metadata": {},
     "output_type": "execute_result"
    }
   ],
   "source": [
    "f1_score(list(gt.values()), list(predictions.values()), average='macro')"
   ]
  },
  {
   "cell_type": "markdown",
   "id": "74b19f11-3a33-44e2-ac80-8ed7cf9609d7",
   "metadata": {},
   "source": [
    "### GPT3.5"
   ]
  },
  {
   "cell_type": "code",
   "execution_count": 85,
   "id": "3eb94ace-8022-4a31-a10a-f09bbbcad87c",
   "metadata": {},
   "outputs": [],
   "source": [
    "predictions_gpt, gt_gpt = {}, {}\n",
    "\n",
    "class_dict = { 'no': 0, 'yes': 1, 'maybe': 2}\n",
    "\n",
    "for i, q in data.items():\n",
    "\n",
    "    question = str(q['QUESTION'])\n",
    "    context = str(q['CONTEXTS'])    \n",
    "    text_prompt = \"Answer question given context: {} . Answer can only be one word and it should be either 'yes', 'no', or 'maybe'.\".format(\n",
    "        question + ' ' + context)\n",
    "\n",
    "    prompt_data = {\n",
    "        \"model\": 'gpt-3.5-turbo', \n",
    "        \"temperature\": 0,\n",
    "        \"messages\": [\n",
    "            {\n",
    "        \"role\": \"system\",\n",
    "        \"content\": \"You are a helpful medical assistant.\"\n",
    "      },\n",
    "            {\n",
    "                \"role\": \"user\",\n",
    "                \"content\": text_prompt\n",
    "            }\n",
    "        ]\n",
    "    }\n",
    "    resp = prompt(prompt_data)\n",
    "\n",
    "    r = ''\n",
    "    if 'no' in resp.lower():\n",
    "        r = 'no'\n",
    "    elif 'yes' in resp.lower():\n",
    "        r = 'yes'\n",
    "    else:\n",
    "        r = 'maybe'\n",
    "\n",
    "    predictions_gpt.update({i: class_dict[r]})\n",
    "    gt_gpt.update({i: class_dict[labels[i]]})\n"
   ]
  },
  {
   "cell_type": "code",
   "execution_count": 86,
   "id": "9da88baf-0afe-443c-97b8-7355ef7ede7d",
   "metadata": {},
   "outputs": [
    {
     "data": {
      "text/plain": [
       "(500, 500)"
      ]
     },
     "execution_count": 86,
     "metadata": {},
     "output_type": "execute_result"
    }
   ],
   "source": [
    "len(predictions_gpt), len(gt_gpt)"
   ]
  },
  {
   "cell_type": "code",
   "execution_count": 87,
   "id": "1944636e-7834-4fd3-9017-ba52c259c984",
   "metadata": {},
   "outputs": [
    {
     "data": {
      "text/plain": [
       "0.686"
      ]
     },
     "execution_count": 87,
     "metadata": {},
     "output_type": "execute_result"
    }
   ],
   "source": [
    "accuracy_score(list(gt_gpt.values()), list(predictions_gpt.values() ))"
   ]
  },
  {
   "cell_type": "code",
   "execution_count": 88,
   "id": "386f4910-cbbd-49c4-ae5a-052607f1c0ff",
   "metadata": {},
   "outputs": [
    {
     "data": {
      "text/plain": [
       "0.5468129486658541"
      ]
     },
     "execution_count": 88,
     "metadata": {},
     "output_type": "execute_result"
    }
   ],
   "source": [
    "f1_score(list(gt_gpt.values()), list(predictions_gpt.values()), average='macro')"
   ]
  },
  {
   "cell_type": "code",
   "execution_count": 90,
   "id": "22009054-7edd-46bd-b0f0-9a1eda58c1ca",
   "metadata": {},
   "outputs": [],
   "source": [
    "# predictions_gpt"
   ]
  },
  {
   "cell_type": "code",
   "execution_count": null,
   "id": "9b5bc327-e17d-4b65-be29-29422dd1f720",
   "metadata": {},
   "outputs": [],
   "source": []
  }
 ],
 "metadata": {
  "kernelspec": {
   "display_name": "Python 3 (ipykernel)",
   "language": "python",
   "name": "python3"
  },
  "language_info": {
   "codemirror_mode": {
    "name": "ipython",
    "version": 3
   },
   "file_extension": ".py",
   "mimetype": "text/x-python",
   "name": "python",
   "nbconvert_exporter": "python",
   "pygments_lexer": "ipython3",
   "version": "3.9.6"
  }
 },
 "nbformat": 4,
 "nbformat_minor": 5
}
