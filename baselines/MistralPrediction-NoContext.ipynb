{
 "cells": [
  {
   "cell_type": "code",
   "execution_count": 1,
   "id": "8dceb10e-c22c-44db-a937-9a722030139b",
   "metadata": {},
   "outputs": [
    {
     "name": "stderr",
     "output_type": "stream",
     "text": [
      "/Users/mariadobko/env/lib/python3.9/site-packages/urllib3/__init__.py:35: NotOpenSSLWarning: urllib3 v2 only supports OpenSSL 1.1.1+, currently the 'ssl' module is compiled with 'LibreSSL 2.8.3'. See: https://github.com/urllib3/urllib3/issues/3020\n",
      "  warnings.warn(\n"
     ]
    }
   ],
   "source": [
    "import json\n",
    "import os\n",
    "import matplotlib.pyplot as plt\n",
    "import glob\n",
    "from sklearn.metrics import accuracy_score, f1_score, precision_score, recall_score\n",
    "import numpy as np\n",
    "import string, re\n",
    "import tqdm \n",
    "import pandas as pd\n",
    "import json\n",
    "from transformers import AutoModelForCausalLM, AutoTokenizer"
   ]
  },
  {
   "cell_type": "code",
   "execution_count": 2,
   "id": "84d852fa-2484-4c66-be19-2b0494d9afc2",
   "metadata": {},
   "outputs": [],
   "source": [
    "open_api_key = \"\"\n",
    "secret_hf = ''"
   ]
  },
  {
   "cell_type": "code",
   "execution_count": 4,
   "id": "768d41dd-85df-4359-a2c7-ba027aacca59",
   "metadata": {},
   "outputs": [
    {
     "name": "stdout",
     "output_type": "stream",
     "text": [
      "/Users/mariadobko/env/lib/python3.9/site-packages/urllib3/__init__.py:35: NotOpenSSLWarning: urllib3 v2 only supports OpenSSL 1.1.1+, currently the 'ssl' module is compiled with 'LibreSSL 2.8.3'. See: https://github.com/urllib3/urllib3/issues/3020\n",
      "  warnings.warn(\n",
      "Token has not been saved to git credential helper. Pass `add_to_git_credential=True` if you want to set the git credential as well.\n",
      "Token is valid (permission: read).\n",
      "Your token has been saved to /Users/mariadobko/.cache/huggingface/token\n",
      "Login successful\n"
     ]
    }
   ],
   "source": [
    "!huggingface-cli login --token $secret_hf"
   ]
  },
  {
   "cell_type": "markdown",
   "id": "6f01f12f-ffca-45e5-a493-bbdb020ec893",
   "metadata": {},
   "source": [
    "### Load data"
   ]
  },
  {
   "cell_type": "code",
   "execution_count": 3,
   "id": "d33b25bf-c480-4236-8cfa-a22db4d9eb08",
   "metadata": {},
   "outputs": [
    {
     "data": {
      "text/plain": [
       "(500, 500)"
      ]
     },
     "execution_count": 3,
     "metadata": {},
     "output_type": "execute_result"
    }
   ],
   "source": [
    "data = json.load(open('pubmedqa-master/data/test_set.json'))\n",
    "labels = json.load(open('pubmedqa-master/data/test_ground_truth.json'))\n",
    "len(data), len(labels)"
   ]
  },
  {
   "cell_type": "code",
   "execution_count": 1,
   "id": "525f68dd-66c2-49d5-ab9d-60ce9acd805b",
   "metadata": {},
   "outputs": [],
   "source": [
    "predictions, gt = {}, {}\n",
    "\n",
    "class_dict = { 'no': 0, 'yes': 1, 'maybe': 2, 'none':3}\n",
    "\n",
    "\n",
    "model_id = \"mistralai/Mixtral-8x7B-v0.1\"\n",
    "tokenizer = AutoTokenizer.from_pretrained(model_id)\n",
    "model = AutoModelForCausalLM.from_pretrained(model_id)\n",
    "\n",
    "\n",
    "for i, q in tqdm.tqdm(data.items()):\n",
    "    question = str(q['QUESTION'])\n",
    "    inp = {'question': question}\n",
    "    text_prompt = \"Answer question {}. Answer can only be one word and it should be either 'yes', 'no', or 'maybe'.\".format(\n",
    "        question)\n",
    "    inputs = tokenizer(text_prompt, return_tensors=\"pt\")\n",
    "\n",
    "    outputs = model.generate(**inputs, max_new_tokens=20)\n",
    "    resp = tokenizer.decode(outputs[0], skip_special_tokens=True)\n",
    "    print(resp)\n",
    "    break\n",
    "    \n",
    "    r = 'none'\n",
    "    if 'no' in resp.lower():\n",
    "        r = 'no'\n",
    "    elif 'yes' in resp.lower():\n",
    "        r = 'yes'\n",
    "    elif 'maybe' in resp.lower() or 'perhaps' in resp.lower():\n",
    "        r = 'maybe'\n",
    "    \n",
    "    predictions.update({i: class_dict[r]})\n",
    "    gt.update({i: class_dict[labels[i]]})"
   ]
  },
  {
   "cell_type": "code",
   "execution_count": 14,
   "id": "7a65a2bd-aab3-47fa-9a39-2f4a3ce780f8",
   "metadata": {},
   "outputs": [
    {
     "data": {
      "text/plain": [
       "(500, 500)"
      ]
     },
     "execution_count": 14,
     "metadata": {},
     "output_type": "execute_result"
    }
   ],
   "source": [
    "len(predictions), len(gt)"
   ]
  },
  {
   "cell_type": "code",
   "execution_count": 15,
   "id": "d3955322-f7dc-4bf2-bd3c-1a8582c33c76",
   "metadata": {},
   "outputs": [
    {
     "data": {
      "text/plain": [
       "0.552"
      ]
     },
     "execution_count": 15,
     "metadata": {},
     "output_type": "execute_result"
    }
   ],
   "source": [
    "accuracy_score(list(gt.values()), list(predictions.values() ))"
   ]
  },
  {
   "cell_type": "code",
   "execution_count": 17,
   "id": "ff261290-ed10-48f1-8de2-40526c294f18",
   "metadata": {},
   "outputs": [
    {
     "data": {
      "text/plain": [
       "0.3875320857544917"
      ]
     },
     "execution_count": 17,
     "metadata": {},
     "output_type": "execute_result"
    }
   ],
   "source": [
    "f1_score(list(gt.values()), list(predictions.values()), average='macro')"
   ]
  },
  {
   "cell_type": "code",
   "execution_count": null,
   "id": "9b5bc327-e17d-4b65-be29-29422dd1f720",
   "metadata": {},
   "outputs": [],
   "source": []
  }
 ],
 "metadata": {
  "kernelspec": {
   "display_name": "Python 3 (ipykernel)",
   "language": "python",
   "name": "python3"
  },
  "language_info": {
   "codemirror_mode": {
    "name": "ipython",
    "version": 3
   },
   "file_extension": ".py",
   "mimetype": "text/x-python",
   "name": "python",
   "nbconvert_exporter": "python",
   "pygments_lexer": "ipython3",
   "version": "3.9.6"
  }
 },
 "nbformat": 4,
 "nbformat_minor": 5
}
