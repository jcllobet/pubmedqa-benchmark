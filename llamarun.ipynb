{
 "cells": [
  {
   "cell_type": "code",
   "execution_count": 78,
   "metadata": {},
   "outputs": [],
   "source": [
    "from llama_index.embeddings.nomic import NomicEmbedding\n",
    "from llama_index.core import (\n",
    "    VectorStoreIndex,\n",
    "    SimpleDirectoryReader,\n",
    "    ServiceContext,\n",
    "    Document,\n",
    "    get_response_synthesizer,\n",
    ")\n",
    "from llama_index.core.retrievers import VectorIndexRetriever\n",
    "from llama_index.core.query_engine import RetrieverQueryEngine\n",
    "from llama_index.core.postprocessor import SimilarityPostprocessor\n",
    "from typing import Annotated\n",
    "import os"
   ]
  },
  {
   "cell_type": "code",
   "execution_count": 79,
   "metadata": {},
   "outputs": [
    {
     "name": "stderr",
     "output_type": "stream",
     "text": [
      "/var/folders/wv/b_h63k2j0997cxn743g60jn40000gn/T/ipykernel_38252/908314802.py:8: DeprecationWarning: Call to deprecated class method from_defaults. (ServiceContext is deprecated, please use `llama_index.settings.Settings` instead.) -- Deprecated since version 0.10.0.\n",
      "  service_context = ServiceContext.from_defaults(\n"
     ]
    },
    {
     "data": {
      "application/vnd.jupyter.widget-view+json": {
       "model_id": "8a8182270dc54805a93b38cbecd077ff",
       "version_major": 2,
       "version_minor": 0
      },
      "text/plain": [
       "Parsing nodes:   0%|          | 0/1 [00:00<?, ?it/s]"
      ]
     },
     "metadata": {},
     "output_type": "display_data"
    },
    {
     "data": {
      "application/vnd.jupyter.widget-view+json": {
       "model_id": "5f3b22410dd44275b3d550de77387a52",
       "version_major": 2,
       "version_minor": 0
      },
      "text/plain": [
       "Generating embeddings:   0%|          | 0/2048 [00:00<?, ?it/s]"
      ]
     },
     "metadata": {},
     "output_type": "display_data"
    },
    {
     "data": {
      "application/vnd.jupyter.widget-view+json": {
       "model_id": "11ebf8efb49f4aabb09ece09412348ee",
       "version_major": 2,
       "version_minor": 0
      },
      "text/plain": [
       "Generating embeddings:   0%|          | 0/2048 [00:00<?, ?it/s]"
      ]
     },
     "metadata": {},
     "output_type": "display_data"
    },
    {
     "data": {
      "application/vnd.jupyter.widget-view+json": {
       "model_id": "8e66b74643754892be18de4ff5daf2cd",
       "version_major": 2,
       "version_minor": 0
      },
      "text/plain": [
       "Generating embeddings:   0%|          | 0/2048 [00:00<?, ?it/s]"
      ]
     },
     "metadata": {},
     "output_type": "display_data"
    },
    {
     "ename": "KeyboardInterrupt",
     "evalue": "",
     "output_type": "error",
     "traceback": [
      "\u001b[0;31m---------------------------------------------------------------------------\u001b[0m",
      "\u001b[0;31mKeyboardInterrupt\u001b[0m                         Traceback (most recent call last)",
      "Cell \u001b[0;32mIn[79], line 11\u001b[0m\n\u001b[1;32m      3\u001b[0m embed_model \u001b[38;5;241m=\u001b[39m NomicEmbedding(\n\u001b[1;32m      4\u001b[0m     api_key\u001b[38;5;241m=\u001b[39mnomic_api_key,\n\u001b[1;32m      5\u001b[0m     model_name\u001b[38;5;241m=\u001b[39m\u001b[38;5;124m\"\u001b[39m\u001b[38;5;124mnomic-embed-text-v1\u001b[39m\u001b[38;5;124m\"\u001b[39m,\n\u001b[1;32m      6\u001b[0m     task_type\u001b[38;5;241m=\u001b[39m\u001b[38;5;124m\"\u001b[39m\u001b[38;5;124msearch_document\u001b[39m\u001b[38;5;124m\"\u001b[39m\n\u001b[1;32m      7\u001b[0m )\n\u001b[1;32m      8\u001b[0m service_context \u001b[38;5;241m=\u001b[39m ServiceContext\u001b[38;5;241m.\u001b[39mfrom_defaults(\n\u001b[1;32m      9\u001b[0m     embed_model\u001b[38;5;241m=\u001b[39membed_model, chunk_size\u001b[38;5;241m=\u001b[39m\u001b[38;5;241m1024\u001b[39m,\n\u001b[1;32m     10\u001b[0m )\n\u001b[0;32m---> 11\u001b[0m index \u001b[38;5;241m=\u001b[39m \u001b[43mVectorStoreIndex\u001b[49m\u001b[38;5;241;43m.\u001b[39;49m\u001b[43mfrom_documents\u001b[49m\u001b[43m(\u001b[49m\n\u001b[1;32m     12\u001b[0m \u001b[43m    \u001b[49m\u001b[43mdocuments\u001b[49m\u001b[38;5;241;43m=\u001b[39;49m\u001b[43mdocuments\u001b[49m\u001b[43m,\u001b[49m\u001b[43m \u001b[49m\u001b[43mservice_context\u001b[49m\u001b[38;5;241;43m=\u001b[39;49m\u001b[43mservice_context\u001b[49m\u001b[43m,\u001b[49m\u001b[43m \u001b[49m\u001b[43mshow_progress\u001b[49m\u001b[38;5;241;43m=\u001b[39;49m\u001b[38;5;28;43;01mTrue\u001b[39;49;00m\n\u001b[1;32m     13\u001b[0m \u001b[43m)\u001b[49m\n",
      "File \u001b[0;32m~/Code/Github/pubmedqa-benchmark/venv/lib/python3.12/site-packages/llama_index/core/indices/base.py:145\u001b[0m, in \u001b[0;36mBaseIndex.from_documents\u001b[0;34m(cls, documents, storage_context, show_progress, callback_manager, transformations, service_context, **kwargs)\u001b[0m\n\u001b[1;32m    136\u001b[0m     docstore\u001b[38;5;241m.\u001b[39mset_document_hash(doc\u001b[38;5;241m.\u001b[39mget_doc_id(), doc\u001b[38;5;241m.\u001b[39mhash)\n\u001b[1;32m    138\u001b[0m nodes \u001b[38;5;241m=\u001b[39m run_transformations(\n\u001b[1;32m    139\u001b[0m     documents,  \u001b[38;5;66;03m# type: ignore\u001b[39;00m\n\u001b[1;32m    140\u001b[0m     transformations,\n\u001b[1;32m    141\u001b[0m     show_progress\u001b[38;5;241m=\u001b[39mshow_progress,\n\u001b[1;32m    142\u001b[0m     \u001b[38;5;241m*\u001b[39m\u001b[38;5;241m*\u001b[39mkwargs,\n\u001b[1;32m    143\u001b[0m )\n\u001b[0;32m--> 145\u001b[0m \u001b[38;5;28;01mreturn\u001b[39;00m \u001b[38;5;28;43mcls\u001b[39;49m\u001b[43m(\u001b[49m\n\u001b[1;32m    146\u001b[0m \u001b[43m    \u001b[49m\u001b[43mnodes\u001b[49m\u001b[38;5;241;43m=\u001b[39;49m\u001b[43mnodes\u001b[49m\u001b[43m,\u001b[49m\n\u001b[1;32m    147\u001b[0m \u001b[43m    \u001b[49m\u001b[43mstorage_context\u001b[49m\u001b[38;5;241;43m=\u001b[39;49m\u001b[43mstorage_context\u001b[49m\u001b[43m,\u001b[49m\n\u001b[1;32m    148\u001b[0m \u001b[43m    \u001b[49m\u001b[43mcallback_manager\u001b[49m\u001b[38;5;241;43m=\u001b[39;49m\u001b[43mcallback_manager\u001b[49m\u001b[43m,\u001b[49m\n\u001b[1;32m    149\u001b[0m \u001b[43m    \u001b[49m\u001b[43mshow_progress\u001b[49m\u001b[38;5;241;43m=\u001b[39;49m\u001b[43mshow_progress\u001b[49m\u001b[43m,\u001b[49m\n\u001b[1;32m    150\u001b[0m \u001b[43m    \u001b[49m\u001b[43mtransformations\u001b[49m\u001b[38;5;241;43m=\u001b[39;49m\u001b[43mtransformations\u001b[49m\u001b[43m,\u001b[49m\n\u001b[1;32m    151\u001b[0m \u001b[43m    \u001b[49m\u001b[43mservice_context\u001b[49m\u001b[38;5;241;43m=\u001b[39;49m\u001b[43mservice_context\u001b[49m\u001b[43m,\u001b[49m\n\u001b[1;32m    152\u001b[0m \u001b[43m    \u001b[49m\u001b[38;5;241;43m*\u001b[39;49m\u001b[38;5;241;43m*\u001b[39;49m\u001b[43mkwargs\u001b[49m\u001b[43m,\u001b[49m\n\u001b[1;32m    153\u001b[0m \u001b[43m\u001b[49m\u001b[43m)\u001b[49m\n",
      "File \u001b[0;32m~/Code/Github/pubmedqa-benchmark/venv/lib/python3.12/site-packages/llama_index/core/indices/vector_store/base.py:75\u001b[0m, in \u001b[0;36mVectorStoreIndex.__init__\u001b[0;34m(self, nodes, use_async, store_nodes_override, embed_model, insert_batch_size, objects, index_struct, storage_context, callback_manager, transformations, show_progress, service_context, **kwargs)\u001b[0m\n\u001b[1;32m     68\u001b[0m \u001b[38;5;28mself\u001b[39m\u001b[38;5;241m.\u001b[39m_embed_model \u001b[38;5;241m=\u001b[39m (\n\u001b[1;32m     69\u001b[0m     resolve_embed_model(embed_model, callback_manager\u001b[38;5;241m=\u001b[39mcallback_manager)\n\u001b[1;32m     70\u001b[0m     \u001b[38;5;28;01mif\u001b[39;00m embed_model\n\u001b[1;32m     71\u001b[0m     \u001b[38;5;28;01melse\u001b[39;00m embed_model_from_settings_or_context(Settings, service_context)\n\u001b[1;32m     72\u001b[0m )\n\u001b[1;32m     74\u001b[0m \u001b[38;5;28mself\u001b[39m\u001b[38;5;241m.\u001b[39m_insert_batch_size \u001b[38;5;241m=\u001b[39m insert_batch_size\n\u001b[0;32m---> 75\u001b[0m \u001b[38;5;28;43msuper\u001b[39;49m\u001b[43m(\u001b[49m\u001b[43m)\u001b[49m\u001b[38;5;241;43m.\u001b[39;49m\u001b[38;5;21;43m__init__\u001b[39;49m\u001b[43m(\u001b[49m\n\u001b[1;32m     76\u001b[0m \u001b[43m    \u001b[49m\u001b[43mnodes\u001b[49m\u001b[38;5;241;43m=\u001b[39;49m\u001b[43mnodes\u001b[49m\u001b[43m,\u001b[49m\n\u001b[1;32m     77\u001b[0m \u001b[43m    \u001b[49m\u001b[43mindex_struct\u001b[49m\u001b[38;5;241;43m=\u001b[39;49m\u001b[43mindex_struct\u001b[49m\u001b[43m,\u001b[49m\n\u001b[1;32m     78\u001b[0m \u001b[43m    \u001b[49m\u001b[43mservice_context\u001b[49m\u001b[38;5;241;43m=\u001b[39;49m\u001b[43mservice_context\u001b[49m\u001b[43m,\u001b[49m\n\u001b[1;32m     79\u001b[0m \u001b[43m    \u001b[49m\u001b[43mstorage_context\u001b[49m\u001b[38;5;241;43m=\u001b[39;49m\u001b[43mstorage_context\u001b[49m\u001b[43m,\u001b[49m\n\u001b[1;32m     80\u001b[0m \u001b[43m    \u001b[49m\u001b[43mshow_progress\u001b[49m\u001b[38;5;241;43m=\u001b[39;49m\u001b[43mshow_progress\u001b[49m\u001b[43m,\u001b[49m\n\u001b[1;32m     81\u001b[0m \u001b[43m    \u001b[49m\u001b[43mobjects\u001b[49m\u001b[38;5;241;43m=\u001b[39;49m\u001b[43mobjects\u001b[49m\u001b[43m,\u001b[49m\n\u001b[1;32m     82\u001b[0m \u001b[43m    \u001b[49m\u001b[43mcallback_manager\u001b[49m\u001b[38;5;241;43m=\u001b[39;49m\u001b[43mcallback_manager\u001b[49m\u001b[43m,\u001b[49m\n\u001b[1;32m     83\u001b[0m \u001b[43m    \u001b[49m\u001b[43mtransformations\u001b[49m\u001b[38;5;241;43m=\u001b[39;49m\u001b[43mtransformations\u001b[49m\u001b[43m,\u001b[49m\n\u001b[1;32m     84\u001b[0m \u001b[43m    \u001b[49m\u001b[38;5;241;43m*\u001b[39;49m\u001b[38;5;241;43m*\u001b[39;49m\u001b[43mkwargs\u001b[49m\u001b[43m,\u001b[49m\n\u001b[1;32m     85\u001b[0m \u001b[43m\u001b[49m\u001b[43m)\u001b[49m\n",
      "File \u001b[0;32m~/Code/Github/pubmedqa-benchmark/venv/lib/python3.12/site-packages/llama_index/core/indices/base.py:94\u001b[0m, in \u001b[0;36mBaseIndex.__init__\u001b[0;34m(self, nodes, objects, index_struct, storage_context, callback_manager, transformations, show_progress, service_context, **kwargs)\u001b[0m\n\u001b[1;32m     92\u001b[0m \u001b[38;5;28;01mif\u001b[39;00m index_struct \u001b[38;5;129;01mis\u001b[39;00m \u001b[38;5;28;01mNone\u001b[39;00m:\n\u001b[1;32m     93\u001b[0m     nodes \u001b[38;5;241m=\u001b[39m nodes \u001b[38;5;129;01mor\u001b[39;00m []\n\u001b[0;32m---> 94\u001b[0m     index_struct \u001b[38;5;241m=\u001b[39m \u001b[38;5;28;43mself\u001b[39;49m\u001b[38;5;241;43m.\u001b[39;49m\u001b[43mbuild_index_from_nodes\u001b[49m\u001b[43m(\u001b[49m\n\u001b[1;32m     95\u001b[0m \u001b[43m        \u001b[49m\u001b[43mnodes\u001b[49m\u001b[43m \u001b[49m\u001b[38;5;241;43m+\u001b[39;49m\u001b[43m \u001b[49m\u001b[43mobjects\u001b[49m\u001b[43m  \u001b[49m\u001b[38;5;66;43;03m# type: ignore\u001b[39;49;00m\n\u001b[1;32m     96\u001b[0m \u001b[43m    \u001b[49m\u001b[43m)\u001b[49m\n\u001b[1;32m     97\u001b[0m \u001b[38;5;28mself\u001b[39m\u001b[38;5;241m.\u001b[39m_index_struct \u001b[38;5;241m=\u001b[39m index_struct\n\u001b[1;32m     98\u001b[0m \u001b[38;5;28mself\u001b[39m\u001b[38;5;241m.\u001b[39m_storage_context\u001b[38;5;241m.\u001b[39mindex_store\u001b[38;5;241m.\u001b[39madd_index_struct(\u001b[38;5;28mself\u001b[39m\u001b[38;5;241m.\u001b[39m_index_struct)\n",
      "File \u001b[0;32m~/Code/Github/pubmedqa-benchmark/venv/lib/python3.12/site-packages/llama_index/core/indices/vector_store/base.py:308\u001b[0m, in \u001b[0;36mVectorStoreIndex.build_index_from_nodes\u001b[0;34m(self, nodes, **insert_kwargs)\u001b[0m\n\u001b[1;32m    300\u001b[0m \u001b[38;5;28;01mif\u001b[39;00m \u001b[38;5;28many\u001b[39m(\n\u001b[1;32m    301\u001b[0m     node\u001b[38;5;241m.\u001b[39mget_content(metadata_mode\u001b[38;5;241m=\u001b[39mMetadataMode\u001b[38;5;241m.\u001b[39mEMBED) \u001b[38;5;241m==\u001b[39m \u001b[38;5;124m\"\u001b[39m\u001b[38;5;124m\"\u001b[39m \u001b[38;5;28;01mfor\u001b[39;00m node \u001b[38;5;129;01min\u001b[39;00m nodes\n\u001b[1;32m    302\u001b[0m ):\n\u001b[1;32m    303\u001b[0m     \u001b[38;5;28;01mraise\u001b[39;00m \u001b[38;5;167;01mValueError\u001b[39;00m(\n\u001b[1;32m    304\u001b[0m         \u001b[38;5;124m\"\u001b[39m\u001b[38;5;124mCannot build index from nodes with no content. \u001b[39m\u001b[38;5;124m\"\u001b[39m\n\u001b[1;32m    305\u001b[0m         \u001b[38;5;124m\"\u001b[39m\u001b[38;5;124mPlease ensure all nodes have content.\u001b[39m\u001b[38;5;124m\"\u001b[39m\n\u001b[1;32m    306\u001b[0m     )\n\u001b[0;32m--> 308\u001b[0m \u001b[38;5;28;01mreturn\u001b[39;00m \u001b[38;5;28;43mself\u001b[39;49m\u001b[38;5;241;43m.\u001b[39;49m\u001b[43m_build_index_from_nodes\u001b[49m\u001b[43m(\u001b[49m\u001b[43mnodes\u001b[49m\u001b[43m,\u001b[49m\u001b[43m \u001b[49m\u001b[38;5;241;43m*\u001b[39;49m\u001b[38;5;241;43m*\u001b[39;49m\u001b[43minsert_kwargs\u001b[49m\u001b[43m)\u001b[49m\n",
      "File \u001b[0;32m~/Code/Github/pubmedqa-benchmark/venv/lib/python3.12/site-packages/llama_index/core/indices/vector_store/base.py:280\u001b[0m, in \u001b[0;36mVectorStoreIndex._build_index_from_nodes\u001b[0;34m(self, nodes, **insert_kwargs)\u001b[0m\n\u001b[1;32m    278\u001b[0m     run_async_tasks(tasks)\n\u001b[1;32m    279\u001b[0m \u001b[38;5;28;01melse\u001b[39;00m:\n\u001b[0;32m--> 280\u001b[0m     \u001b[38;5;28;43mself\u001b[39;49m\u001b[38;5;241;43m.\u001b[39;49m\u001b[43m_add_nodes_to_index\u001b[49m\u001b[43m(\u001b[49m\n\u001b[1;32m    281\u001b[0m \u001b[43m        \u001b[49m\u001b[43mindex_struct\u001b[49m\u001b[43m,\u001b[49m\n\u001b[1;32m    282\u001b[0m \u001b[43m        \u001b[49m\u001b[43mnodes\u001b[49m\u001b[43m,\u001b[49m\n\u001b[1;32m    283\u001b[0m \u001b[43m        \u001b[49m\u001b[43mshow_progress\u001b[49m\u001b[38;5;241;43m=\u001b[39;49m\u001b[38;5;28;43mself\u001b[39;49m\u001b[38;5;241;43m.\u001b[39;49m\u001b[43m_show_progress\u001b[49m\u001b[43m,\u001b[49m\n\u001b[1;32m    284\u001b[0m \u001b[43m        \u001b[49m\u001b[38;5;241;43m*\u001b[39;49m\u001b[38;5;241;43m*\u001b[39;49m\u001b[43minsert_kwargs\u001b[49m\u001b[43m,\u001b[49m\n\u001b[1;32m    285\u001b[0m \u001b[43m    \u001b[49m\u001b[43m)\u001b[49m\n\u001b[1;32m    286\u001b[0m \u001b[38;5;28;01mreturn\u001b[39;00m index_struct\n",
      "File \u001b[0;32m~/Code/Github/pubmedqa-benchmark/venv/lib/python3.12/site-packages/llama_index/core/indices/vector_store/base.py:233\u001b[0m, in \u001b[0;36mVectorStoreIndex._add_nodes_to_index\u001b[0;34m(self, index_struct, nodes, show_progress, **insert_kwargs)\u001b[0m\n\u001b[1;32m    230\u001b[0m     \u001b[38;5;28;01mreturn\u001b[39;00m\n\u001b[1;32m    232\u001b[0m \u001b[38;5;28;01mfor\u001b[39;00m nodes_batch \u001b[38;5;129;01min\u001b[39;00m iter_batch(nodes, \u001b[38;5;28mself\u001b[39m\u001b[38;5;241m.\u001b[39m_insert_batch_size):\n\u001b[0;32m--> 233\u001b[0m     nodes_batch \u001b[38;5;241m=\u001b[39m \u001b[38;5;28;43mself\u001b[39;49m\u001b[38;5;241;43m.\u001b[39;49m\u001b[43m_get_node_with_embedding\u001b[49m\u001b[43m(\u001b[49m\u001b[43mnodes_batch\u001b[49m\u001b[43m,\u001b[49m\u001b[43m \u001b[49m\u001b[43mshow_progress\u001b[49m\u001b[43m)\u001b[49m\n\u001b[1;32m    234\u001b[0m     new_ids \u001b[38;5;241m=\u001b[39m \u001b[38;5;28mself\u001b[39m\u001b[38;5;241m.\u001b[39m_vector_store\u001b[38;5;241m.\u001b[39madd(nodes_batch, \u001b[38;5;241m*\u001b[39m\u001b[38;5;241m*\u001b[39minsert_kwargs)\n\u001b[1;32m    236\u001b[0m     \u001b[38;5;28;01mif\u001b[39;00m \u001b[38;5;129;01mnot\u001b[39;00m \u001b[38;5;28mself\u001b[39m\u001b[38;5;241m.\u001b[39m_vector_store\u001b[38;5;241m.\u001b[39mstores_text \u001b[38;5;129;01mor\u001b[39;00m \u001b[38;5;28mself\u001b[39m\u001b[38;5;241m.\u001b[39m_store_nodes_override:\n\u001b[1;32m    237\u001b[0m         \u001b[38;5;66;03m# NOTE: if the vector store doesn't store text,\u001b[39;00m\n\u001b[1;32m    238\u001b[0m         \u001b[38;5;66;03m# we need to add the nodes to the index struct and document store\u001b[39;00m\n",
      "File \u001b[0;32m~/Code/Github/pubmedqa-benchmark/venv/lib/python3.12/site-packages/llama_index/core/indices/vector_store/base.py:141\u001b[0m, in \u001b[0;36mVectorStoreIndex._get_node_with_embedding\u001b[0;34m(self, nodes, show_progress)\u001b[0m\n\u001b[1;32m    130\u001b[0m \u001b[38;5;28;01mdef\u001b[39;00m \u001b[38;5;21m_get_node_with_embedding\u001b[39m(\n\u001b[1;32m    131\u001b[0m     \u001b[38;5;28mself\u001b[39m,\n\u001b[1;32m    132\u001b[0m     nodes: Sequence[BaseNode],\n\u001b[1;32m    133\u001b[0m     show_progress: \u001b[38;5;28mbool\u001b[39m \u001b[38;5;241m=\u001b[39m \u001b[38;5;28;01mFalse\u001b[39;00m,\n\u001b[1;32m    134\u001b[0m ) \u001b[38;5;241m-\u001b[39m\u001b[38;5;241m>\u001b[39m List[BaseNode]:\n\u001b[1;32m    135\u001b[0m \u001b[38;5;250m    \u001b[39m\u001b[38;5;124;03m\"\"\"Get tuples of id, node, and embedding.\u001b[39;00m\n\u001b[1;32m    136\u001b[0m \n\u001b[1;32m    137\u001b[0m \u001b[38;5;124;03m    Allows us to store these nodes in a vector store.\u001b[39;00m\n\u001b[1;32m    138\u001b[0m \u001b[38;5;124;03m    Embeddings are called in batches.\u001b[39;00m\n\u001b[1;32m    139\u001b[0m \n\u001b[1;32m    140\u001b[0m \u001b[38;5;124;03m    \"\"\"\u001b[39;00m\n\u001b[0;32m--> 141\u001b[0m     id_to_embed_map \u001b[38;5;241m=\u001b[39m \u001b[43membed_nodes\u001b[49m\u001b[43m(\u001b[49m\n\u001b[1;32m    142\u001b[0m \u001b[43m        \u001b[49m\u001b[43mnodes\u001b[49m\u001b[43m,\u001b[49m\u001b[43m \u001b[49m\u001b[38;5;28;43mself\u001b[39;49m\u001b[38;5;241;43m.\u001b[39;49m\u001b[43m_embed_model\u001b[49m\u001b[43m,\u001b[49m\u001b[43m \u001b[49m\u001b[43mshow_progress\u001b[49m\u001b[38;5;241;43m=\u001b[39;49m\u001b[43mshow_progress\u001b[49m\n\u001b[1;32m    143\u001b[0m \u001b[43m    \u001b[49m\u001b[43m)\u001b[49m\n\u001b[1;32m    145\u001b[0m     results \u001b[38;5;241m=\u001b[39m []\n\u001b[1;32m    146\u001b[0m     \u001b[38;5;28;01mfor\u001b[39;00m node \u001b[38;5;129;01min\u001b[39;00m nodes:\n",
      "File \u001b[0;32m~/Code/Github/pubmedqa-benchmark/venv/lib/python3.12/site-packages/llama_index/core/indices/utils.py:138\u001b[0m, in \u001b[0;36membed_nodes\u001b[0;34m(nodes, embed_model, show_progress)\u001b[0m\n\u001b[1;32m    135\u001b[0m     \u001b[38;5;28;01melse\u001b[39;00m:\n\u001b[1;32m    136\u001b[0m         id_to_embed_map[node\u001b[38;5;241m.\u001b[39mnode_id] \u001b[38;5;241m=\u001b[39m node\u001b[38;5;241m.\u001b[39membedding\n\u001b[0;32m--> 138\u001b[0m new_embeddings \u001b[38;5;241m=\u001b[39m \u001b[43membed_model\u001b[49m\u001b[38;5;241;43m.\u001b[39;49m\u001b[43mget_text_embedding_batch\u001b[49m\u001b[43m(\u001b[49m\n\u001b[1;32m    139\u001b[0m \u001b[43m    \u001b[49m\u001b[43mtexts_to_embed\u001b[49m\u001b[43m,\u001b[49m\u001b[43m \u001b[49m\u001b[43mshow_progress\u001b[49m\u001b[38;5;241;43m=\u001b[39;49m\u001b[43mshow_progress\u001b[49m\n\u001b[1;32m    140\u001b[0m \u001b[43m\u001b[49m\u001b[43m)\u001b[49m\n\u001b[1;32m    142\u001b[0m \u001b[38;5;28;01mfor\u001b[39;00m new_id, text_embedding \u001b[38;5;129;01min\u001b[39;00m \u001b[38;5;28mzip\u001b[39m(ids_to_embed, new_embeddings):\n\u001b[1;32m    143\u001b[0m     id_to_embed_map[new_id] \u001b[38;5;241m=\u001b[39m text_embedding\n",
      "File \u001b[0;32m~/Code/Github/pubmedqa-benchmark/venv/lib/python3.12/site-packages/llama_index/core/instrumentation/dispatcher.py:274\u001b[0m, in \u001b[0;36mDispatcher.span.<locals>.wrapper\u001b[0;34m(func, instance, args, kwargs)\u001b[0m\n\u001b[1;32m    270\u001b[0m \u001b[38;5;28mself\u001b[39m\u001b[38;5;241m.\u001b[39mspan_enter(\n\u001b[1;32m    271\u001b[0m     id_\u001b[38;5;241m=\u001b[39mid_, bound_args\u001b[38;5;241m=\u001b[39mbound_args, instance\u001b[38;5;241m=\u001b[39minstance, parent_id\u001b[38;5;241m=\u001b[39mparent_id\n\u001b[1;32m    272\u001b[0m )\n\u001b[1;32m    273\u001b[0m \u001b[38;5;28;01mtry\u001b[39;00m:\n\u001b[0;32m--> 274\u001b[0m     result \u001b[38;5;241m=\u001b[39m \u001b[43mfunc\u001b[49m\u001b[43m(\u001b[49m\u001b[38;5;241;43m*\u001b[39;49m\u001b[43margs\u001b[49m\u001b[43m,\u001b[49m\u001b[43m \u001b[49m\u001b[38;5;241;43m*\u001b[39;49m\u001b[38;5;241;43m*\u001b[39;49m\u001b[43mkwargs\u001b[49m\u001b[43m)\u001b[49m\n\u001b[1;32m    275\u001b[0m \u001b[38;5;28;01mexcept\u001b[39;00m \u001b[38;5;167;01mBaseException\u001b[39;00m \u001b[38;5;28;01mas\u001b[39;00m e:\n\u001b[1;32m    276\u001b[0m     \u001b[38;5;28mself\u001b[39m\u001b[38;5;241m.\u001b[39mevent(SpanDropEvent(span_id\u001b[38;5;241m=\u001b[39mid_, err_str\u001b[38;5;241m=\u001b[39m\u001b[38;5;28mstr\u001b[39m(e)))\n",
      "File \u001b[0;32m~/Code/Github/pubmedqa-benchmark/venv/lib/python3.12/site-packages/llama_index/core/base/embeddings/base.py:326\u001b[0m, in \u001b[0;36mBaseEmbedding.get_text_embedding_batch\u001b[0;34m(self, texts, show_progress, **kwargs)\u001b[0m\n\u001b[1;32m    317\u001b[0m dispatch_event(\n\u001b[1;32m    318\u001b[0m     EmbeddingStartEvent(\n\u001b[1;32m    319\u001b[0m         model_dict\u001b[38;5;241m=\u001b[39m\u001b[38;5;28mself\u001b[39m\u001b[38;5;241m.\u001b[39mto_dict(),\n\u001b[1;32m    320\u001b[0m     )\n\u001b[1;32m    321\u001b[0m )\n\u001b[1;32m    322\u001b[0m \u001b[38;5;28;01mwith\u001b[39;00m \u001b[38;5;28mself\u001b[39m\u001b[38;5;241m.\u001b[39mcallback_manager\u001b[38;5;241m.\u001b[39mevent(\n\u001b[1;32m    323\u001b[0m     CBEventType\u001b[38;5;241m.\u001b[39mEMBEDDING,\n\u001b[1;32m    324\u001b[0m     payload\u001b[38;5;241m=\u001b[39m{EventPayload\u001b[38;5;241m.\u001b[39mSERIALIZED: \u001b[38;5;28mself\u001b[39m\u001b[38;5;241m.\u001b[39mto_dict()},\n\u001b[1;32m    325\u001b[0m ) \u001b[38;5;28;01mas\u001b[39;00m event:\n\u001b[0;32m--> 326\u001b[0m     embeddings \u001b[38;5;241m=\u001b[39m \u001b[38;5;28;43mself\u001b[39;49m\u001b[38;5;241;43m.\u001b[39;49m\u001b[43m_get_text_embeddings\u001b[49m\u001b[43m(\u001b[49m\u001b[43mcur_batch\u001b[49m\u001b[43m)\u001b[49m\n\u001b[1;32m    327\u001b[0m     result_embeddings\u001b[38;5;241m.\u001b[39mextend(embeddings)\n\u001b[1;32m    328\u001b[0m     event\u001b[38;5;241m.\u001b[39mon_end(\n\u001b[1;32m    329\u001b[0m         payload\u001b[38;5;241m=\u001b[39m{\n\u001b[1;32m    330\u001b[0m             EventPayload\u001b[38;5;241m.\u001b[39mCHUNKS: cur_batch,\n\u001b[1;32m    331\u001b[0m             EventPayload\u001b[38;5;241m.\u001b[39mEMBEDDINGS: embeddings,\n\u001b[1;32m    332\u001b[0m         },\n\u001b[1;32m    333\u001b[0m     )\n",
      "File \u001b[0;32m~/Code/Github/pubmedqa-benchmark/venv/lib/python3.12/site-packages/llama_index/embeddings/nomic/base.py:124\u001b[0m, in \u001b[0;36mNomicEmbedding._get_text_embeddings\u001b[0;34m(self, texts)\u001b[0m\n\u001b[1;32m    122\u001b[0m \u001b[38;5;28;01mdef\u001b[39;00m \u001b[38;5;21m_get_text_embeddings\u001b[39m(\u001b[38;5;28mself\u001b[39m, texts: List[\u001b[38;5;28mstr\u001b[39m]) \u001b[38;5;241m-\u001b[39m\u001b[38;5;241m>\u001b[39m List[List[\u001b[38;5;28mfloat\u001b[39m]]:\n\u001b[1;32m    123\u001b[0m \u001b[38;5;250m    \u001b[39m\u001b[38;5;124;03m\"\"\"Get text embeddings.\"\"\"\u001b[39;00m\n\u001b[0;32m--> 124\u001b[0m     \u001b[38;5;28;01mreturn\u001b[39;00m \u001b[38;5;28;43mself\u001b[39;49m\u001b[38;5;241;43m.\u001b[39;49m\u001b[43m_embed\u001b[49m\u001b[43m(\u001b[49m\u001b[43mtexts\u001b[49m\u001b[43m,\u001b[49m\u001b[43m \u001b[49m\u001b[43mtask_type\u001b[49m\u001b[38;5;241;43m=\u001b[39;49m\u001b[38;5;28;43mself\u001b[39;49m\u001b[38;5;241;43m.\u001b[39;49m\u001b[43mdocument_task_type\u001b[49m\u001b[43m)\u001b[49m\n",
      "File \u001b[0;32m~/Code/Github/pubmedqa-benchmark/venv/lib/python3.12/site-packages/llama_index/embeddings/nomic/base.py:98\u001b[0m, in \u001b[0;36mNomicEmbedding._embed\u001b[0;34m(self, texts, task_type)\u001b[0m\n\u001b[1;32m     94\u001b[0m \u001b[38;5;28;01mdef\u001b[39;00m \u001b[38;5;21m_embed\u001b[39m(\n\u001b[1;32m     95\u001b[0m     \u001b[38;5;28mself\u001b[39m, texts: List[\u001b[38;5;28mstr\u001b[39m], task_type: Optional[\u001b[38;5;28mstr\u001b[39m] \u001b[38;5;241m=\u001b[39m \u001b[38;5;28;01mNone\u001b[39;00m\n\u001b[1;32m     96\u001b[0m ) \u001b[38;5;241m-\u001b[39m\u001b[38;5;241m>\u001b[39m List[List[\u001b[38;5;28mfloat\u001b[39m]]:\n\u001b[1;32m     97\u001b[0m \u001b[38;5;250m    \u001b[39m\u001b[38;5;124;03m\"\"\"Embed sentences using NomicAI.\"\"\"\u001b[39;00m\n\u001b[0;32m---> 98\u001b[0m     result \u001b[38;5;241m=\u001b[39m \u001b[38;5;28;43mself\u001b[39;49m\u001b[38;5;241;43m.\u001b[39;49m\u001b[43m_model\u001b[49m\u001b[38;5;241;43m.\u001b[39;49m\u001b[43mtext\u001b[49m\u001b[43m(\u001b[49m\n\u001b[1;32m     99\u001b[0m \u001b[43m        \u001b[49m\u001b[43mtexts\u001b[49m\u001b[43m,\u001b[49m\n\u001b[1;32m    100\u001b[0m \u001b[43m        \u001b[49m\u001b[43mmodel\u001b[49m\u001b[38;5;241;43m=\u001b[39;49m\u001b[38;5;28;43mself\u001b[39;49m\u001b[38;5;241;43m.\u001b[39;49m\u001b[43mmodel_name\u001b[49m\u001b[43m,\u001b[49m\n\u001b[1;32m    101\u001b[0m \u001b[43m        \u001b[49m\u001b[43mtask_type\u001b[49m\u001b[38;5;241;43m=\u001b[39;49m\u001b[43mtask_type\u001b[49m\u001b[43m,\u001b[49m\n\u001b[1;32m    102\u001b[0m \u001b[43m        \u001b[49m\u001b[43mdimensionality\u001b[49m\u001b[38;5;241;43m=\u001b[39;49m\u001b[38;5;28;43mself\u001b[39;49m\u001b[38;5;241;43m.\u001b[39;49m\u001b[43mdimensionality\u001b[49m\u001b[43m,\u001b[49m\n\u001b[1;32m    103\u001b[0m \u001b[43m    \u001b[49m\u001b[43m)\u001b[49m\n\u001b[1;32m    104\u001b[0m     \u001b[38;5;28;01mreturn\u001b[39;00m result[\u001b[38;5;124m\"\u001b[39m\u001b[38;5;124membeddings\u001b[39m\u001b[38;5;124m\"\u001b[39m]\n",
      "File \u001b[0;32m~/Code/Github/pubmedqa-benchmark/venv/lib/python3.12/site-packages/nomic/embed.py:99\u001b[0m, in \u001b[0;36mtext\u001b[0;34m(texts, model, task_type, dimensionality, long_text_mode)\u001b[0m\n\u001b[1;32m     96\u001b[0m     futures\u001b[38;5;241m.\u001b[39mappend(executor\u001b[38;5;241m.\u001b[39msubmit(text_api_request, chunk, model, task_type, dimensionality, long_text_mode))\n\u001b[1;32m     98\u001b[0m \u001b[38;5;28;01mfor\u001b[39;00m future \u001b[38;5;129;01min\u001b[39;00m futures:\n\u001b[0;32m---> 99\u001b[0m     response \u001b[38;5;241m=\u001b[39m \u001b[43mfuture\u001b[49m\u001b[38;5;241;43m.\u001b[39;49m\u001b[43mresult\u001b[49m\u001b[43m(\u001b[49m\u001b[43m)\u001b[49m\n\u001b[1;32m    100\u001b[0m     \u001b[38;5;28;01massert\u001b[39;00m response[\u001b[38;5;124m'\u001b[39m\u001b[38;5;124mmodel\u001b[39m\u001b[38;5;124m'\u001b[39m] \u001b[38;5;241m==\u001b[39m model\n\u001b[1;32m    101\u001b[0m     combined[\u001b[38;5;124m'\u001b[39m\u001b[38;5;124membeddings\u001b[39m\u001b[38;5;124m'\u001b[39m] \u001b[38;5;241m+\u001b[39m\u001b[38;5;241m=\u001b[39m response[\u001b[38;5;124m'\u001b[39m\u001b[38;5;124membeddings\u001b[39m\u001b[38;5;124m'\u001b[39m]\n",
      "File \u001b[0;32m~/opt/anaconda3/envs/diabetes-dev/lib/python3.12/concurrent/futures/_base.py:451\u001b[0m, in \u001b[0;36mFuture.result\u001b[0;34m(self, timeout)\u001b[0m\n\u001b[1;32m    448\u001b[0m \u001b[38;5;28;01melif\u001b[39;00m \u001b[38;5;28mself\u001b[39m\u001b[38;5;241m.\u001b[39m_state \u001b[38;5;241m==\u001b[39m FINISHED:\n\u001b[1;32m    449\u001b[0m     \u001b[38;5;28;01mreturn\u001b[39;00m \u001b[38;5;28mself\u001b[39m\u001b[38;5;241m.\u001b[39m__get_result()\n\u001b[0;32m--> 451\u001b[0m \u001b[38;5;28;43mself\u001b[39;49m\u001b[38;5;241;43m.\u001b[39;49m\u001b[43m_condition\u001b[49m\u001b[38;5;241;43m.\u001b[39;49m\u001b[43mwait\u001b[49m\u001b[43m(\u001b[49m\u001b[43mtimeout\u001b[49m\u001b[43m)\u001b[49m\n\u001b[1;32m    453\u001b[0m \u001b[38;5;28;01mif\u001b[39;00m \u001b[38;5;28mself\u001b[39m\u001b[38;5;241m.\u001b[39m_state \u001b[38;5;129;01min\u001b[39;00m [CANCELLED, CANCELLED_AND_NOTIFIED]:\n\u001b[1;32m    454\u001b[0m     \u001b[38;5;28;01mraise\u001b[39;00m CancelledError()\n",
      "File \u001b[0;32m~/opt/anaconda3/envs/diabetes-dev/lib/python3.12/threading.py:355\u001b[0m, in \u001b[0;36mCondition.wait\u001b[0;34m(self, timeout)\u001b[0m\n\u001b[1;32m    353\u001b[0m \u001b[38;5;28;01mtry\u001b[39;00m:    \u001b[38;5;66;03m# restore state no matter what (e.g., KeyboardInterrupt)\u001b[39;00m\n\u001b[1;32m    354\u001b[0m     \u001b[38;5;28;01mif\u001b[39;00m timeout \u001b[38;5;129;01mis\u001b[39;00m \u001b[38;5;28;01mNone\u001b[39;00m:\n\u001b[0;32m--> 355\u001b[0m         \u001b[43mwaiter\u001b[49m\u001b[38;5;241;43m.\u001b[39;49m\u001b[43macquire\u001b[49m\u001b[43m(\u001b[49m\u001b[43m)\u001b[49m\n\u001b[1;32m    356\u001b[0m         gotit \u001b[38;5;241m=\u001b[39m \u001b[38;5;28;01mTrue\u001b[39;00m\n\u001b[1;32m    357\u001b[0m     \u001b[38;5;28;01melse\u001b[39;00m:\n",
      "\u001b[0;31mKeyboardInterrupt\u001b[0m: "
     ]
    }
   ],
   "source": [
    "documents = SimpleDirectoryReader(\"./data/test/\").load_data()\n",
    "nomic_api_key = os.environ.get(\"NOMIC_API_KEY\")\n",
    "embed_model = NomicEmbedding(\n",
    "    api_key=nomic_api_key,\n",
    "    model_name=\"nomic-embed-text-v1\",\n",
    "    task_type=\"search_document\"\n",
    ")\n",
    "service_context = ServiceContext.from_defaults(\n",
    "    embed_model=embed_model, chunk_size=1024,\n",
    ")\n",
    "index = VectorStoreIndex.from_documents(\n",
    "    documents=documents, service_context=service_context, show_progress=True\n",
    ")\n"
   ]
  },
  {
   "cell_type": "code",
   "execution_count": 77,
   "metadata": {},
   "outputs": [
    {
     "name": "stderr",
     "output_type": "stream",
     "text": [
      "/var/folders/wv/b_h63k2j0997cxn743g60jn40000gn/T/ipykernel_38252/3146419878.py:7: DeprecationWarning: Call to deprecated class method from_defaults. (ServiceContext is deprecated, please use `llama_index.settings.Settings` instead.) -- Deprecated since version 0.10.0.\n",
      "  service_context = ServiceContext.from_defaults(\n"
     ]
    }
   ],
   "source": [
    "embed_model = NomicEmbedding(\n",
    "    api_key=nomic_api_key,\n",
    "    model_name=\"nomic-embed-text-v1\",\n",
    "    task_type=\"search_query\"\n",
    ")\n",
    "\n",
    "service_context = ServiceContext.from_defaults(\n",
    "    embed_model=embed_model\n",
    ")\n",
    "\n",
    "index = VectorStoreIndex.from_documents(documents, embedding_model=embed_model)\n",
    "#search_query_retriever = index.as_retriever(service_context=service_context, similarity_top_k=2)"
   ]
  },
  {
   "cell_type": "code",
   "execution_count": 82,
   "metadata": {},
   "outputs": [],
   "source": [
    "# configure retriever\n",
    "retriever = VectorIndexRetriever(\n",
    "    index=index,\n",
    "    similarity_top_k=3,\n",
    ")\n",
    "\n",
    "# configure response synthesizer\n",
    "response_synthesizer = get_response_synthesizer()\n",
    "\n",
    "# assemble query engine\n",
    "query_engine = RetrieverQueryEngine(\n",
    "    retriever=retriever,\n",
    "    response_synthesizer=response_synthesizer,\n",
    "    node_postprocessors=[SimilarityPostprocessor(similarity_cutoff=0.7)],\n",
    ")"
   ]
  },
  {
   "cell_type": "code",
   "execution_count": 83,
   "metadata": {},
   "outputs": [
    {
     "name": "stdout",
     "output_type": "stream",
     "text": [
      "The effectiveness of alternative medicine was analyzed in a study involving 150 inflammatory bowel disease (IBD) patients. The study found that 60% of the patients used alternative and complementary therapies (ACM), with 31% using exercise, diet, and prayer exclusively. Patients reported subjective benefits from these therapies, with 95% feeling helped by trials of exercise, diet, and prayer, compared to 67% feeling helped by other ACM. Additionally, ACM was sought for various symptoms such as pain/cramps, diarrhea, and gas/bloating, with diet being the most commonly used therapy.\n"
     ]
    }
   ],
   "source": [
    "response = query_engine.query(\"What is the effectiveness of alternative medicine?\")\n",
    "print(response)"
   ]
  },
  {
   "cell_type": "markdown",
   "metadata": {},
   "source": []
  },
  {
   "cell_type": "markdown",
   "metadata": {},
   "source": [
    "# Mistral Eval + RAG"
   ]
  },
  {
   "cell_type": "code",
   "execution_count": 24,
   "metadata": {},
   "outputs": [],
   "source": [
    "import json\n",
    "import os\n",
    "import matplotlib.pyplot as plt\n",
    "import glob\n",
    "from openai import OpenAI\n",
    "import requests\n",
    "from sklearn.metrics import accuracy_score, f1_score, precision_score, recall_score\n",
    "import numpy as np"
   ]
  },
  {
   "cell_type": "code",
   "execution_count": 25,
   "metadata": {},
   "outputs": [],
   "source": [
    "from dotenv import load_dotenv\n",
    "load_dotenv()\n",
    "open_api_key = os.getenv(\"OPENAI_API_KEY\")"
   ]
  },
  {
   "cell_type": "code",
   "execution_count": 28,
   "metadata": {},
   "outputs": [],
   "source": [
    "def prompt(payload):\n",
    "    headers = {\n",
    "        \"Content-Type\": \"application/json\",\n",
    "        \"Authorization\": f\"Bearer {open_api_key}\"\n",
    "    }\n",
    "\n",
    "    try:\n",
    "        resp = requests.post(\"https://api.openai.com/v1/chat/completions\", \n",
    "                             headers=headers, json=payload)\n",
    "        data = resp.json()\n",
    "        resp_dict = data['choices'][0]['message']['content']\n",
    "\n",
    "        return resp_dict\n",
    "    \n",
    "    except requests.exceptions.HTTPError as http_err:\n",
    "        print(f\"HTTP error occurred: {http_err}\")\n",
    "    except requests.exceptions.RequestException as err:\n",
    "        print(f\"An error occurred: {err}\")\n",
    "    except KeyError as key_err:\n",
    "        print(f\"Key error: {key_err} - the structure of the response might not be as expected.\")\n",
    "    \n",
    "    return None"
   ]
  },
  {
   "cell_type": "code",
   "execution_count": 32,
   "metadata": {},
   "outputs": [
    {
     "data": {
      "text/plain": [
       "(1000, 500)"
      ]
     },
     "execution_count": 32,
     "metadata": {},
     "output_type": "execute_result"
    }
   ],
   "source": [
    "# load the data as current dir (one level up) + data folder + file \n",
    "data = json.load(open('../pubmedqa/data/ori_pqal.json'))\n",
    "labels = json.load(open('../pubmedqa/data/test_ground_truth.json'))\n",
    "len(data), len(labels)"
   ]
  },
  {
   "cell_type": "code",
   "execution_count": 42,
   "metadata": {},
   "outputs": [
    {
     "name": "stdout",
     "output_type": "stream",
     "text": [
      "Retrieving nodes for question: Do mitochondria play a role in remodelling lace plant leaves during programmed cell death? ...\n",
      "Retrieved nodes: [NodeWithScore(node=TextNode(id_='c76b30f6-3a7e-4efd-9539-9b12d2a1969a', embedding=None, metadata={'file_path': '/Users/jcllobet/Code/Github/pubmedqa-benchmark/data/test/qapairs_pqau_split_part_1.json', 'file_name': 'qapairs_pqau_split_part_1.json', 'file_type': 'application/json', 'file_size': 21285280, 'creation_date': '2024-04-11', 'last_modified_date': '2024-04-11'}, excluded_embed_metadata_keys=['file_name', 'file_type', 'file_size', 'creation_date', 'last_modified_date', 'last_accessed_date'], excluded_llm_metadata_keys=['file_name', 'file_type', 'file_size', 'creation_date', 'last_modified_date', 'last_accessed_date'], relationships={<NodeRelationship.SOURCE: '1'>: RelatedNodeInfo(node_id='f971a2fe-32a7-4dac-9d81-cd8550c7a27d', node_type=<ObjectType.DOCUMENT: '4'>, metadata={'file_path': '/Users/jcllobet/Code/Github/pubmedqa-benchmark/data/test/qapairs_pqau_split_part_1.json', 'file_name': 'qapairs_pqau_split_part_1.json', 'file_type': 'application/json', 'file_size': 21285280, 'creation_date': '2024-04-11', 'last_modified_date': '2024-04-11'}, hash='6051189eea3f5329fd4923561464b1aa0333c5a19a0d057b5d22f6c3f06acc1a'), <NodeRelationship.PREVIOUS: '2'>: RelatedNodeInfo(node_id='5e48a107-40c1-4377-a175-9e02286b0e37', node_type=<ObjectType.TEXT: '1'>, metadata={'file_path': '/Users/jcllobet/Code/Github/pubmedqa-benchmark/data/test/qapairs_pqau_split_part_1.json', 'file_name': 'qapairs_pqau_split_part_1.json', 'file_type': 'application/json', 'file_size': 21285280, 'creation_date': '2024-04-11', 'last_modified_date': '2024-04-11'}, hash='ddcc469cc004cb3b9f281f01e9dddc997e2b390a737e0b3f48463ba2e48f45fe'), <NodeRelationship.NEXT: '3'>: RelatedNodeInfo(node_id='77fac6ab-75fa-4371-8a65-26debc75042e', node_type=<ObjectType.TEXT: '1'>, metadata={}, hash='4e248898a6e5f8ad278100c3af5e5bc5548b0c0b3871f6b4f3b3334d4f15859d')}, text='\",\\n        \"On the first post-operative day, only FBS (P = 0.01) and TIS (P = 0.04) showed significant difference favoring MISS. At 2-3 weeks, redness (P = 0.04), congestion (P = 0.04), FBS (P = 0.02), and TIS (P = 0.04) were significantly less in MISS eye. At 6 weeks, only redness (P = 0.04) and TIS (P = 0.05) were significantly less.\"\\n    ],\\n    [\\n        \"Although mitochondrial dysfunction is thought to contribute to the development of posttraumatic organ failure, current techniques to assess mitochondrial function in tissues are invasive and clinically impractical. We hypothesized that mitochondrial function in peripheral blood mononuclear cells (PBMCs) would reflect cellular respiration in other organs during hemorrhagic shock and resuscitation.\",\\n        \"Using a fixed-pressure HS model, Long-Evans rats were bled to a mean arterial pressure of 40 mmHg. When blood pressure could no longer be sustained without intermittent fluid infusion (decompensated HS), lactated Ringer\\'s solution was incrementally infused to maintain the mean arterial pressure at 40 mmHg until 40% of the shed blood volume was returned (severe HS). Animals were then resuscitated with 4\\\\u00d7 total shed volume in lactated Ringer\\'s solution over 60 min (resuscitation). Control animals underwent the same surgical procedures, but were not hemorrhaged. Animals were randomized to control (n = 6), decompensated HS (n = 6), severe HS (n = 6), or resuscitation (n = 6) groups. Kidney, liver, and heart tissues as well as PBMCs were harvested from animals in each group to measure mitochondrial oxygen consumption using high-resolution respirometry. Flow cytometry was used to assess mitochondrial membrane potential (\\\\u03a8m) in PBMCs. One-way analysis of variance and Pearson correlations were performed.\",\\n        \"Mitochondrial oxygen consumption decreased in all tissues, including PBMCs, following decompensated HS, severe HS, and resuscitation. However, the degree of impairment varied significantly across tissues during hemorrhagic shock and resuscitation. Of the tissues investigated, PBMC mitochondrial oxygen consumption and \\\\u03a8m provided the closest correlation to kidney mitochondrial function during HS (complex I: r = 0.65; complex II: r = 0.65; complex IV: r = 0.52; P<0.05). This association, however, disappeared with resuscitation. A weaker association between PBMC and heart mitochondrial function was observed, but no association was noted between PBMC and liver mitochondrial function.\"\\n    ],\\n    [\\n        \"Lipoprotein-associated phospholipase A2 (Lp-PLA2) is a specific biomarker specific for vascular inflammation. Inflammation has a significant association with plaque progression. The fibrous-cap thickness (FCT) is one of the major determinants of plaque vulnerability in atherosclerotic plaques. However, data on the relationship between Lp-PLA2 activity and FCT in lipid plaque are limited. This study aimed to evaluate the in-vivo association between changes in Lp-PLA2 activity and FCT and plaque volume in patients with acute coronary syndrome (ACS).\",\\n        \"Twenty-four consecutive patients with ACS were enrolled between May 2010 and May 2012. The plaque volume and FCT of nonculprit lipid-rich plaques were assessed by intravascular ultrasound and optical coherence tomography, respectively, at baseline and after 12 months. Lp-PLA2 activity was determined using the colorimetric assay kit.\",\\n        \"During the 12 months of observation, FCT increased significantly from baseline to follow-up, with a mean percent change of 74.4\\\\u00b146.8%. A significant correlation was observed between changes in Lp-PLA2 activity and changes in FCT (r=-0.56, P=0.006). Changes in plaque volume were also correlated significantly with changes in Lp-PLA2 activity during the study period (r=0.52, P=0.01).\"\\n    ],\\n    [\\n        \"Previous studies have identified missed injuries as a common and potentially preventable occurrence in trauma care.', start_char_idx=19654414, end_char_idx=19658374, text_template='{metadata_str}\\n\\n{content}', metadata_template='{key}: {value}', metadata_seperator='\\n'), score=0.546839319702907), NodeWithScore(node=TextNode(id_='008daa48-5473-4c42-ae48-42ee4183c2ed', embedding=None, metadata={'file_path': '/Users/jcllobet/Code/Github/pubmedqa-benchmark/data/test/qapairs_pqau_split_part_1.json', 'file_name': 'qapairs_pqau_split_part_1.json', 'file_type': 'application/json', 'file_size': 21285280, 'creation_date': '2024-04-11', 'last_modified_date': '2024-04-11'}, excluded_embed_metadata_keys=['file_name', 'file_type', 'file_size', 'creation_date', 'last_modified_date', 'last_accessed_date'], excluded_llm_metadata_keys=['file_name', 'file_type', 'file_size', 'creation_date', 'last_modified_date', 'last_accessed_date'], relationships={<NodeRelationship.SOURCE: '1'>: RelatedNodeInfo(node_id='f971a2fe-32a7-4dac-9d81-cd8550c7a27d', node_type=<ObjectType.DOCUMENT: '4'>, metadata={'file_path': '/Users/jcllobet/Code/Github/pubmedqa-benchmark/data/test/qapairs_pqau_split_part_1.json', 'file_name': 'qapairs_pqau_split_part_1.json', 'file_type': 'application/json', 'file_size': 21285280, 'creation_date': '2024-04-11', 'last_modified_date': '2024-04-11'}, hash='6051189eea3f5329fd4923561464b1aa0333c5a19a0d057b5d22f6c3f06acc1a'), <NodeRelationship.PREVIOUS: '2'>: RelatedNodeInfo(node_id='cd3a1c2f-71ff-499f-b4d5-098d81efece3', node_type=<ObjectType.TEXT: '1'>, metadata={'file_path': '/Users/jcllobet/Code/Github/pubmedqa-benchmark/data/test/qapairs_pqau_split_part_1.json', 'file_name': 'qapairs_pqau_split_part_1.json', 'file_type': 'application/json', 'file_size': 21285280, 'creation_date': '2024-04-11', 'last_modified_date': '2024-04-11'}, hash='b390c98b664e00ee3764bdbd936320c64b2c4ce9c38c46c9bd1212c36da11ee6'), <NodeRelationship.NEXT: '3'>: RelatedNodeInfo(node_id='c0577a20-6763-46f4-b6e6-68d7b6ba1e59', node_type=<ObjectType.TEXT: '1'>, metadata={}, hash='f41269e43dc776b7982420d86344606a4c9189afc0128dbb5c4ec338a39a2d9b')}, text='Enzymes of interest for the present study were: glutathione transferase (GST), glutathione reductase, ascorbate peroxidase and peroxidase. Measurements were performed according to published methods. GST spectrophotometric assays included the model substrates CDNB, DCNB, NBC, NBoC and the herbicide Fluorodifen.\",\\n        \"Heavy metals lead to visible stress symptoms in higher plants. Besides one long-term experiment of 72 days duration, the present study shows time and concentration-dependent plant alterations already after 24 and 72 h Cd incubation. P. abies spruce cell cultures react to CdSO(4) and Na(2)HAsO(4) with an oxidative burst, similar to that observed after pathogen attack or elicitor treatment. Cd application resulted in a reduction in GSH and GSSG contents. When a heavy metal mixture containing Na(2)HAsO(4), CdSO(4) and PbCl(2) was applied to cultures, both GSH and GSSG levels declined. Incubation with 80 microM arsenic alone doubled GSSG values. Based on these results, further experiments were performed in whole plants of cattail and reed, using cadmium in Phragmites and cadmium and arsenic in Typha as inducers of stress. In Phragmites australis, GST activities for CDNB and DCNB were significantly reduced after short-term Cd exposure (24 h). In the same samples, all antioxidant enzymes increased with rising heavy metal concentrations. Typha latifolia rhizome incubation with Cd and As leads to an increase in glutathione reductase and total peroxidase activity and to a decrease in ascorbate peroxidase activity. Measurements of the same enzymes in leaves of the same plants show increased GR activities, but no change in peroxidases. GST conjugation for CDNB was depressed in both cattail rhizomes and leaves treated with Cd. After As application increased, DCNB enzyme activities were detected.\",\\n        \"T. latifolia and P. australis are powerful species for phytoremediation because they penetrate a large volume of soil with their extensive root and rhizome systems. However, an effective remediation process will depend on active detoxifying enzymes, and also on the availability of conjugation partners, e.g. glutathione and its analogues. Species-specific differences seem to exist between the regulations of primary defence enzymes like SOD, catalase, peroxidases, whereas others prefer to induce the glutathione-dependent enzymes. As long as the pollutant mix encountered is simple and dominated by heavy metals, plant defence might be sufficient. When pollution plumes contain heavy metals and organic xenobiotics at the same time, this means that part of the detoxification capacity, at least of glutathione-conjugating reactions, is withdrawn from the heavy metal front to serve other purposes. In fact, glutathione S-transferases show strong reactions in stressed plants or in the presence of heavy metals. The spruce cell culture was a perfect model system to study short-term responses on heavy metal impact. Overall, and on the canopy level, this inhibitory effect might result in a lower detoxification capacity for organic pollutants and thus interfere with phytoremediation.\"\\n    ],\\n    [\\n        \"The relationship between systemic arterial stiffness and parameters of cerebral circulation is poorly understood. We aimed to assess the relation between pulsatility (PI) and resistance (RI) indexes of the middle cerebral artery (MCA) and aortic pulse wave velocity (PWV) and brachial pulse pressure (PP).\",\\n        \"Bilateral transcranial Doppler ultrasound (TCD) examination of the MCAs was performed using the GE Vivid 3 Ultrasound, equipped with a 2.5-MHz probe and PI and RI were calculated. Aortic PWV was obtained with the Complior device (Colson France). Conventional blood pressures were measured at the time of TCD. Data regarding risk-profile constituents, habits and medication use were recorded. Subjects with occlusion or significant stenosis of carotid arteries or MCA, previous or acute stroke, temporary ischaemic attack, bilaterally absent transtemporal sonographic windows, dysrhythmia, haematocrit value<30% or>48% were excluded.', start_char_idx=16936038, end_char_idx=16940141, text_template='{metadata_str}\\n\\n{content}', metadata_template='{key}: {value}', metadata_seperator='\\n'), score=0.5461712110832945), NodeWithScore(node=TextNode(id_='cacac492-8064-4811-972b-812c0a4f5d98', embedding=None, metadata={'file_path': '/Users/jcllobet/Code/Github/pubmedqa-benchmark/data/test/qapairs_pqau_split_part_1.json', 'file_name': 'qapairs_pqau_split_part_1.json', 'file_type': 'application/json', 'file_size': 21285280, 'creation_date': '2024-04-11', 'last_modified_date': '2024-04-11'}, excluded_embed_metadata_keys=['file_name', 'file_type', 'file_size', 'creation_date', 'last_modified_date', 'last_accessed_date'], excluded_llm_metadata_keys=['file_name', 'file_type', 'file_size', 'creation_date', 'last_modified_date', 'last_accessed_date'], relationships={<NodeRelationship.SOURCE: '1'>: RelatedNodeInfo(node_id='f971a2fe-32a7-4dac-9d81-cd8550c7a27d', node_type=<ObjectType.DOCUMENT: '4'>, metadata={'file_path': '/Users/jcllobet/Code/Github/pubmedqa-benchmark/data/test/qapairs_pqau_split_part_1.json', 'file_name': 'qapairs_pqau_split_part_1.json', 'file_type': 'application/json', 'file_size': 21285280, 'creation_date': '2024-04-11', 'last_modified_date': '2024-04-11'}, hash='6051189eea3f5329fd4923561464b1aa0333c5a19a0d057b5d22f6c3f06acc1a'), <NodeRelationship.PREVIOUS: '2'>: RelatedNodeInfo(node_id='d2851e93-b097-4748-8616-68f09bfe9dc2', node_type=<ObjectType.TEXT: '1'>, metadata={'file_path': '/Users/jcllobet/Code/Github/pubmedqa-benchmark/data/test/qapairs_pqau_split_part_1.json', 'file_name': 'qapairs_pqau_split_part_1.json', 'file_type': 'application/json', 'file_size': 21285280, 'creation_date': '2024-04-11', 'last_modified_date': '2024-04-11'}, hash='ec2619d20360696cb6695757ac04fa1e23177aee43c92722a9254ecb9023ce79'), <NodeRelationship.NEXT: '3'>: RelatedNodeInfo(node_id='10b8ebea-3b90-4c98-8d1d-a56ffa476c44', node_type=<ObjectType.TEXT: '1'>, metadata={}, hash='f7b344facd7c9b46d01a3f928e6e67dc2319e745aa29b74cdc1156e1dc0be61b')}, text='Improved cognition and a favourable perception in the caregivers were detected. No changes took place in the biological or behavioural variables.\"\\n    ],\\n    [\\n        \"Many tropical forest tree species delay greening their leaves until full expansion. This strategy is thought to provide newly flushing leaves with protection against damage by herbivores by keeping young leaves devoid of nutritive value. Because young leaves suffer the greatest predation from invertebrate herbivores, delayed greening could prevent costly tissue loss. Many species that delay greening also produce anthocyanin pigments in their new leaves, giving them a reddish tint. These anthocyanins may be fungicidal, protect leaves against UV damage or make leaves cryptic to herbivores blind to the red part of the spectrum.\",\\n        \"A comprehensive survey was undertaken of seedlings, saplings and mature trees in two diverse tropical forests: a rain forest in western Amazonia (Yasun\\\\u00ed National Park, Ecuador) and a deciduous forest in Central America (Barro Colorado Island, Panam\\\\u00e1). A test was made of whether individuals and species with delayed greening or red-coloured young leaves showed lower mortality or higher relative growth rates than species that did not.\",\\n        \"At both Yasun\\\\u00ed and Barro Colorado Island, species with delayed greening or red young leaves comprised significant proportions of the seedling and tree communities. At both sites, significantly lower mortality was found in seedlings and trees with delayed greening and red-coloured young leaves. While there was little effect of leaf colour on the production of new leaves of seedlings, diameter relative growth rates of small trees were lower in species with delayed greening and red-coloured young leaves than in species with regular green leaves, and this effect remained when the trade-off between mortality and growth was accounted for.\"\\n    ],\\n    [\\n        \"Contemporary rates of postoperative hemorrhage after partial nephrectomy (PN) are low. Commercially available hemostatic agents are commonly used during this surgery to reduce this risk despite a paucity of data supporting the practice. We assessed the impact of fibrin sealant hemostatic agents, a costly addition to surgeries, during robot-assisted partial nephrectomy (RAPN).\",\\n        \"Between 2007 and 2011, 114 consecutive patients underwent RAPN by a single surgeon (MEA). Evicel fibrin sealant was used in the first 74 patients during renorraphy. The last 40 patients had renorraphy performed without the use of any hemostatic agents. Clinicopathologic, operative, and complication data were compared between groups. Multivariate and univariate logistic regression analysis was performed to test the association between the use of fibrin sealants and operative outcomes.\",\\n        \"Patient demographic data and clinical tumor characteristics were similar between groups. The use of fibrin sealant did not increase operative time (166.3 vs 176.1 minutes, P=0.28), warm ischemia time (WIT) (14.4 vs 16.1 minutes, P=0.18), or length of hospital stay (2.6 vs 2.4 days, P=0.35). The omission of these agents did not increase estimated blood loss (116.6 vs 176.1\\\\u2009mL, P=0.8) or postoperative blood transfusion (0% vs 2.5%, P=0.17). Univariate analysis demonstrated no association between use of fibrin sealants and increased complications (P>0.05). Multivariable logistic regression showed no statistically significant predictive value of omission of hemostatic agents for perioperative outcomes (P>0.05).\"\\n    ],\\n    [\\n        \"The purpose of this study was to identify the essential number of phases from multiphasic CT for 1- to 2-cm hepatocellular carcinoma (HCC) on surveillance ultrasound and to compare the results with the American Association for the Study of Liver Disease (AASLD) standard (arterial phase hypervascularity and portal venous phase [PVP] or delayed phase hypovascularity).\",\\n        \"The study included 110 newly detected nodules (1-2 cm; 36 HCC, 74 benign) in 96 patients detected in an HCC surveillance program. Three radiologists prospectively evaluated the attenuation of each nodule relative to the liver on each phase of quadriphasic CT. Univariate and multivariate logistic regression analyses were used to identify parameters associated with HCC. Multiple combinations of phases were compared with the AASLD standard.', start_char_idx=16507775, end_char_idx=16512170, text_template='{metadata_str}\\n\\n{content}', metadata_template='{key}: {value}', metadata_seperator='\\n'), score=0.5283487756728912)]\n"
     ]
    },
    {
     "ename": "TypeError",
     "evalue": "'NodeWithScore' object is not subscriptable",
     "output_type": "error",
     "traceback": [
      "\u001b[0;31m---------------------------------------------------------------------------\u001b[0m",
      "\u001b[0;31mTypeError\u001b[0m                                 Traceback (most recent call last)",
      "Cell \u001b[0;32mIn[42], line 11\u001b[0m\n\u001b[1;32m      9\u001b[0m \u001b[38;5;28mprint\u001b[39m(\u001b[38;5;124mf\u001b[39m\u001b[38;5;124m\"\u001b[39m\u001b[38;5;124mRetrieved nodes: \u001b[39m\u001b[38;5;132;01m{\u001b[39;00mretrieved_nodes_nomic\u001b[38;5;132;01m}\u001b[39;00m\u001b[38;5;124m\"\u001b[39m)\n\u001b[1;32m     10\u001b[0m \u001b[38;5;66;03m# Combine the texts of the retrieved nodes to form the context\u001b[39;00m\n\u001b[0;32m---> 11\u001b[0m combined_context \u001b[38;5;241m=\u001b[39m \u001b[38;5;124m\"\u001b[39m\u001b[38;5;124m \u001b[39m\u001b[38;5;124m\"\u001b[39m\u001b[38;5;241m.\u001b[39mjoin([\u001b[43mn\u001b[49m\u001b[43m[\u001b[49m\u001b[38;5;124;43m'\u001b[39;49m\u001b[38;5;124;43mtext\u001b[39;49m\u001b[38;5;124;43m'\u001b[39;49m\u001b[43m]\u001b[49m \u001b[38;5;28;01mfor\u001b[39;00m n \u001b[38;5;129;01min\u001b[39;00m retrieved_nodes_nomic])\n\u001b[1;32m     13\u001b[0m \u001b[38;5;66;03m# Create the prompt using the combined context and the current question\u001b[39;00m\n\u001b[1;32m     14\u001b[0m text_prompt \u001b[38;5;241m=\u001b[39m \u001b[38;5;124mf\u001b[39m\u001b[38;5;124m\"\u001b[39m\u001b[38;5;124mGiven the context: \u001b[39m\u001b[38;5;132;01m{\u001b[39;00mcombined_context\u001b[38;5;132;01m}\u001b[39;00m\u001b[38;5;124m . Answer the question: \u001b[39m\u001b[38;5;132;01m{\u001b[39;00mquestion\u001b[38;5;132;01m}\u001b[39;00m\u001b[38;5;124m . The answer can only be one word and it should be either \u001b[39m\u001b[38;5;124m'\u001b[39m\u001b[38;5;124myes\u001b[39m\u001b[38;5;124m'\u001b[39m\u001b[38;5;124m, \u001b[39m\u001b[38;5;124m'\u001b[39m\u001b[38;5;124mno\u001b[39m\u001b[38;5;124m'\u001b[39m\u001b[38;5;124m, or \u001b[39m\u001b[38;5;124m'\u001b[39m\u001b[38;5;124mmaybe\u001b[39m\u001b[38;5;124m'\u001b[39m\u001b[38;5;124m.\u001b[39m\u001b[38;5;124m\"\u001b[39m\n",
      "\u001b[0;31mTypeError\u001b[0m: 'NodeWithScore' object is not subscriptable"
     ]
    }
   ],
   "source": [
    "predictions, gt = {}, {}\n",
    "\n",
    "class_dict = { 'no': 0, 'yes': 1, 'maybe': 2}\n",
    "\n",
    "for idx, question in data.items():\n",
    "    # Retrieve the most relevant nodes for the current question\n",
    "    print(f\"Retrieving nodes for question: {question[\"QUESTION\"]} ...\")\n",
    "    retrieved_nodes_nomic = retriever_nomic.retrieve(question[\"QUESTION\"])\n",
    "    print(f\"Retrieved nodes: {retrieved_nodes_nomic}\")\n",
    "    # Combine the texts of the retrieved nodes to form the context\n",
    "    combined_context = \" \".join([n['text'] for n in retrieved_nodes_nomic])\n",
    "\n",
    "    # Create the prompt using the combined context and the current question\n",
    "    text_prompt = f\"Given the context: {combined_context} . Answer the question: {question} . The answer can only be one word and it should be either 'yes', 'no', or 'maybe'.\"\n",
    "\n",
    "    prompt_data = {\n",
    "        \"model\": 'gpt-4-turbo-2024-04-09', \n",
    "        \"temperature\": 0.1,\n",
    "        \"messages\": [\n",
    "            {\n",
    "                \"role\": \"user\",\n",
    "                \"content\": [\n",
    "                    {\"type\": \"text\", \"text\": text_prompt},\n",
    "                ],\n",
    "            }\n",
    "        ],\n",
    "        \"max_tokens\": f\"{30}\",\n",
    "    }\n",
    "    resp = prompt(prompt_data)\n",
    "    \n",
    "    # Update predictions and ground truth mappings\n",
    "    predictions.update({idx: class_dict[resp.lower()]})\n",
    "    gt.update({idx: class_dict[labels[idx]]})\n"
   ]
  },
  {
   "cell_type": "code",
   "execution_count": null,
   "metadata": {},
   "outputs": [],
   "source": [
    "len(predictions), len(gt)"
   ]
  },
  {
   "cell_type": "code",
   "execution_count": null,
   "metadata": {},
   "outputs": [],
   "source": [
    "accuracy_score(list(gt.values()), list(predictions.values() ))"
   ]
  },
  {
   "cell_type": "code",
   "execution_count": null,
   "metadata": {},
   "outputs": [],
   "source": [
    "f1_score(list(gt.values()), list(predictions.values()), average='macro')"
   ]
  }
 ],
 "metadata": {
  "kernelspec": {
   "display_name": "venv",
   "language": "python",
   "name": "python3"
  },
  "language_info": {
   "codemirror_mode": {
    "name": "ipython",
    "version": 3
   },
   "file_extension": ".py",
   "mimetype": "text/x-python",
   "name": "python",
   "nbconvert_exporter": "python",
   "pygments_lexer": "ipython3",
   "version": "3.12.2"
  }
 },
 "nbformat": 4,
 "nbformat_minor": 2
}
