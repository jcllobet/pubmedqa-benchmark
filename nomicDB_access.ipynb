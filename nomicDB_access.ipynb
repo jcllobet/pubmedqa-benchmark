{
  "nbformat": 4,
  "nbformat_minor": 0,
  "metadata": {
    "colab": {
      "provenance": [],
      "gpuType": "T4"
    },
    "kernelspec": {
      "name": "python3",
      "display_name": "Python 3"
    },
    "language_info": {
      "name": "python"
    },
    "accelerator": "GPU"
  },
  "cells": [
    {
      "cell_type": "markdown",
      "source": [
        "## Intro to Visualizing Your Data with Atlas\n",
        "\n",
        "See [docs.nomic.ai](https://docs.nomic.ai) for documentation."
      ],
      "metadata": {
        "id": "DU0NasCBFHI0"
      }
    },
    {
      "cell_type": "code",
      "execution_count": 4,
      "metadata": {
        "id": "bV3EP-aJC53E",
        "outputId": "db42bcf7-c045-4771-bec1-f5857fbe188b",
        "colab": {
          "base_uri": "https://localhost:8080/"
        }
      },
      "outputs": [
        {
          "output_type": "stream",
          "name": "stdout",
          "text": [
            "Collecting nomic\n",
            "  Downloading nomic-3.0.21.tar.gz (43 kB)\n",
            "\u001b[?25l     \u001b[90m━━━━━━━━━━━━━━━━━━━━━━━━━━━━━━━━━━━━━━━━\u001b[0m \u001b[32m0.0/43.8 kB\u001b[0m \u001b[31m?\u001b[0m eta \u001b[36m-:--:--\u001b[0m\r\u001b[2K     \u001b[91m━━━━━━━━━━━━━━━━━━━━━━━━━━━━\u001b[0m\u001b[90m╺\u001b[0m\u001b[90m━━━━━━━━━━━\u001b[0m \u001b[32m30.7/43.8 kB\u001b[0m \u001b[31m958.5 kB/s\u001b[0m eta \u001b[36m0:00:01\u001b[0m\r\u001b[2K     \u001b[90m━━━━━━━━━━━━━━━━━━━━━━━━━━━━━━━━━━━━━━━━\u001b[0m \u001b[32m43.8/43.8 kB\u001b[0m \u001b[31m805.4 kB/s\u001b[0m eta \u001b[36m0:00:00\u001b[0m\n",
            "\u001b[?25h  Preparing metadata (setup.py) ... \u001b[?25l\u001b[?25hdone\n",
            "Requirement already satisfied: click in /usr/local/lib/python3.10/dist-packages (from nomic) (8.1.7)\n",
            "Collecting jsonlines (from nomic)\n",
            "  Downloading jsonlines-4.0.0-py3-none-any.whl (8.7 kB)\n",
            "Collecting loguru (from nomic)\n",
            "  Downloading loguru-0.7.2-py3-none-any.whl (62 kB)\n",
            "\u001b[2K     \u001b[90m━━━━━━━━━━━━━━━━━━━━━━━━━━━━━━━━━━━━━━━━\u001b[0m \u001b[32m62.5/62.5 kB\u001b[0m \u001b[31m2.8 MB/s\u001b[0m eta \u001b[36m0:00:00\u001b[0m\n",
            "\u001b[?25hRequirement already satisfied: rich in /usr/local/lib/python3.10/dist-packages (from nomic) (13.7.1)\n",
            "Requirement already satisfied: requests in /usr/local/lib/python3.10/dist-packages (from nomic) (2.31.0)\n",
            "Requirement already satisfied: numpy in /usr/local/lib/python3.10/dist-packages (from nomic) (1.25.2)\n",
            "Requirement already satisfied: pandas in /usr/local/lib/python3.10/dist-packages (from nomic) (2.0.3)\n",
            "Requirement already satisfied: pydantic in /usr/local/lib/python3.10/dist-packages (from nomic) (2.6.4)\n",
            "Requirement already satisfied: tqdm in /usr/local/lib/python3.10/dist-packages (from nomic) (4.66.2)\n",
            "Requirement already satisfied: pyarrow in /usr/local/lib/python3.10/dist-packages (from nomic) (14.0.2)\n",
            "Requirement already satisfied: pillow in /usr/local/lib/python3.10/dist-packages (from nomic) (9.4.0)\n",
            "Requirement already satisfied: pyjwt in /usr/lib/python3/dist-packages (from nomic) (2.3.0)\n",
            "Requirement already satisfied: attrs>=19.2.0 in /usr/local/lib/python3.10/dist-packages (from jsonlines->nomic) (23.2.0)\n",
            "Requirement already satisfied: python-dateutil>=2.8.2 in /usr/local/lib/python3.10/dist-packages (from pandas->nomic) (2.8.2)\n",
            "Requirement already satisfied: pytz>=2020.1 in /usr/local/lib/python3.10/dist-packages (from pandas->nomic) (2023.4)\n",
            "Requirement already satisfied: tzdata>=2022.1 in /usr/local/lib/python3.10/dist-packages (from pandas->nomic) (2024.1)\n",
            "Requirement already satisfied: annotated-types>=0.4.0 in /usr/local/lib/python3.10/dist-packages (from pydantic->nomic) (0.6.0)\n",
            "Requirement already satisfied: pydantic-core==2.16.3 in /usr/local/lib/python3.10/dist-packages (from pydantic->nomic) (2.16.3)\n",
            "Requirement already satisfied: typing-extensions>=4.6.1 in /usr/local/lib/python3.10/dist-packages (from pydantic->nomic) (4.10.0)\n",
            "Requirement already satisfied: charset-normalizer<4,>=2 in /usr/local/lib/python3.10/dist-packages (from requests->nomic) (3.3.2)\n",
            "Requirement already satisfied: idna<4,>=2.5 in /usr/local/lib/python3.10/dist-packages (from requests->nomic) (3.6)\n",
            "Requirement already satisfied: urllib3<3,>=1.21.1 in /usr/local/lib/python3.10/dist-packages (from requests->nomic) (2.0.7)\n",
            "Requirement already satisfied: certifi>=2017.4.17 in /usr/local/lib/python3.10/dist-packages (from requests->nomic) (2024.2.2)\n",
            "Requirement already satisfied: markdown-it-py>=2.2.0 in /usr/local/lib/python3.10/dist-packages (from rich->nomic) (3.0.0)\n",
            "Requirement already satisfied: pygments<3.0.0,>=2.13.0 in /usr/local/lib/python3.10/dist-packages (from rich->nomic) (2.16.1)\n",
            "Requirement already satisfied: mdurl~=0.1 in /usr/local/lib/python3.10/dist-packages (from markdown-it-py>=2.2.0->rich->nomic) (0.1.2)\n",
            "Requirement already satisfied: six>=1.5 in /usr/local/lib/python3.10/dist-packages (from python-dateutil>=2.8.2->pandas->nomic) (1.16.0)\n",
            "Building wheels for collected packages: nomic\n",
            "  Building wheel for nomic (setup.py) ... \u001b[?25l\u001b[?25hdone\n",
            "  Created wheel for nomic: filename=nomic-3.0.21-py3-none-any.whl size=45074 sha256=8f81626b2c7d7c725669267bb57586c3f49614c9ef2826071e10de1483941300\n",
            "  Stored in directory: /root/.cache/pip/wheels/84/e9/d4/eb95e8a134b8b470c49256307fe44bf6a7beede0da52e12a14\n",
            "Successfully built nomic\n",
            "Installing collected packages: loguru, jsonlines, nomic\n",
            "Successfully installed jsonlines-4.0.0 loguru-0.7.2 nomic-3.0.21\n"
          ]
        }
      ],
      "source": [
        "!pip install --upgrade nomic"
      ]
    },
    {
      "cell_type": "code",
      "source": [
        "import nomic\n",
        "from nomic import atlas\n",
        "\n",
        "YOUR_API_KEY = 'nk-HPo7pXmHNY-eOnYheDGllXzNlH-rUxYjL5mcT6PWCcc' # This is an API key to a limited demo account. Make your own account at atlas.nomic.ai.\n",
        "nomic.login(YOUR_API_KEY)"
      ],
      "metadata": {
        "id": "8R8Nj8O5EDJg"
      },
      "execution_count": 5,
      "outputs": []
    },
    {
      "cell_type": "markdown",
      "source": [
        "### Load your project\n",
        "\n",
        "This will take roughly 2 minutes to complete."
      ],
      "metadata": {
        "id": "wAv2rNAlN_Wx"
      }
    },
    {
      "cell_type": "code",
      "source": [
        "from nomic import AtlasDataset\n",
        "project = AtlasDataset('pubmedqa-unsupervised')"
      ],
      "metadata": {
        "id": "4f6bx-IGODWb",
        "outputId": "56e19295-107e-4404-d30b-7c3cb18de73c",
        "colab": {
          "base_uri": "https://localhost:8080/"
        }
      },
      "execution_count": 12,
      "outputs": [
        {
          "output_type": "stream",
          "name": "stderr",
          "text": [
            "\u001b[32m2024-04-09 14:21:53.114\u001b[0m | \u001b[1mINFO    \u001b[0m | \u001b[36mnomic.dataset\u001b[0m:\u001b[36m__init__\u001b[0m:\u001b[36m808\u001b[0m - \u001b[1mLoading existing dataset `jc2897/pubmedqa-unsupervised``.\u001b[0m\n"
          ]
        }
      ]
    },
    {
      "cell_type": "code",
      "source": [
        "project.maps[0]"
      ],
      "metadata": {
        "id": "5s_W9C5AO3HZ",
        "outputId": "009f6240-f4c3-4aea-bce3-b9f0e4988f4f",
        "colab": {
          "base_uri": "https://localhost:8080/",
          "height": 34
        }
      },
      "execution_count": 13,
      "outputs": [
        {
          "output_type": "execute_result",
          "data": {
            "text/plain": [
              "pubmedqa_unsupervised: https://atlas.nomic.ai/data/jc2897/pubmedqa-unsupervised/map"
            ],
            "text/html": [
              "Atlas Projection pubmedqa_unsupervised. Status Done. <a target=\"_blank\" href=\"https://atlas.nomic.ai/data/jc2897/pubmedqa-unsupervised/map\">view online</a>"
            ]
          },
          "metadata": {},
          "execution_count": 13
        }
      ]
    },
    {
      "cell_type": "code",
      "source": [
        "map.topics\n",
        "map.embeddings\n",
        "map.data"
      ],
      "metadata": {
        "id": "vk7kUPOPR-tT",
        "outputId": "51df7a8f-6688-4b90-b28e-96eed2d53580",
        "colab": {
          "base_uri": "https://localhost:8080/"
        }
      },
      "execution_count": 18,
      "outputs": [
        {
          "output_type": "stream",
          "name": "stderr",
          "text": [
            "100%|██████████| 5/5 [00:11<00:00,  2.29s/it]\n"
          ]
        },
        {
          "output_type": "execute_result",
          "data": {
            "text/plain": [
              "<nomic.data_operations.AtlasMapData at 0x7d71e538bf10>"
            ]
          },
          "metadata": {},
          "execution_count": 18
        }
      ]
    },
    {
      "cell_type": "code",
      "source": [
        "map.topics.df"
      ],
      "metadata": {
        "id": "iEnl1ZRsSFP0",
        "outputId": "18298bb1-d385-4d07-aca4-680e1399bef3",
        "colab": {
          "base_uri": "https://localhost:8080/",
          "height": 424
        }
      },
      "execution_count": 19,
      "outputs": [
        {
          "output_type": "execute_result",
          "data": {
            "text/plain": [
              "      row_number             topic_depth_1      topic_depth_2\n",
              "0          60084                    Cancer        Skin Cancer\n",
              "1          13006                    Cancer      Breast Cancer\n",
              "2          21656      Healthcare Education    Clinical Trials\n",
              "3          53416            Disease/Health           Syndrome\n",
              "4          30411        Orthopedic Surgery  Fracture Fixation\n",
              "...          ...                       ...                ...\n",
              "61244      12716  Pregnancy and Childbirth    Maternal Health\n",
              "61245      11091      Healthcare Education         Healthcare\n",
              "61246      20480            Cardiovascular    Cardiac Surgery\n",
              "61247       9989      Healthcare Education       Patient Care\n",
              "61248      45048      Healthcare Education   Patient Outcomes\n",
              "\n",
              "[61249 rows x 3 columns]"
            ],
            "text/html": [
              "\n",
              "  <div id=\"df-5cdac40f-3531-49fb-822f-2fc625216fb4\" class=\"colab-df-container\">\n",
              "    <div>\n",
              "<style scoped>\n",
              "    .dataframe tbody tr th:only-of-type {\n",
              "        vertical-align: middle;\n",
              "    }\n",
              "\n",
              "    .dataframe tbody tr th {\n",
              "        vertical-align: top;\n",
              "    }\n",
              "\n",
              "    .dataframe thead th {\n",
              "        text-align: right;\n",
              "    }\n",
              "</style>\n",
              "<table border=\"1\" class=\"dataframe\">\n",
              "  <thead>\n",
              "    <tr style=\"text-align: right;\">\n",
              "      <th></th>\n",
              "      <th>row_number</th>\n",
              "      <th>topic_depth_1</th>\n",
              "      <th>topic_depth_2</th>\n",
              "    </tr>\n",
              "  </thead>\n",
              "  <tbody>\n",
              "    <tr>\n",
              "      <th>0</th>\n",
              "      <td>60084</td>\n",
              "      <td>Cancer</td>\n",
              "      <td>Skin Cancer</td>\n",
              "    </tr>\n",
              "    <tr>\n",
              "      <th>1</th>\n",
              "      <td>13006</td>\n",
              "      <td>Cancer</td>\n",
              "      <td>Breast Cancer</td>\n",
              "    </tr>\n",
              "    <tr>\n",
              "      <th>2</th>\n",
              "      <td>21656</td>\n",
              "      <td>Healthcare Education</td>\n",
              "      <td>Clinical Trials</td>\n",
              "    </tr>\n",
              "    <tr>\n",
              "      <th>3</th>\n",
              "      <td>53416</td>\n",
              "      <td>Disease/Health</td>\n",
              "      <td>Syndrome</td>\n",
              "    </tr>\n",
              "    <tr>\n",
              "      <th>4</th>\n",
              "      <td>30411</td>\n",
              "      <td>Orthopedic Surgery</td>\n",
              "      <td>Fracture Fixation</td>\n",
              "    </tr>\n",
              "    <tr>\n",
              "      <th>...</th>\n",
              "      <td>...</td>\n",
              "      <td>...</td>\n",
              "      <td>...</td>\n",
              "    </tr>\n",
              "    <tr>\n",
              "      <th>61244</th>\n",
              "      <td>12716</td>\n",
              "      <td>Pregnancy and Childbirth</td>\n",
              "      <td>Maternal Health</td>\n",
              "    </tr>\n",
              "    <tr>\n",
              "      <th>61245</th>\n",
              "      <td>11091</td>\n",
              "      <td>Healthcare Education</td>\n",
              "      <td>Healthcare</td>\n",
              "    </tr>\n",
              "    <tr>\n",
              "      <th>61246</th>\n",
              "      <td>20480</td>\n",
              "      <td>Cardiovascular</td>\n",
              "      <td>Cardiac Surgery</td>\n",
              "    </tr>\n",
              "    <tr>\n",
              "      <th>61247</th>\n",
              "      <td>9989</td>\n",
              "      <td>Healthcare Education</td>\n",
              "      <td>Patient Care</td>\n",
              "    </tr>\n",
              "    <tr>\n",
              "      <th>61248</th>\n",
              "      <td>45048</td>\n",
              "      <td>Healthcare Education</td>\n",
              "      <td>Patient Outcomes</td>\n",
              "    </tr>\n",
              "  </tbody>\n",
              "</table>\n",
              "<p>61249 rows × 3 columns</p>\n",
              "</div>\n",
              "    <div class=\"colab-df-buttons\">\n",
              "\n",
              "  <div class=\"colab-df-container\">\n",
              "    <button class=\"colab-df-convert\" onclick=\"convertToInteractive('df-5cdac40f-3531-49fb-822f-2fc625216fb4')\"\n",
              "            title=\"Convert this dataframe to an interactive table.\"\n",
              "            style=\"display:none;\">\n",
              "\n",
              "  <svg xmlns=\"http://www.w3.org/2000/svg\" height=\"24px\" viewBox=\"0 -960 960 960\">\n",
              "    <path d=\"M120-120v-720h720v720H120Zm60-500h600v-160H180v160Zm220 220h160v-160H400v160Zm0 220h160v-160H400v160ZM180-400h160v-160H180v160Zm440 0h160v-160H620v160ZM180-180h160v-160H180v160Zm440 0h160v-160H620v160Z\"/>\n",
              "  </svg>\n",
              "    </button>\n",
              "\n",
              "  <style>\n",
              "    .colab-df-container {\n",
              "      display:flex;\n",
              "      gap: 12px;\n",
              "    }\n",
              "\n",
              "    .colab-df-convert {\n",
              "      background-color: #E8F0FE;\n",
              "      border: none;\n",
              "      border-radius: 50%;\n",
              "      cursor: pointer;\n",
              "      display: none;\n",
              "      fill: #1967D2;\n",
              "      height: 32px;\n",
              "      padding: 0 0 0 0;\n",
              "      width: 32px;\n",
              "    }\n",
              "\n",
              "    .colab-df-convert:hover {\n",
              "      background-color: #E2EBFA;\n",
              "      box-shadow: 0px 1px 2px rgba(60, 64, 67, 0.3), 0px 1px 3px 1px rgba(60, 64, 67, 0.15);\n",
              "      fill: #174EA6;\n",
              "    }\n",
              "\n",
              "    .colab-df-buttons div {\n",
              "      margin-bottom: 4px;\n",
              "    }\n",
              "\n",
              "    [theme=dark] .colab-df-convert {\n",
              "      background-color: #3B4455;\n",
              "      fill: #D2E3FC;\n",
              "    }\n",
              "\n",
              "    [theme=dark] .colab-df-convert:hover {\n",
              "      background-color: #434B5C;\n",
              "      box-shadow: 0px 1px 3px 1px rgba(0, 0, 0, 0.15);\n",
              "      filter: drop-shadow(0px 1px 2px rgba(0, 0, 0, 0.3));\n",
              "      fill: #FFFFFF;\n",
              "    }\n",
              "  </style>\n",
              "\n",
              "    <script>\n",
              "      const buttonEl =\n",
              "        document.querySelector('#df-5cdac40f-3531-49fb-822f-2fc625216fb4 button.colab-df-convert');\n",
              "      buttonEl.style.display =\n",
              "        google.colab.kernel.accessAllowed ? 'block' : 'none';\n",
              "\n",
              "      async function convertToInteractive(key) {\n",
              "        const element = document.querySelector('#df-5cdac40f-3531-49fb-822f-2fc625216fb4');\n",
              "        const dataTable =\n",
              "          await google.colab.kernel.invokeFunction('convertToInteractive',\n",
              "                                                    [key], {});\n",
              "        if (!dataTable) return;\n",
              "\n",
              "        const docLinkHtml = 'Like what you see? Visit the ' +\n",
              "          '<a target=\"_blank\" href=https://colab.research.google.com/notebooks/data_table.ipynb>data table notebook</a>'\n",
              "          + ' to learn more about interactive tables.';\n",
              "        element.innerHTML = '';\n",
              "        dataTable['output_type'] = 'display_data';\n",
              "        await google.colab.output.renderOutput(dataTable, element);\n",
              "        const docLink = document.createElement('div');\n",
              "        docLink.innerHTML = docLinkHtml;\n",
              "        element.appendChild(docLink);\n",
              "      }\n",
              "    </script>\n",
              "  </div>\n",
              "\n",
              "\n",
              "<div id=\"df-1d64d4f8-19c5-4c3c-98bd-b97e5af9526c\">\n",
              "  <button class=\"colab-df-quickchart\" onclick=\"quickchart('df-1d64d4f8-19c5-4c3c-98bd-b97e5af9526c')\"\n",
              "            title=\"Suggest charts\"\n",
              "            style=\"display:none;\">\n",
              "\n",
              "<svg xmlns=\"http://www.w3.org/2000/svg\" height=\"24px\"viewBox=\"0 0 24 24\"\n",
              "     width=\"24px\">\n",
              "    <g>\n",
              "        <path d=\"M19 3H5c-1.1 0-2 .9-2 2v14c0 1.1.9 2 2 2h14c1.1 0 2-.9 2-2V5c0-1.1-.9-2-2-2zM9 17H7v-7h2v7zm4 0h-2V7h2v10zm4 0h-2v-4h2v4z\"/>\n",
              "    </g>\n",
              "</svg>\n",
              "  </button>\n",
              "\n",
              "<style>\n",
              "  .colab-df-quickchart {\n",
              "      --bg-color: #E8F0FE;\n",
              "      --fill-color: #1967D2;\n",
              "      --hover-bg-color: #E2EBFA;\n",
              "      --hover-fill-color: #174EA6;\n",
              "      --disabled-fill-color: #AAA;\n",
              "      --disabled-bg-color: #DDD;\n",
              "  }\n",
              "\n",
              "  [theme=dark] .colab-df-quickchart {\n",
              "      --bg-color: #3B4455;\n",
              "      --fill-color: #D2E3FC;\n",
              "      --hover-bg-color: #434B5C;\n",
              "      --hover-fill-color: #FFFFFF;\n",
              "      --disabled-bg-color: #3B4455;\n",
              "      --disabled-fill-color: #666;\n",
              "  }\n",
              "\n",
              "  .colab-df-quickchart {\n",
              "    background-color: var(--bg-color);\n",
              "    border: none;\n",
              "    border-radius: 50%;\n",
              "    cursor: pointer;\n",
              "    display: none;\n",
              "    fill: var(--fill-color);\n",
              "    height: 32px;\n",
              "    padding: 0;\n",
              "    width: 32px;\n",
              "  }\n",
              "\n",
              "  .colab-df-quickchart:hover {\n",
              "    background-color: var(--hover-bg-color);\n",
              "    box-shadow: 0 1px 2px rgba(60, 64, 67, 0.3), 0 1px 3px 1px rgba(60, 64, 67, 0.15);\n",
              "    fill: var(--button-hover-fill-color);\n",
              "  }\n",
              "\n",
              "  .colab-df-quickchart-complete:disabled,\n",
              "  .colab-df-quickchart-complete:disabled:hover {\n",
              "    background-color: var(--disabled-bg-color);\n",
              "    fill: var(--disabled-fill-color);\n",
              "    box-shadow: none;\n",
              "  }\n",
              "\n",
              "  .colab-df-spinner {\n",
              "    border: 2px solid var(--fill-color);\n",
              "    border-color: transparent;\n",
              "    border-bottom-color: var(--fill-color);\n",
              "    animation:\n",
              "      spin 1s steps(1) infinite;\n",
              "  }\n",
              "\n",
              "  @keyframes spin {\n",
              "    0% {\n",
              "      border-color: transparent;\n",
              "      border-bottom-color: var(--fill-color);\n",
              "      border-left-color: var(--fill-color);\n",
              "    }\n",
              "    20% {\n",
              "      border-color: transparent;\n",
              "      border-left-color: var(--fill-color);\n",
              "      border-top-color: var(--fill-color);\n",
              "    }\n",
              "    30% {\n",
              "      border-color: transparent;\n",
              "      border-left-color: var(--fill-color);\n",
              "      border-top-color: var(--fill-color);\n",
              "      border-right-color: var(--fill-color);\n",
              "    }\n",
              "    40% {\n",
              "      border-color: transparent;\n",
              "      border-right-color: var(--fill-color);\n",
              "      border-top-color: var(--fill-color);\n",
              "    }\n",
              "    60% {\n",
              "      border-color: transparent;\n",
              "      border-right-color: var(--fill-color);\n",
              "    }\n",
              "    80% {\n",
              "      border-color: transparent;\n",
              "      border-right-color: var(--fill-color);\n",
              "      border-bottom-color: var(--fill-color);\n",
              "    }\n",
              "    90% {\n",
              "      border-color: transparent;\n",
              "      border-bottom-color: var(--fill-color);\n",
              "    }\n",
              "  }\n",
              "</style>\n",
              "\n",
              "  <script>\n",
              "    async function quickchart(key) {\n",
              "      const quickchartButtonEl =\n",
              "        document.querySelector('#' + key + ' button');\n",
              "      quickchartButtonEl.disabled = true;  // To prevent multiple clicks.\n",
              "      quickchartButtonEl.classList.add('colab-df-spinner');\n",
              "      try {\n",
              "        const charts = await google.colab.kernel.invokeFunction(\n",
              "            'suggestCharts', [key], {});\n",
              "      } catch (error) {\n",
              "        console.error('Error during call to suggestCharts:', error);\n",
              "      }\n",
              "      quickchartButtonEl.classList.remove('colab-df-spinner');\n",
              "      quickchartButtonEl.classList.add('colab-df-quickchart-complete');\n",
              "    }\n",
              "    (() => {\n",
              "      let quickchartButtonEl =\n",
              "        document.querySelector('#df-1d64d4f8-19c5-4c3c-98bd-b97e5af9526c button');\n",
              "      quickchartButtonEl.style.display =\n",
              "        google.colab.kernel.accessAllowed ? 'block' : 'none';\n",
              "    })();\n",
              "  </script>\n",
              "</div>\n",
              "\n",
              "    </div>\n",
              "  </div>\n"
            ],
            "application/vnd.google.colaboratory.intrinsic+json": {
              "type": "dataframe",
              "summary": "{\n  \"name\": \"map\",\n  \"rows\": 61249,\n  \"fields\": [\n    {\n      \"column\": \"row_number\",\n      \"properties\": {\n        \"dtype\": \"string\",\n        \"num_unique_values\": 61249,\n        \"samples\": [\n          \"50042\",\n          \"14505\",\n          \"6595\"\n        ],\n        \"semantic_type\": \"\",\n        \"description\": \"\"\n      }\n    },\n    {\n      \"column\": \"topic_depth_1\",\n      \"properties\": {\n        \"dtype\": \"category\",\n        \"num_unique_values\": 8,\n        \"samples\": [\n          \"Healthcare Education\",\n          \"Laparoscopic Surgery\",\n          \"Cancer\"\n        ],\n        \"semantic_type\": \"\",\n        \"description\": \"\"\n      }\n    },\n    {\n      \"column\": \"topic_depth_2\",\n      \"properties\": {\n        \"dtype\": \"category\",\n        \"num_unique_values\": 256,\n        \"samples\": [\n          \"GERD (Gastroesophageal Reflux Disease)\",\n          \"Hearing Aid\",\n          \"Surgical Procedures (2)\"\n        ],\n        \"semantic_type\": \"\",\n        \"description\": \"\"\n      }\n    }\n  ]\n}"
            }
          },
          "metadata": {},
          "execution_count": 19
        }
      ]
    },
    {
      "cell_type": "code",
      "source": [
        "\n",
        "\n",
        "def vector_search_topics(queries: np.array,\n",
        "                         k: int = 32,\n",
        "                         depth: int = 3)"
      ],
      "metadata": {
        "id": "hcSEfR8uSUOj"
      },
      "execution_count": null,
      "outputs": []
    },
    {
      "cell_type": "markdown",
      "source": [
        "### Now, let's make a map of a news dataset\n",
        "\n",
        "This will take roughly 5 minutes to complete."
      ],
      "metadata": {
        "id": "jz8gLsfeG5Vf"
      }
    },
    {
      "cell_type": "code",
      "source": [
        "!pip install datasets\n",
        "from datasets import load_dataset\n",
        "import numpy as np\n",
        "\n",
        "# Load dataset from Huggingface datasets (https://huggingface.co/datasets)\n",
        "dataset = load_dataset('ag_news')['train']\n",
        "\n",
        "# Take a random sample of 10,000 of the dataset\n",
        "max_documents = 10000\n",
        "subset_idxs = np.random.randint(len(dataset), size=max_documents).tolist()\n",
        "documents = [dataset[i] for i in subset_idxs]\n",
        "\n",
        "# Generate ID numbers for identification in Atlas\n",
        "for i in range(max_documents):\n",
        "  documents[i]['id'] = str(i)\n",
        "\n",
        "# Map your text. See link: https://docs.nomic.ai/atlas_api.html#map-text-api)\n",
        "project = atlas.map_text(data=documents,\n",
        "                          id_field='id',\n",
        "                          indexed_field='text',\n",
        "                          description='News 10k Example.'\n",
        "                          )"
      ],
      "metadata": {
        "id": "jYOVXTzxF7_n"
      },
      "execution_count": null,
      "outputs": []
    },
    {
      "cell_type": "code",
      "source": [
        "project.maps[0] # Show the map in the notebook."
      ],
      "metadata": {
        "id": "RbNyaQkoGzw4"
      },
      "execution_count": null,
      "outputs": []
    },
    {
      "cell_type": "markdown",
      "source": [
        "### Let's perform similarity search over the map!\n",
        "This function allows you to search for similar datapoints based on their embedding representations."
      ],
      "metadata": {
        "id": "pwM_qp48QF9M"
      }
    },
    {
      "cell_type": "code",
      "source": [
        "# Load map and perform vector search\n",
        "map = project.maps[0]\n",
        "#with project.wait_for_project_lock():\n",
        "neighbors, _ = map.embeddings.vector_search(ids=[10], k=5)\n",
        "\n",
        "# Print the 5 most similar datapoints to the data point with specified id (including the point with id=0)\n",
        "similar_datapoints = project.get_data(ids=neighbors[0])\n",
        "for i, point in enumerate(similar_datapoints):\n",
        "  if i == 0:\n",
        "    print('Initial point:',point,'\\n')\n",
        "    print('Nearest neighbors:')\n",
        "  else:\n",
        "    print(point)"
      ],
      "metadata": {
        "id": "DioSN8X_HLRg",
        "outputId": "c3ae6983-10ce-4425-a065-b2c316dd62f5",
        "colab": {
          "base_uri": "https://localhost:8080/"
        }
      },
      "execution_count": 16,
      "outputs": [
        {
          "output_type": "stream",
          "name": "stdout",
          "text": [
            "Initial point: {'0': 'We evaluate the outcome vesicoureteral reflux (VUR) in duplicated collecting systems compared to single collecting systems corrected using an extravesical detrusorrhaphy approach.', '1': 'We reviewed the records of 266 patients (422 ureters) treated for VUR using an extravesical approach between 1991 and 2001. Inclusion criteria were primary reflux in single (201 patients, 125 bilateral) or duplicated collecting systems (65, 31 bilateral) in patients not undergoing other concomitant surgery with at least 1 year of postoperative followup. The indication for surgical intervention was unresolved reflux (greater than 4 years) in more than 70% of patients. Postoperative evaluation included a voiding cystourethrogram at 3 months and 12 months if reflux was unresolved at 3 months. Also ultrasound was performed at 6 weeks or earlier if clinically indicated and 12 months.', '2': 'Group 1 (duplicated collecting systems) and group 2 (single collecting systems) were comparable for age, sex distribution and reflux grade distribution. Overall success rate at 3 and 12 months was 94.7% and 98.9% for group 1, and 95.1% and 98.5% for group 2, respectively. The difference in success rate at 3 and 12 months was not statistically significant (p>0.05). Of note in both groups postoperative VUR was contralateral in more than 40% of cases. Postoperative hydronephrosis (Society for Fetal Urology grade 1, 2 or 1 increment in grade from preoperative status) was observed in 5.3% and 7.3% of ureteral units at 6 weeks in groups 1 and 2, respectively (p>0.05). At 12 months less than 1% of ureteral units exhibited low grade residual hydronephrosis. No high grade postoperative hydronephrosis was observed in either group, and there were no intraoperative complications. Postoperative urinary retention occurred in 4.7% and 4% of patients in groups 1 and 2, respectively (p>0.05).', '3': 'null', '4': 'null', '5': 'null', '6': 'null', 'row_number': '10'} \n",
            "\n",
            "Nearest neighbors:\n",
            "{'0': 'To assess the outcome of all detrusorrhaphies carried out for simple single-system vesico-ureteric reflux (VUR) in children at one institution over a 4-year period.', '1': 'Twenty-nine patients (11 boys, 18 girls, 43 renal units; mean age at presentation 23 months; range, antenatal to 72 months) were analysed in two groups. Group 1 comprised those undergoing asynchronous bilateral procedures (two patients, four units) and unilateral procedures (15 patients, 15 units), and group 2, those undergoing synchronous bilateral procedures (12 patients, 24 units). The mean (range) follow-up was 17 months (6-39) and 15 months (7-24), respectively.', '2': \"Three patients had antenatal hydronephrosis related to VUR post-natally and 26 had urinary tract infections (13 recurrent, one with haematuria, seven 'breakthrough', one with calculi and four with enuresis). The mean age at operation was 54 months (range 14-167). The mean (range) duration of anaesthesia was 69 min (40-120) in group 1 and 80 min (65-120) in group 2. All patients were catheterized urethrally for a mean (range) duration of 3 days (2-4) in group 1 and 5 days (2-15) in group 2 and the mean hospital stay was 3 days (2-6) and 6 days (4-16), respectively. Post-operative complications occurred in 14 patients including one bladder spasm, five urinary tract infections, two with urinary retention, three with haematuria and one each of pneumonia, epididymo-orchitis, anuria, failure to stent and conversion to Cohen reimplantation. Operative success and clinical success were similar within groups but differed between groups, although not significantly (15 of 17 in group 1 and eight of 12 in group 2).\", '3': 'null', '4': 'null', '5': 'null', '6': 'null', 'row_number': '3800'}\n",
            "{'0': 'Surgical correction of vesicoureteral reflux (VUR) and prolonged administration of antibiotics seem to lead to similar renal outcomes. However, it is not known whether prenatal recognition and the position of VUR modify the outcome in different ways. The purpose of this study was to investigate the effects of prenatal detection and different treatment methods on the outcome of unilateral refluxing renal units.', '1': 'This retrospective study enrolled 119 children (mean age 2.8+/-3.5 years) with primary VUR. Kidney growth and renal function were measured with ultrasound and scintigraphy, respectively. To compare the ultrasound readings among patients of different ages the comparative-length index or index was calculated, as a percentage of the ratio of unilateral and the sum of bilateral renal length.', '2': 'In unilateral refluxing renal units there was a reduction in both index and function, whereas not-refluxing was increased. In the follow-up, unilateral refluxing renal units had a worse index, whereas not-refluxing was better. Unexpectedly, surgical therapy of the left-refluxing renal unit led to a reduction in the index, whereas its function always stayed low in diagnosis but stable. The outcome of severely refluxing renal units was similar after both interventions. Prenatal and postnatal diagnosis did not seem to modify the renal result.', '3': 'null', '4': 'null', '5': 'null', '6': 'null', 'row_number': '53688'}\n",
            "{'0': 'To evaluate the efficacy of a third endoscopic injection to correct vesicoureteral reflux (VUR).', '1': \"This was a prospective study of 605 patients, of whom 42 (6.4%), involving 44 (4%) ureteral units, received a third injection. The results were analysed regarding VUR grade and aetiology, substance used, volume, location and morphology of the mound, presence of poor prognostic factors, the urologist's experience, and complications.\", '2': 'The treatment resolved the VUR in 38 (86.4%) units, 22 of primary cause (91.6%) and 16 with anatomical/functional abnormalities (80%) (no significant difference; P\\xa0=\\xa00.26). There was also no significant difference in success rate with regard to the substance injected (P\\xa0=\\xa00.23), the degree of VUR (P\\xa0=\\xa00.76) or the volume injected (P\\xa0=\\xa00.17). The success rate was higher (96.9%) if a less experienced urologist had performed the previous procedure versus a more experienced urologist (54.5%), and this difference was significant (P\\xa0<\\xa00.005). There was one complication (haematuria) (2.3%).', '3': 'null', '4': 'null', '5': 'null', '6': 'null', 'row_number': '31214'}\n",
            "{'0': \"Our experience in the endoscopic treatment of vesicoureteral reflux (VUR) has significantly increased during the last decade. To help develop diagnostic tests to check the success of this procedure, we evaluated the accuracy of surgeons' intraoperative observations as a predictor of treatment results.\", '1': \"We performed a prospective study of patients with VUR who were endoscopically treated during 1 year (106 renal units). Patients' age and gender, laterality, material used, grade of reflux, presence of ureteral duplication or associated pathology, and morphology of ureteral orifice were recorded as predictive factors related to the success rate. Surgeon and assistant indicated at the end of the endoscopic procedure whether the VUR was cured or not for each renal unit. These estimations were compared with postoperative voiding cystourethrogram results.\", '2': \"Overall cure rate was 75.5%. Positive predictive value (PPV) for surgeon's opinion was 0.79 and negative predictive value (NPV) was 0.40. Statistical analysis demonstrated that the association between the surgeon's opinion and the cure rate was low with a Kappa value of 0.171 (p\\xa0=\\xa00.30). PPV of assistant's opinion was 0.80 and NPV was 0.40, with a Kappa value of 0.2 (p\\xa0=\\xa00.13). Concordance of surgeon and assistant's opinion resulted in PPV of 0.79 and NPV of 0.53 (Kappa\\xa0=\\xa00.261). Kappa value did not improve when surgeon's opinion was related to other factors such as the material employed, grade of reflux, presence of ureteral duplication or associated pathology and morphology of the ureteral orifice.\", '3': 'null', '4': 'null', '5': 'null', '6': 'null', 'row_number': '17089'}\n"
          ]
        }
      ]
    },
    {
      "cell_type": "markdown",
      "source": [
        "Colab updated 11/3/2023."
      ],
      "metadata": {
        "id": "hnOF2SW4VC5z"
      }
    },
    {
      "cell_type": "code",
      "source": [],
      "metadata": {
        "id": "fZiRZFKxVEUy"
      },
      "execution_count": null,
      "outputs": []
    }
  ]
}