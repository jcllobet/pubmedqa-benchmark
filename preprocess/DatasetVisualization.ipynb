{
 "cells": [
  {
   "cell_type": "code",
   "execution_count": 5,
   "id": "cc4d050f-1aea-4978-b246-bcb8a476307e",
   "metadata": {},
   "outputs": [],
   "source": [
    "import json\n",
    "import os\n",
    "import matplotlib.pyplot as plt\n",
    "import glob\n",
    "import pandas as pd\n",
    "from nomic import atlas\n",
    "import numpy as np"
   ]
  },
  {
   "cell_type": "code",
   "execution_count": null,
   "id": "1d32a3fb-afb4-4188-96ec-36328a4ea0af",
   "metadata": {},
   "outputs": [],
   "source": [
    "nomic login "
   ]
  },
  {
   "cell_type": "code",
   "execution_count": 12,
   "id": "9d1f0b5e-72f9-4771-a580-2248716f9ba0",
   "metadata": {},
   "outputs": [
    {
     "data": {
      "text/plain": [
       "(500, 500)"
      ]
     },
     "execution_count": 12,
     "metadata": {},
     "output_type": "execute_result"
    }
   ],
   "source": [
    "data = json.load(open('pubmedqa-master/data/test_set.json'))\n",
    "labels = json.load(open('pubmedqa-master/data/test_ground_truth.json'))\n",
    "len(data), len(labels)"
   ]
  },
  {
   "cell_type": "code",
   "execution_count": 16,
   "id": "136f1cc0-b96a-4a0a-8d88-58a4b55cc819",
   "metadata": {},
   "outputs": [],
   "source": [
    "class_dict = { 'no': 0, 'yes': 1, 'maybe': 2}"
   ]
  },
  {
   "cell_type": "markdown",
   "id": "db7d8e6b-4411-41a0-bf09-76470e263234",
   "metadata": {},
   "source": [
    "### TODO: plot test set and the unlabeled set of data to prove unlabeled data can be used for retrieval"
   ]
  },
  {
   "cell_type": "code",
   "execution_count": 19,
   "id": "568e87b1-d9bf-4a13-88bd-81a58a0f3920",
   "metadata": {},
   "outputs": [
    {
     "data": {
      "text/plain": [
       "61249"
      ]
     },
     "execution_count": 19,
     "metadata": {},
     "output_type": "execute_result"
    }
   ],
   "source": [
    "data = json.load(open('pubmedqa-master/data/test_set.json'))\n",
    "labels = json.load(open('pubmedqa-master/data/test_ground_truth.json'))\n",
    "len(data), len(labels)\n",
    "\n",
    "data_unlabeled = json.load(open('pubmedqa-master/data/ori_pqau.json'))\n",
    "len(data_unlabeled)"
   ]
  },
  {
   "cell_type": "code",
   "execution_count": 25,
   "id": "82d025db-6f2e-4e99-bad8-e524306ae35f",
   "metadata": {},
   "outputs": [
    {
     "data": {
      "text/html": [
       "<div>\n",
       "<style scoped>\n",
       "    .dataframe tbody tr th:only-of-type {\n",
       "        vertical-align: middle;\n",
       "    }\n",
       "\n",
       "    .dataframe tbody tr th {\n",
       "        vertical-align: top;\n",
       "    }\n",
       "\n",
       "    .dataframe thead th {\n",
       "        text-align: right;\n",
       "    }\n",
       "</style>\n",
       "<table border=\"1\" class=\"dataframe\">\n",
       "  <thead>\n",
       "    <tr style=\"text-align: right;\">\n",
       "      <th></th>\n",
       "      <th>QUESTION</th>\n",
       "      <th>CONTEXTS</th>\n",
       "      <th>LONG_ANSWER</th>\n",
       "    </tr>\n",
       "  </thead>\n",
       "  <tbody>\n",
       "    <tr>\n",
       "      <th>0</th>\n",
       "      <td>Is anorectal endosonography valuable in dysche...</td>\n",
       "      <td>[Dyschesia can be provoked by inappropriate de...</td>\n",
       "      <td>yes</td>\n",
       "    </tr>\n",
       "    <tr>\n",
       "      <th>1</th>\n",
       "      <td>Is there a connection between sublingual varic...</td>\n",
       "      <td>[Sublingual varices have earlier been related ...</td>\n",
       "      <td>yes</td>\n",
       "    </tr>\n",
       "    <tr>\n",
       "      <th>2</th>\n",
       "      <td>Is the affinity column-mediated immunoassay me...</td>\n",
       "      <td>[Tacrolimus is a potent immunosuppressive drug...</td>\n",
       "      <td>yes</td>\n",
       "    </tr>\n",
       "    <tr>\n",
       "      <th>3</th>\n",
       "      <td>Does a physician's specialty influence the rec...</td>\n",
       "      <td>[To determine the impact of a physician's spec...</td>\n",
       "      <td>yes</td>\n",
       "    </tr>\n",
       "    <tr>\n",
       "      <th>4</th>\n",
       "      <td>Locoregional opening of the rodent blood-brain...</td>\n",
       "      <td>[Nd:YAG laser-induced thermo therapy (LITT) of...</td>\n",
       "      <td>yes</td>\n",
       "    </tr>\n",
       "  </tbody>\n",
       "</table>\n",
       "</div>"
      ],
      "text/plain": [
       "                                            QUESTION  \\\n",
       "0  Is anorectal endosonography valuable in dysche...   \n",
       "1  Is there a connection between sublingual varic...   \n",
       "2  Is the affinity column-mediated immunoassay me...   \n",
       "3  Does a physician's specialty influence the rec...   \n",
       "4  Locoregional opening of the rodent blood-brain...   \n",
       "\n",
       "                                            CONTEXTS LONG_ANSWER  \n",
       "0  [Dyschesia can be provoked by inappropriate de...         yes  \n",
       "1  [Sublingual varices have earlier been related ...         yes  \n",
       "2  [Tacrolimus is a potent immunosuppressive drug...         yes  \n",
       "3  [To determine the impact of a physician's spec...         yes  \n",
       "4  [Nd:YAG laser-induced thermo therapy (LITT) of...         yes  "
      ]
     },
     "execution_count": 25,
     "metadata": {},
     "output_type": "execute_result"
    }
   ],
   "source": [
    "df_test = pd.DataFrame(columns=['QUESTION', 'CONTEXTS', 'LONG_ANSWER'])\n",
    "df_test['QUESTION'] = [data[x]['QUESTION'] for x in data.keys()]\n",
    "df_test['CONTEXTS'] = [data[x]['CONTEXTS'] for x in data.keys()]\n",
    "df_test['LONG_ANSWER'] = [labels[x] for x in data.keys()]\n",
    "df_test.head()"
   ]
  },
  {
   "cell_type": "code",
   "execution_count": 24,
   "id": "1ab7c9eb-5010-42d1-a08e-465a74a94a88",
   "metadata": {},
   "outputs": [
    {
     "data": {
      "text/html": [
       "<div>\n",
       "<style scoped>\n",
       "    .dataframe tbody tr th:only-of-type {\n",
       "        vertical-align: middle;\n",
       "    }\n",
       "\n",
       "    .dataframe tbody tr th {\n",
       "        vertical-align: top;\n",
       "    }\n",
       "\n",
       "    .dataframe thead th {\n",
       "        text-align: right;\n",
       "    }\n",
       "</style>\n",
       "<table border=\"1\" class=\"dataframe\">\n",
       "  <thead>\n",
       "    <tr style=\"text-align: right;\">\n",
       "      <th></th>\n",
       "      <th>QUESTION</th>\n",
       "      <th>CONTEXTS</th>\n",
       "      <th>LONG_ANSWER</th>\n",
       "    </tr>\n",
       "  </thead>\n",
       "  <tbody>\n",
       "    <tr>\n",
       "      <th>0</th>\n",
       "      <td>Is naturopathy as effective as conventional th...</td>\n",
       "      <td>[Although the use of alternative medicine in t...</td>\n",
       "      <td>Naturopathy appears to be an effective alterna...</td>\n",
       "    </tr>\n",
       "    <tr>\n",
       "      <th>1</th>\n",
       "      <td>Can randomised trials rely on existing electro...</td>\n",
       "      <td>[To estimate the feasibility, utility and reso...</td>\n",
       "      <td>Routine data have the potential to support hea...</td>\n",
       "    </tr>\n",
       "    <tr>\n",
       "      <th>2</th>\n",
       "      <td>Is laparoscopic radical prostatectomy better t...</td>\n",
       "      <td>[To compare morbidity in two groups of patient...</td>\n",
       "      <td>The results of our non-randomized study show t...</td>\n",
       "    </tr>\n",
       "    <tr>\n",
       "      <th>3</th>\n",
       "      <td>Does bacterial gastroenteritis predispose peop...</td>\n",
       "      <td>[Irritable bowel syndrome (IBS) might develop ...</td>\n",
       "      <td>Symptoms consistent with IBS and functional di...</td>\n",
       "    </tr>\n",
       "    <tr>\n",
       "      <th>4</th>\n",
       "      <td>Is early colonoscopy after admission for acute...</td>\n",
       "      <td>[Urgent colonoscopy has been proposed for the ...</td>\n",
       "      <td>No significant association is apparent between...</td>\n",
       "    </tr>\n",
       "  </tbody>\n",
       "</table>\n",
       "</div>"
      ],
      "text/plain": [
       "                                            QUESTION  \\\n",
       "0  Is naturopathy as effective as conventional th...   \n",
       "1  Can randomised trials rely on existing electro...   \n",
       "2  Is laparoscopic radical prostatectomy better t...   \n",
       "3  Does bacterial gastroenteritis predispose peop...   \n",
       "4  Is early colonoscopy after admission for acute...   \n",
       "\n",
       "                                            CONTEXTS  \\\n",
       "0  [Although the use of alternative medicine in t...   \n",
       "1  [To estimate the feasibility, utility and reso...   \n",
       "2  [To compare morbidity in two groups of patient...   \n",
       "3  [Irritable bowel syndrome (IBS) might develop ...   \n",
       "4  [Urgent colonoscopy has been proposed for the ...   \n",
       "\n",
       "                                         LONG_ANSWER  \n",
       "0  Naturopathy appears to be an effective alterna...  \n",
       "1  Routine data have the potential to support hea...  \n",
       "2  The results of our non-randomized study show t...  \n",
       "3  Symptoms consistent with IBS and functional di...  \n",
       "4  No significant association is apparent between...  "
      ]
     },
     "execution_count": 24,
     "metadata": {},
     "output_type": "execute_result"
    }
   ],
   "source": [
    "df_unlabeled = pd.DataFrame(columns=['QUESTION', 'CONTEXTS', 'LONG_ANSWER'])\n",
    "df_unlabeled['QUESTION'] = [data_unlabeled[x]['QUESTION'] for x in data_unlabeled.keys()]\n",
    "df_unlabeled['CONTEXTS'] = [data_unlabeled[x]['CONTEXTS'] for x in data_unlabeled.keys()]\n",
    "df_unlabeled['LONG_ANSWER'] = [data_unlabeled[x]['LONG_ANSWER'] for x in data_unlabeled.keys()]\n",
    "df_unlabeled.head()"
   ]
  },
  {
   "cell_type": "code",
   "execution_count": 28,
   "id": "66a0ba8b-4cbb-4818-be3d-cd12b04911a6",
   "metadata": {},
   "outputs": [],
   "source": [
    "df_unlabeled.to_csv('datasets/unlabeled_pubmed.csv', index=False)"
   ]
  },
  {
   "cell_type": "code",
   "execution_count": 2,
   "id": "b560c6c3-b98a-4991-b8e8-e198b1c908ef",
   "metadata": {},
   "outputs": [],
   "source": [
    "dataset = atlas.map_data(data=df_test, indexed_field='QUESTION')\n",
    "print(dataset)"
   ]
  },
  {
   "cell_type": "code",
   "execution_count": null,
   "id": "48fa8efc-171e-441e-8e6e-6420b82542b1",
   "metadata": {},
   "outputs": [],
   "source": []
  }
 ],
 "metadata": {
  "kernelspec": {
   "display_name": "Python 3 (ipykernel)",
   "language": "python",
   "name": "python3"
  },
  "language_info": {
   "codemirror_mode": {
    "name": "ipython",
    "version": 3
   },
   "file_extension": ".py",
   "mimetype": "text/x-python",
   "name": "python",
   "nbconvert_exporter": "python",
   "pygments_lexer": "ipython3",
   "version": "3.9.6"
  }
 },
 "nbformat": 4,
 "nbformat_minor": 5
}
