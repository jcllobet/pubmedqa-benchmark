{
  "cells": [
    {
      "cell_type": "code",
      "source": [
        "%%capture\n",
        "!pip install llama-index\n",
        "!pip install llama-index-embeddings-huggingface"
      ],
      "metadata": {
        "id": "Er9udgQIGL0Q"
      },
      "id": "Er9udgQIGL0Q",
      "execution_count": 1,
      "outputs": []
    },
    {
      "cell_type": "code",
      "execution_count": 2,
      "id": "8dceb10e-c22c-44db-a937-9a722030139b",
      "metadata": {
        "id": "8dceb10e-c22c-44db-a937-9a722030139b"
      },
      "outputs": [],
      "source": [
        "import json\n",
        "import os\n",
        "import matplotlib.pyplot as plt\n",
        "import glob\n",
        "import requests\n",
        "from sklearn.metrics import accuracy_score, f1_score, precision_score, recall_score\n",
        "import numpy as np\n",
        "import tqdm\n",
        "\n",
        "import nest_asyncio\n",
        "nest_asyncio.apply()\n",
        "\n",
        "from llama_index.core.evaluation import generate_question_context_pairs\n",
        "from llama_index.core import VectorStoreIndex, SimpleDirectoryReader, ServiceContext\n",
        "from llama_index.core.node_parser import SimpleNodeParser\n",
        "from llama_index.core.evaluation import generate_question_context_pairs\n",
        "from llama_index.core.evaluation import RetrieverEvaluator\n",
        "from llama_index.llms.openai import OpenAI\n",
        "\n",
        "import os\n",
        "import pandas as pd"
      ]
    },
    {
      "cell_type": "code",
      "source": [
        "from typing import List"
      ],
      "metadata": {
        "id": "VXHk41w6JYkI"
      },
      "id": "VXHk41w6JYkI",
      "execution_count": 3,
      "outputs": []
    },
    {
      "cell_type": "code",
      "execution_count": 4,
      "id": "84d852fa-2484-4c66-be19-2b0494d9afc2",
      "metadata": {
        "id": "84d852fa-2484-4c66-be19-2b0494d9afc2"
      },
      "outputs": [],
      "source": [
        "open_api_key = \"\"\n",
        "os.environ['OPENAI_API_KEY'] = open_api_key"
      ]
    },
    {
      "cell_type": "markdown",
      "id": "6f01f12f-ffca-45e5-a493-bbdb020ec893",
      "metadata": {
        "id": "6f01f12f-ffca-45e5-a493-bbdb020ec893"
      },
      "source": [
        "### Load data"
      ]
    },
    {
      "cell_type": "code",
      "execution_count": 5,
      "id": "d33b25bf-c480-4236-8cfa-a22db4d9eb08",
      "metadata": {
        "colab": {
          "base_uri": "https://localhost:8080/"
        },
        "id": "d33b25bf-c480-4236-8cfa-a22db4d9eb08",
        "outputId": "2f20bb43-3db2-404e-927d-3e49aaf4f289"
      },
      "outputs": [
        {
          "output_type": "execute_result",
          "data": {
            "text/plain": [
              "(500, 500)"
            ]
          },
          "metadata": {},
          "execution_count": 5
        }
      ],
      "source": [
        "data = json.load(open('test_set.json'))\n",
        "labels = json.load(open('test_ground_truth.json'))\n",
        "len(data), len(labels)"
      ]
    },
    {
      "cell_type": "code",
      "source": [
        "list(labels.keys())[:5]"
      ],
      "metadata": {
        "colab": {
          "base_uri": "https://localhost:8080/"
        },
        "id": "QYHs_aviEeJu",
        "outputId": "7616f721-4f7c-4384-91dc-b66fbf5939ac"
      },
      "id": "QYHs_aviEeJu",
      "execution_count": 6,
      "outputs": [
        {
          "output_type": "execute_result",
          "data": {
            "text/plain": [
              "['12377809', '26163474', '19100463', '18537964', '12913878']"
            ]
          },
          "metadata": {},
          "execution_count": 6
        }
      ]
    },
    {
      "cell_type": "code",
      "source": [
        "list(data.keys())[:5]"
      ],
      "metadata": {
        "colab": {
          "base_uri": "https://localhost:8080/"
        },
        "id": "kJ_asre0EWzP",
        "outputId": "26df0e84-b2de-4f05-9a6f-0fc9df39f2cc"
      },
      "id": "kJ_asre0EWzP",
      "execution_count": 7,
      "outputs": [
        {
          "output_type": "execute_result",
          "data": {
            "text/plain": [
              "['12377809', '26163474', '19100463', '18537964', '12913878']"
            ]
          },
          "metadata": {},
          "execution_count": 7
        }
      ]
    },
    {
      "cell_type": "code",
      "source": [
        "from llama_index.core import Document\n",
        "\n",
        "documents = []\n",
        "for i, q in tqdm.tqdm(data.items()):\n",
        "    context = str(q['CONTEXTS'])\n",
        "    documents.append(Document(text=context))\n",
        "\n",
        "print(len(documents))"
      ],
      "metadata": {
        "colab": {
          "base_uri": "https://localhost:8080/"
        },
        "id": "05K1czqmGw9k",
        "outputId": "99663fec-e602-4ca6-9aac-a490c28671ae"
      },
      "id": "05K1czqmGw9k",
      "execution_count": 8,
      "outputs": [
        {
          "output_type": "stream",
          "name": "stderr",
          "text": [
            "100%|██████████| 500/500 [00:00<00:00, 14019.52it/s]"
          ]
        },
        {
          "output_type": "stream",
          "name": "stdout",
          "text": [
            "500\n"
          ]
        },
        {
          "output_type": "stream",
          "name": "stderr",
          "text": [
            "\n"
          ]
        }
      ]
    },
    {
      "cell_type": "code",
      "source": [
        "import collections\n",
        "data_dict = collections.defaultdict()\n",
        "\n",
        "for i, q in tqdm.tqdm(data.items()):\n",
        "    question = str(q['QUESTION'])\n",
        "    context = str(q['CONTEXTS'])\n",
        "    data_dict[question] = context"
      ],
      "metadata": {
        "colab": {
          "base_uri": "https://localhost:8080/"
        },
        "id": "E00SjL8BSX-L",
        "outputId": "f12f0bac-621f-445a-ff24-833d7477b38c"
      },
      "id": "E00SjL8BSX-L",
      "execution_count": 9,
      "outputs": [
        {
          "output_type": "stream",
          "name": "stderr",
          "text": [
            "100%|██████████| 500/500 [00:00<00:00, 42277.03it/s]\n"
          ]
        }
      ]
    },
    {
      "cell_type": "markdown",
      "source": [
        "## Build DB"
      ],
      "metadata": {
        "id": "COOiEEy2PhXV"
      },
      "id": "COOiEEy2PhXV"
    },
    {
      "cell_type": "code",
      "execution_count": 10,
      "id": "9b5bc327-e17d-4b65-be29-29422dd1f720",
      "metadata": {
        "id": "9b5bc327-e17d-4b65-be29-29422dd1f720"
      },
      "outputs": [],
      "source": [
        "llm = OpenAI(model=\"gpt4-0125-preview\") # OR gpt4-0125-preview, gpt-4-turbo-2024-04-09"
      ]
    },
    {
      "cell_type": "code",
      "source": [
        "from llama_index.core.embeddings import resolve_embed_model\n",
        "\n",
        "embed_model = resolve_embed_model(\"local:BAAI/bge-small-en\")\n",
        "\n",
        "vector_index = VectorStoreIndex.from_documents(documents, embed_model=embed_model)"
      ],
      "metadata": {
        "colab": {
          "base_uri": "https://localhost:8080/"
        },
        "id": "9hYM-GmvJeqq",
        "outputId": "ffcf416e-2c3c-462c-86a2-683920f62b4d"
      },
      "id": "9hYM-GmvJeqq",
      "execution_count": 11,
      "outputs": [
        {
          "output_type": "stream",
          "name": "stderr",
          "text": [
            "/usr/local/lib/python3.10/dist-packages/huggingface_hub/utils/_token.py:88: UserWarning: \n",
            "The secret `HF_TOKEN` does not exist in your Colab secrets.\n",
            "To authenticate with the Hugging Face Hub, create a token in your settings tab (https://huggingface.co/settings/tokens), set it as secret in your Google Colab and restart your session.\n",
            "You will be able to reuse this secret in all of your notebooks.\n",
            "Please note that authentication is recommended but still optional to access public models or datasets.\n",
            "  warnings.warn(\n"
          ]
        }
      ]
    },
    {
      "cell_type": "markdown",
      "source": [
        "### Running example"
      ],
      "metadata": {
        "id": "wZd8eddePeMz"
      },
      "id": "wZd8eddePeMz"
    },
    {
      "cell_type": "code",
      "source": [
        "query_engine = vector_index.as_query_engine()\n",
        "response_vector = query_engine.query(\"Is there a connection between sublingual varices and hypertension?\")\n",
        "response_vector.response"
      ],
      "metadata": {
        "colab": {
          "base_uri": "https://localhost:8080/",
          "height": 35
        },
        "id": "Ce98k-FrViEw",
        "outputId": "81d891d8-1d80-4e63-a727-679f3db922c1"
      },
      "id": "Ce98k-FrViEw",
      "execution_count": 12,
      "outputs": [
        {
          "output_type": "execute_result",
          "data": {
            "text/plain": [
              "'Yes, there is a connection between sublingual varices and hypertension.'"
            ],
            "application/vnd.google.colaboratory.intrinsic+json": {
              "type": "string"
            }
          },
          "metadata": {},
          "execution_count": 12
        }
      ]
    },
    {
      "cell_type": "markdown",
      "source": [
        "## Qualitative performance"
      ],
      "metadata": {
        "id": "icCmJyRixYI9"
      },
      "id": "icCmJyRixYI9"
    },
    {
      "cell_type": "code",
      "source": [
        "# Retrieving Error cases, where the context was not in the top-1\n",
        "retriever = vector_index.as_retriever(similarity_top_k=3)\n",
        "\n",
        "i = 0\n",
        "for question, true_context in data_dict.items():\n",
        "  i += 1\n",
        "\n",
        "  retrieved_items = retriever.retrieve(question)\n",
        "  if data_dict[question] not in  retrieved_items[0].text:\n",
        "    for rank, el in enumerate(retrieved_items, start=1):\n",
        "      print(question, el.text)"
      ],
      "metadata": {
        "colab": {
          "base_uri": "https://localhost:8080/"
        },
        "id": "81g8cd13xZyS",
        "outputId": "a0f6c4cf-a62b-4234-d92d-80adacdad480"
      },
      "id": "81g8cd13xZyS",
      "execution_count": 28,
      "outputs": [
        {
          "output_type": "stream",
          "name": "stdout",
          "text": [
            "The Main Gate Syndrome: a new format in mass-casualty victim \"surge\" management? [\"The incidence of large-scale urban attacks on civilian populations has significantly increased across the globe over the past decade. These incidents often result in Hospital Multiple Casualty Incidents (HMCI), which are very challenging to hospital teams. 15 years ago the Emergency and Disaster Medicine Division in the Israeli Ministry of Health defined a key of 20 percent of each hospital's bed capacity as its readiness for multiple casualties. Half of those casualties are expected to require immediate medical treatment. This study was performed to evaluate the efficacy of the current readiness guidelines based on the epidemiology of encountered HMCIs.\", 'A retrospective study of HMCIs was recorded in the Israeli Defense Force (IDF) home front command and the Israeli National Trauma Registry (ITR) between November 2000 and June 2003. An HMCI is defined by the Emergency and Disaster Medicine Division in the Israeli Ministry of Health as>or=10 casualties or>or=4 suffering from injuries with an ISS>or=16 arriving to a single hospital.', 'The study includes a total of 32 attacks, resulting in 62 HMCIs and 1292 casualties. The mean number of arriving casualties to a single hospital was 20.8+/-13.3 (range 4-56, median 16.5). In 95% of the HMCIs the casualty load was<or=52. Based on severity scores and ED discharges 1022 (79.2%) casualties did not necessitate immediate medical treatment.']\n",
            "The Main Gate Syndrome: a new format in mass-casualty victim \"surge\" management? ['Bystander resuscitation plays an important role in lifesaving cardiopulmonary resuscitation (CPR). A significant reduction in the \"no-flow-time\", quantitatively better chest compressions and an improved quality of ventilation can be demonstrated during CPR using supraglottic airway devices (SADs). Previous studies have demonstrated the ability of inexperienced persons to operate SADs after brief instruction. The aim of this pilot study was to determine whether an instruction manual consisting of four diagrams enables laypersons to operate a Laryngeal Mask Supreme® (LMAS) in the manikin.', 'An instruction manual of four illustrations with speech bubbles displaying the correct use of the LMAS was designed. Laypersons were handed a bag containing a LMAS, a bag mask valve device (BMV), a syringe prefilled with air and the instruction sheet, and were asked to perform and ventilate the manikin as displayed. Time to ventilation was recorded and degree of success evaluated.', 'A total of 150 laypersons took part. Overall 145 participants (96.7%) inserted the LMAS in the manikin in the right direction. The device was inserted inverted or twisted in 13 (8.7%) attempts. Eight (5.3%) individuals recognized this and corrected the position. Within the first 2 minutes 119 (79.3%) applicants were able to insert the LMAS and provide tidal volumes greater than 150 ml (estimated dead space). Time to insertion and first ventilation was 83.2 ± 29 s. No significant difference related to previous BLS training (P = 0.85), technical education (P = 0.07) or gender could be demonstrated (P = 0.25).']\n",
            "The Main Gate Syndrome: a new format in mass-casualty victim \"surge\" management? ['Current risk assessment models for surgical site occurrence (SSO) and surgical site infection (SSI) after open ventral hernia repair (VHR) have limited external validation. Our aim was to determine (1) whether existing models stratify patients into groups by risk and (2) which model best predicts the rate of SSO and SSI.', \"Patients who underwent open VHR and were followed for at least 1\\xa0mo were included. Using two data sets-a retrospective multicenter database (Ventral Hernia Outcomes Collaborative) and a single-center prospective database (Prospective)-each patient was assigned a predicted risk with each of the following models: Ventral Hernia Risk Score (VHRS), Ventral Hernia Working Group (VHWG), Centers for Disease Control and Prevention Wound Class, and Hernia Wound Risk Assessment Tool (HW-RAT). Patients in the Prospective database were also assigned a predicted risk from the American College of Surgeons National Surgical Quality Improvement Program (ACS-NSQIP). Areas under the receiver operating characteristic curve (area under the curve [AUC]) were compared to assess the predictive accuracy of the models for SSO and SSI. Pearson's chi-square was used to determine which models were able to risk-stratify patients into groups with significantly differing rates of actual SSO and SSI.\", 'The Ventral Hernia Outcomes Collaborative database (n\\xa0=\\xa0795) had an overall SSO and SSI rate of 23% and 17%, respectively. The AUCs were low for SSO (0.56, 0.54, 0.52, and 0.60) and SSI (0.55, 0.53, 0.50, and 0.58). The VHRS (P\\xa0=\\xa00.01) and HW-RAT (P\\xa0<\\xa00.01) significantly stratified patients into tiers for SSO, whereas the VHWG (P\\xa0<\\xa00.05) and HW-RAT (P\\xa0<\\xa00.05) stratified for SSI. In the Prospective database (n\\xa0=\\xa088), 14% and 8% developed an SSO and SSI, respectively. The AUCs were low for SSO (0.63, 0.54, 0.50, 0.57, and 0.69) and modest for SSI (0.81, 0.64, 0.55, 0.62, and 0.73). The ACS-NSQIP (P\\xa0<\\xa00.01) stratified for SSO, whereas the VHRS (P\\xa0<\\xa00.01) and ACS-NSQIP (P\\xa0<\\xa00.05) stratified for SSI. In both databases, VHRS, VHWG, and Centers for Disease Control and Prevention overestimated risk of SSO and SSI, whereas HW-RAT and ACS-NSQIP underestimated risk for all groups.']\n",
            "Assessing Patient Reported Outcomes Measures via Phone Interviews Versus Patient Self-Survey in the Clinic: Are We Measuring the Same Thing? ['The validity of quality of care measurement has important implications for practicing clinicians, their patients, and all involved with health care delivery. We used empirical data from managed care patients enrolled in west coast physician organizations to test the hypothesis that observed changes in health-related quality of life across a 2.5-year window reflecting process of care.DATA SOURCES/', 'Patient self-report data as well as clinically detailed medical record review regarding 963 patients with chronic disease associated with managed care from three west coast states.', 'Prospective cohort study of change in health-related quality of life scores across 30 months as measured by change in SF-12 physical component scores.DATA COLLECTION/', 'Patient self-report and medical record abstraction.', 'We found a positive relationship between better process scores and higher burden of illness (p<.05). After adjustment for burden of illness, using an instrumental variables approach revealed better process is associated with smaller declines in SF-12 scores across a 30-month observation window (p=.014). The application of the best quartile of process of care to patients currently receiving poor process is associated with a 4.24 increment in delta SF-12-physical component summary scores.']\n",
            "Assessing Patient Reported Outcomes Measures via Phone Interviews Versus Patient Self-Survey in the Clinic: Are We Measuring the Same Thing? ['Evidence-based practice (EBP) is widely promoted, but does EBP produce better patient outcomes? We report a natural experiment when part of the internal medicine service in a hospital was reorganized in 2003 to form an EBP unit, the rest of the service remaining unchanged. The units attended similar patients until 2012 permitting comparisons of outcomes and activity.', 'We used routinely collected statistics (2004-11) to compare the two different methods of practice and test whether patients being seen by the EBP unit differed from standard practice (SP) patients. Data were available by doctor and year. To check for differences between the EBP and SP doctors prior to reorganization, we used statistics from 2000 to 2003. We looked for changes in patient outcomes or activity following reorganization and whether the EBP unit was achieving significantly different results from SP. Data across the periods were combined and tested using Mann-Whitney test.', \"No statistically significant differences in outcomes were detected between the EBP and the SP doctors prior to reorganization. Following the unit's establishment, the mortality of patients being treated by EBP doctors compared with their previous performance dropped from 7.4% to 6.3% (P\\u2009<\\u20090.02) and length of stay from 9.15 to 6.01 days (P\\u2009=\\u20090.002). No statistically significant improvements were seen in SP physicians' performance. No differences in the proportion of patients admitted or their complexity between the services were detected. Despite this, EBP patients had a clinically significantly lower risk of death 6.27% versus 7.75% (P\\u2009<\\u20090.001) and a shorter length of stay 6.01 versus 8.46 days (P\\u2009<\\u20090.001) than SP patients. Readmission rates were similar: 14.4% (EBP); 14.5% (SP). EBP doctors attended twice as many patients/doctor as SP doctors.\"]\n",
            "Assessing Patient Reported Outcomes Measures via Phone Interviews Versus Patient Self-Survey in the Clinic: Are We Measuring the Same Thing? ['We sought to develop a more reliable structured implicit chart review instrument for use in assessing the quality of care for chronic disease and to examine if ratings are more reliable for conditions in which the evidence base for practice is more developed.', 'We conducted a reliability study in a cohort with patient records including both outpatient and inpatient care as the objects of measurement. We developed a structured implicit review instrument to assess the quality of care over one year of treatment. 12 reviewers conducted a total of 496 reviews of 70 patient records selected from 26 VA clinical sites in two regions of the country. Each patient had between one and four conditions specified as having a highly developed evidence base (diabetes and hypertension) or a less developed evidence base (chronic obstructive pulmonary disease or a collection of acute conditions). Multilevel analysis that accounts for the nested and cross-classified structure of the data was used to estimate the signal and noise components of the measurement of quality and the reliability of implicit review.', 'For COPD and a collection of acute conditions the reliability of a single physician review was quite low (intra-class correlation = 0.16-0.26) but comparable to most previously published estimates for the use of this method in inpatient settings. However, for diabetes and hypertension the reliability is significantly higher at 0.46. The higher reliability is a result of the reviewers collectively being able to distinguish more differences in the quality of care between patients (p<0.007) and not due to less random noise or individual reviewer bias in the measurement. For these conditions the level of true quality (i.e. the rating of quality of care that would result from the full population of physician reviewers reviewing a record) varied from poor to good across patients.']\n",
            "Is there a favorable subset of patients with prostate cancer who develop oligometastases? ['Prostate-specific antigen (PSA) levels can show wide fluctuations when repeatedly measured. Here we investigatewd if: (a) biopsy timing influences the prostate cancer (PC) detection rate in patients with fluctuating PSA (flu-PSA) in comparison with patients with steadily increasing PSA (si-PSA); (b) PSA slope estimated in patients with flu-PSA predicts a different risk of cancer detection; (c) flu-PSA and si-PSA patients develop PC in topographically different sites; (d) the behaviour of pre-operative PSA is an expression of a disease with defferent characteristics to the following radical prostatectomy.', 'The study involved 211 patients who underwent at least a second biopsy after a first negative prostate biopsy. PSA Slope, PSA velocity (PSAV) and PSA doubling time (PSADT) were estimated. Flu-PSA level was defined as a PSA series with at least one PSA value lower than the one immediately preceding it.', '82 patients had flu-PSA levels and 129 si-PSA levels. There were no significant differences between the two groups in terms of cancer detection, clinical or pathological stage, but the si-PSA group with cancer had a higher Gleason score. No difference was found for PSA Slope between flu-PSA patients with cancer and those without.']\n",
            "Is there a favorable subset of patients with prostate cancer who develop oligometastases? ['To analyze, retrospectively, the patterns and behavior of metastatic lesions in prostate cancer patients treated with external beam radiotherapy and to investigate whether patients with<or =5 lesions had an improved outcome relative to patients with>5 lesions.', 'The treatment and outcome of 369 eligible patients with Stage T1-T3aN0-NXM0 prostate cancer were analyzed during a minimal 10-year follow-up period. All patients were treated with curative intent to a mean dose of 65 Gy. The full history of any metastatic disease was documented for each subject, including the initial site of involvement, any progression over time, and patient survival.', 'The overall survival rate for the 369 patients was 75% at 5 years and 45% at 10 years. The overall survival rate of patients who never developed metastases was 90% and 81% at 5 and 10 years, respectively. However, among the 74 patients (20%) who developed metastases, the survival rate at both 5 and 10 years was significantly reduced (p<0.0001). The overall survival rate for patients who developed bone metastases was 58% and 27% at 5 and 10 years, respectively, and patients with bone metastases to the pelvis fared worse compared with those with vertebral metastases. With regard to the metastatic number, patients with<or =5 metastatic lesions had superior survival rates relative to those with>5 lesions (73% and 36% at 5 and 10 years vs. 45% and 18% at 5 and 10 years, respectively; p = 0.02). In addition, both the metastasis-free survival rate and the interval measured from the date of the initial diagnosis of prostate cancer to the development of bone metastasis were statistically superior for patients with<or =5 lesions compared with patients with>5 lesions (p = 0.01 and 0.02, respectively). However, the survival rate and the interval from the date of diagnosis of bone metastasis to the time of death for patients in both groups were not significantly different, statistically (p = 0.17 and 0.27, respectively).']\n",
            "Is there a favorable subset of patients with prostate cancer who develop oligometastases? ['To determine the effect of prior benign prostate biopsies on the surgical and clinical outcomes of patients treated with radical perineal prostatectomy for prostate cancer.', 'A total of 1369 patients with clinically localized prostate cancer underwent radical prostatectomy by a single surgeon between 1991 and 2001. A subset of 203 patients (14.9%), who had undergone at least one prior benign prostate biopsy for a rising prostate-specific antigen and/or abnormal digital rectal examination, constituted our study population. A total of 1115 patients with no prior biopsy represented our control group. After prostatectomy, patients were evaluated at 6-month intervals for biochemical evidence of recurrence, defined as a prostate-specific antigen level of 0.5 ng/mL or greater.', 'Patients with a prior benign biopsy had more favorable pathologic features with more organ-confined (74% versus 64%; P<0.001) and less margin-positive (9.8% versus 18%) disease. Only 24 patients (12%) in the study group (versus 20% in control group; P = 0.01) had eventual evidence of biochemical failure. Kaplan-Meier analyses suggested that patients with prior benign biopsies have improved biochemical disease-free survival, especially for those with more aggressive disease (Gleason sum 7 or greater; P<0.01). Overall, patients in the study group had lower probability (odds ratio 0.57, P<0.001) of biochemical failure compared with those in the control group.']\n",
            "Do teleoncology models of care enable safe delivery of chemotherapy in rural towns? ['To provide equality of cancer care to rural patients, Townsville Cancer Centre administers intensive chemotherapy regimens to rural patients with node-positive breast and metastatic colorectal cancers at the same doses as urban patients. Side-effects were usually managed by rural general practitioners locally.AIM: The aim is to determine the safety of this practice by comparing the profile of serious adverse events and dose intensities between urban and rural patients at the Townsville Cancer Centre.', \"A retrospective audit was conducted in patients with metastatic colorectal and node-positive breast cancers during a 24-month period. Fisher's exact test was used for analysis. Rurality was determined as per rural, remote and metropolitan classification.\", 'Of the 121 patients included, 70 and 51 patients had breast and colon cancers respectively. The urban versus rural patient split among all patients, breast and colorectal cancer subgroups was 68 versus 53, 43 versus 27 and 25 versus 26 respectively. A total of 421 cycles was given with dose intensity of>95% for breast cancer in both groups (P>0.05). Rate of febrile neutropenia was 9.3% versus 7.4% (P = 0.56). For XELOX, rate of diarrhoea was 20% versus 19% (P = 0.66) and rate of vomiting was 20% versus 11% (P = 0.11). Only two patients were transferred to Townsville for admission. No toxic death occurred in either group.']\n",
            "Do teleoncology models of care enable safe delivery of chemotherapy in rural towns? ['To compare the dose intensity and toxicity profiles for patients undergoing chemotherapy at the Townsville Cancer Centre (TCC), a tertiary cancer centre in northern Queensland, with those for patients treated in Mount Isa, supervised by the same medical oncologists via teleoncology.', 'A quasi-experimental design comparing two patient groups.', 'TCC and Mount Isa Hospital, which both operate under the auspices of the Townsville Teleoncology Network (TTN).', 'Eligible patients who received chemotherapy at TCC or Mt Isa Hospital between 1 May 2007 and 30 April 2012.', 'Teleoncology model for managing cancer patients in rural towns.', 'Dose intensity (doses, number of cycles and lines of treatment) and toxicity rates (rate of serious side effects, hospital admissions and mortality).', 'Over 5 years, 89 patients received a total of 626 cycles of various chemotherapy regimens in Mount Isa. During the same period, 117 patients who received a total of 799 cycles of chemotherapy at TCC were eligible for inclusion in the comparison group. There were no significant differences between the Mount Isa and TCC patients in most demographic characteristics, mean numbers of treatment cycles, dose intensities, proportions of side effects, and hospital admissions. There were no toxicity-related deaths in either group.']\n",
            "Do teleoncology models of care enable safe delivery of chemotherapy in rural towns? [\"Communication with terminally ill patients is a main responsibility of physicians. However, many physicians feel insufficiently prepared for this task. Models of courses resulting in improvements of communicative skills of participants have been published mainly in the Anglo-American literature. This study describes the realization of a 2-day course model based on the experiences of the first three courses of this kind in Rhineland-Palatinate, and analyzes changes of participants' communication behavior.\", \"After each seminary, an evaluation form concerning participants' satisfaction with the course was filled in. Furthermore, all course participants received a questionnaire at the beginning and at the end of the course, as well as 3 months afterwards. The participants were asked to assess their own sense of security in seven different communication settings on a visual analog scale, and to specify perceived changes in their communication behavior 3 months after the course.\", 'The first three courses were attended by 31 participants. Course evaluation revealed high satisfaction scores with methods as well as with clarity and relevance of the contents. Self-assessment of participants showed a growing sense of security in different communication settings. Important increases could be demonstrated for communicating a diagnosis of cancer with good or less good prognosis, recurrence of cancer or a far progressive cancer disease without curative approach. 3 months after the course, participants described multiple changes indicating increased sensibility and professionalism in communication behavior.']\n",
            "Is it better to be big? ['Cholecystectomy for GB polyps that are larger than 10 mm is generally recommended because of the high probability of neoplasm. In contrast, a follow-up strategy is preferred for GB polyps smaller than 10 mm. However, there are no treatment guidelines for polyps that grow in size during the follow-up period.STUDY: We retrospectively investigated 145 patients with GB polyps who underwent at least 1 ultrasonographic follow-up examination over an interval greater than 6 months, before cholecystectomy at Samsung medical center, South Korea, from 1994 to 2007. The growth rate was determined based on the change in size per time interval between 2 ultrasonographic examinations (mm/mo).', 'The median age of the patients was 48 years (range: 25 to 75). One hundred twenty-five non-neoplastic polyps and 20 neoplastic polyps were found. Neoplastic polyps were more frequently found in patients older than 60 years, those with hypertension, a polyp size greater than 10 mm, and a rapid growth rate greater than 0.6 mm/mo. On multivariate analysis, however, the growth rate was not related to the neoplastic nature of a polyp, but older age (>60 y) and large size (>10 mm) were significantly associated with neoplastic polyps.']\n",
            "Is it better to be big? [\"Most staging systems for soft tissue sarcoma are based on histologic malignancy-grade, tumor size and tumor depth. These factors are generally dichotomized, size at 5 cm. We believe it is unlikely that tumor depth per se should influence a tumor's metastatic capability. Therefore we hypothesized that the unfavourable prognostic importance of depth could be explained by the close association between size and depth, deep-seated tumors on average being larger than the superficial ones. When tumor size is dichotomized, this effect should be most pronounced in the large size (>5 cm) group in which the size span is larger.\", 'We analyzed the associations between tumor size and depth and the prognostic importance of grade, size and depth in a population-based series of 490 adult patients with soft tissue sarcoma of the extremity or trunk wall with complete, 4.5 years minimum, follow-up.', 'Multivariate analysis showed no major prognostic effect of tumor depth when grade and size were taken into account. The mean size of small tumors was the same whether superficial or deep but the mean size of large and deep-seated tumors were one third larger than that of large but superficial tumors. Tumor depth influenced the prognosis in the subset of high-grade and large tumors. In this subset deep-seated tumors had poorer survival rate than superficial tumors, which could be explained by the larger mean size of the deep-seated tumors.']\n",
            "Is it better to be big? [\"The long-term survival of patients with gastric cancer is governed by various factors, such as the clinical stage of the cancer, the patient's nutritional state, and the treatment and may be governed by the volume of intraperitoneal adipose tissue. The aim of this study is to clarify the relationship between the degree of the patients' body mass index and their long-term survival.\", \"Gastric cancer patients who had undergone a gastrectomy with D2-lymphadenectomy and with resection A and B according to the criteria of the Japanese Research Society for Gastric Cancer Rules were subgrouped into those patients with a body mass index<0.185 (the lower body mass index group) and those patients with a body mass index>0.210 (the higher body mass index group). The patient's morbidity and long-term survival rate was retrospectively compared between the 2 groups.\", 'A significantly longer mean survival rate was observed for the lower body mass index group in stage 2 (1667 vs. 1322 days, P = 0.0240). Also, a significantly longer mean survival rate was observed for the higher BMI group in stage 3a (1431 vs. 943, P = 0.0071).']\n",
            "Can surgeon familiarization with current evidence lead to a change in practice? ['Evidence-based practice (EBP) is widely promoted, but does EBP produce better patient outcomes? We report a natural experiment when part of the internal medicine service in a hospital was reorganized in 2003 to form an EBP unit, the rest of the service remaining unchanged. The units attended similar patients until 2012 permitting comparisons of outcomes and activity.', 'We used routinely collected statistics (2004-11) to compare the two different methods of practice and test whether patients being seen by the EBP unit differed from standard practice (SP) patients. Data were available by doctor and year. To check for differences between the EBP and SP doctors prior to reorganization, we used statistics from 2000 to 2003. We looked for changes in patient outcomes or activity following reorganization and whether the EBP unit was achieving significantly different results from SP. Data across the periods were combined and tested using Mann-Whitney test.', \"No statistically significant differences in outcomes were detected between the EBP and the SP doctors prior to reorganization. Following the unit's establishment, the mortality of patients being treated by EBP doctors compared with their previous performance dropped from 7.4% to 6.3% (P\\u2009<\\u20090.02) and length of stay from 9.15 to 6.01 days (P\\u2009=\\u20090.002). No statistically significant improvements were seen in SP physicians' performance. No differences in the proportion of patients admitted or their complexity between the services were detected. Despite this, EBP patients had a clinically significantly lower risk of death 6.27% versus 7.75% (P\\u2009<\\u20090.001) and a shorter length of stay 6.01 versus 8.46 days (P\\u2009<\\u20090.001) than SP patients. Readmission rates were similar: 14.4% (EBP); 14.5% (SP). EBP doctors attended twice as many patients/doctor as SP doctors.\"]\n",
            "Can surgeon familiarization with current evidence lead to a change in practice? ['The aim of this study was to determine if educating residents about the potential effects of radiation exposure from computed tomographic (CT) imaging alters ordering patterns. This study also explored whether referring physicians are interested in radiation education and was an initial effort to address their CT ordering behavior.', \"Two to four months after a radiologist's lecture on the potential effects of radiation exposure related to CT scans, urology and orthopedic residents were surveyed regarding the number and types of CT scans they ordered, the use of alternative imaging modalities, and whether they used the lecture information to educate patients.\", 'Twenty-one resident lecture attendants completed the survey. The number of CT scans ordered after the lecture stayed constant for 90% (19 of 21) and decreased for 10% (two of 21). The types of CT scans ordered changed after the lecture for 14% (three of 21). Thirty-three percent (seven of 21) reported increases in alternative imaging after the lecture, including 24% (five of 21) reporting increases in magnetic resonance imaging and 19% (four of 21) reporting increases in ultrasound. Patients directed questions about radiation exposure to 57% (12 of 21); 38% (eight of 21) used the lecture information to educate patients. Referring physicians were interested in the topic, and afterward, other physician groups requested radiation education lectures.']\n",
            "Can surgeon familiarization with current evidence lead to a change in practice? [\"It is widely accepted that exemplary surgical care involves a surgeon's involvement in the preoperative, perioperative, and postoperative periods. In an era of ever-expanding therapeutic modalities available to the vascular surgeon, it is important that trainees gain experience in preoperative decision-making and how this affects a patient's operative and postoperative course. The purpose of this study was to define the current experience of residents on a vascular surgery service regarding the continuity of care they are able to provide for patients and the factors affecting this experience.\", \"This prospective cohort study was approved by the Institutional Review Board and conducted at the University of British Columbia during January 2005. All patients who underwent a vascular procedure at either of the two teaching hospitals were included. In addition to type of case (emergent, outpatient, inpatient), resident demographic data and involvement in each patient's care (preoperative assessment, postoperative daily assessment, and follow-up clinic assessment) were recorded. Categoric data were analyzed with the chi2 test.\", 'The study included 159 cases, of which 65% were elective same-day admission patients, 20% were elective previously admitted patients; and 15% were emergent. The overall rate of preoperative assessment was 67%, involvement in the decision to operate, 17%; postoperative assessment on the ward, 79%; and patient follow-up in clinic, 3%. The rate of complete in-hospital continuity of care (assessing patient pre-op and post-op) was 57%. Emergent cases were associated with a significantly higher rate of preoperative assessment (92% vs 63%, P<.05). For elective cases admitted before the day of surgery compared with same-day admission patients, the rates of preoperative assessment (78% vs 58%, P<.05) and involvement in the decision to operate (16% vs 4%, P<.05) were significantly higher.']\n",
            "Do overweight children necessarily make overweight adults? ['As parents of young children are often unaware their child is overweight, screening provides the opportunity to inform parents and provide the impetus for behaviour change. We aimed to determine if parents could recall and understand the information they received about their overweight child after weight screening.', 'Randomised controlled trial of different methods of feedback.', 'Participants were recruited through primary and secondary care but appointments took place at a University research clinic.', \"1093 children aged 4-8\\u2005years were screened. Only overweight children (n=271, 24.7%) are included in this study. Parents of overweight children were randomised to receive feedback regarding their child's weight using best practice care (BPC) or motivational interviewing (MI) at face-to-face interviews typically lasting 20-40\\u2005min. 244 (90%) parents participated in a follow-up interview 2\\u2005weeks later to assess recall and understanding of information from the feedback session.\", 'Interviews were audio-taped and transcribed verbatim before coding for amount and accuracy of recall. Scores were calculated for total recall and sub-categories of interest.', \"Overall, 39% of the information was recalled (mean score 6.3 from possible score of 16). Parents given feedback via BPC recalled more than those in the MI group (difference in total score 0.48; 95% CI 0.05 to 0.92). Although 94% of parents were able to correctly recall their child's weight status, fewer than 10 parents could accurately describe what the measurements meant. Maternal education (0.81; 0.25 to 1.37) and parental ratings of how useful they found the information (0.19; 0.04 to 0.35) were significant predictors of recall score in multivariate analyses.\"]\n",
            "Do overweight children necessarily make overweight adults? ['To compare growth curves of body mass index from children to adolescents, and then to young adults, in Japanese girls and women in birth cohorts born from 1930 to 1999.', 'Retrospective repeated cross sectional annual nationwide surveys (national nutrition survey, Japan) carried out from 1948 to 2005.', 'Japan.', '76,635 females from 1 to 25 years of age.', 'Body mass index.', 'Generally, body mass index decreased in preschool children (2-5 years), increased in children (6-12 years) and adolescents (13-18 years), and slightly decreased in young adults (19-25 years) in these Japanese females. However, the curves differed among birth cohorts. More recent cohorts were more overweight as children but thinner as young women. The increments in body mass index in early childhood were larger in more recent cohorts than in older cohorts. However, the increments in body mass index in adolescents were smaller and the decrease in body mass index in young adults started earlier, with lower peak values in more recent cohorts than in older cohorts. The decrements in body mass index in young adults were similar in all birth cohorts.']\n",
            "Do overweight children necessarily make overweight adults? ['The study was carried on 2096 school children (1043 male, 1053 female) in Ankara. Their mean age was 9.03 years. Demographic properties of the study group and their families were determined and the serum lipid levels of the subjects were obtained. The relation between these demographic properties and lipid levels were investigated.', \"In 135 of the subjects' serum cholesterol level was>or=200 mg/dL and in 83 subjects serum LDL-cholesterol level was>or=130 mg/dL. Despite 64.4% of the subjects reported a family history of hyperlipidemia, no relations between family history and serum lipid levels were found.\"]\n",
            "Is it Crohn's disease? ['Guidelines emphasize that irritable bowel syndrome (IBS) is not a diagnosis of exclusion and encourage clinicians to make a positive diagnosis using the Rome criteria alone. Yet many clinicians are concerned about overlooking alternative diagnoses. We measured beliefs about whether IBS is a diagnosis of exclusion, and measured testing proclivity between IBS experts and community providers.', 'We developed a survey to measure decision-making in two standardized patients with Rome III-positive IBS, including IBS with diarrhea (D-IBS) and IBS with constipation (C-IBS). The survey elicited provider knowledge and beliefs about IBS, including testing proclivity and beliefs regarding IBS as a diagnosis of exclusion. We surveyed nurse practitioners, primary care physicians, community gastroenterologists, and IBS experts.', 'Experts were less likely than nonexperts to endorse IBS as a diagnosis of exclusion (8 vs. 72%; P<0.0001). In the D-IBS vignette, experts were more likely to make a positive diagnosis of IBS (67 vs. 38%; P<0.001), to perform fewer tests (2.0 vs. 4.1; P<0.01), and to expend less money on testing (US$297 vs. $658; P<0.01). Providers who believed IBS is a diagnosis of exclusion ordered 1.6 more tests and consumed $364 more than others (P<0.0001). Experts only rated celiac sprue screening and complete blood count as appropriate in D-IBS; nonexperts rated most tests as appropriate. Parallel results were found in the C-IBS vignette.']\n",
            "Is it Crohn's disease? ['Misty mesentery appearance is commonly reported in daily practice, usually as a secondary finding of various pathological entities, but sometimes it is encountered as an isolated finding that cannot be attributed to any other disease entity. We aimed to assess the prevalence of cases with incidentally detected idiopathic misty mesentery on computed tomography (CT) and to summarize the pathologies leading to this appearance.', 'Medical records and initial and follow-up CT features of patients with misty mesentery appearance between January 2011 and January 2013 were analysed. The study included cases with no known cause of misty mesentery according to associated CT findings, clinical history, or biochemical manifestations, and excluded patients with diseases known to cause misty mesentery, lymph nodes greater than a short-axis diameter of 5\\xa0mm, discrete mesenteric masses, or bowel wall thickening.', 'There were a total of 561 patients in whom misty mesentery appearance was depicted on abdominopelvic CT scans. A total of 80 cases were found to have isolated incidental idiopathic misty mesentery, giving a prevalence of 7%. The common indication for CT examination was abdominal pain. There was a slight female predominance (51.3%). 67.5% of all patients were classified as obese and 17.5% as overweight.']\n",
            "Is it Crohn's disease? ['Specific markers for differentiation of nonalcoholic (NASH) from alcoholic steatohepatitis (ASH) are lacking. We investigated the role of routine laboratory parameters in distinguishing NASH from ASH.', 'Liver biopsies performed at our hospital over a 10-year period were reviewed, 95 patients with steatohepatitis identified and their data prior to biopsy reevaluated. The diagnosis NASH or ASH was assigned (other liver diseases excluded) on the basis of the biopsy and history of alcohol consumption (<140 g/week). Logistic regression models were used for analysis.', 'NASH was diagnosed in 58 patients (61%; 30 f) and ASH in 37 (39%; 9 f). High-grade fibrosis (59% vs. 19%, P<0.0001) and an AST/ALT ratio>1 (54.1% vs 20.7%, P = 0.0008) were more common in ASH. The MCV was elevated in 53% of ASH patients and normal in all NASH patients (P<0.0001). Multivariate analysis identified the MCV (P = 0.0013), the AST/ALT ratio (P = 0.011) and sex (P = 0.0029) as relevant regressors (aROC = 0.92). The AST/ALT ratio (P<0.0001) and age (P = 0.00049) were independent predictors of high-grade fibrosis. Differences in MCV were more marked in high-grade fibrosis.']\n"
          ]
        }
      ]
    },
    {
      "cell_type": "code",
      "source": [
        "data_dict['Do overweight children necessarily make overweight adults?']"
      ],
      "metadata": {
        "colab": {
          "base_uri": "https://localhost:8080/",
          "height": 143
        },
        "id": "Vv43VLpV_L-N",
        "outputId": "d60da9ac-d8d7-4797-82b8-eba0660d9531"
      },
      "id": "Vv43VLpV_L-N",
      "execution_count": 32,
      "outputs": [
        {
          "output_type": "execute_result",
          "data": {
            "text/plain": [
              "\"['To compare growth curves of body mass index from children to adolescents, and then to young adults, in Japanese girls and women in birth cohorts born from 1930 to 1999.', 'Retrospective repeated cross sectional annual nationwide surveys (national nutrition survey, Japan) carried out from 1948 to 2005.', 'Japan.', '76,635 females from 1 to 25 years of age.', 'Body mass index.', 'Generally, body mass index decreased in preschool children (2-5 years), increased in children (6-12 years) and adolescents (13-18 years), and slightly decreased in young adults (19-25 years) in these Japanese females. However, the curves differed among birth cohorts. More recent cohorts were more overweight as children but thinner as young women. The increments in body mass index in early childhood were larger in more recent cohorts than in older cohorts. However, the increments in body mass index in adolescents were smaller and the decrease in body mass index in young adults started earlier, with lower peak values in more recent cohorts than in older cohorts. The decrements in body mass index in young adults were similar in all birth cohorts.']\""
            ],
            "application/vnd.google.colaboratory.intrinsic+json": {
              "type": "string"
            }
          },
          "metadata": {},
          "execution_count": 32
        }
      ]
    },
    {
      "cell_type": "markdown",
      "source": [
        "## Evaluation of Retrieval"
      ],
      "metadata": {
        "id": "59OrTtEPPkdo"
      },
      "id": "59OrTtEPPkdo"
    },
    {
      "cell_type": "code",
      "source": [
        "def evaluate_metrics(d, vector_index, top_k):\n",
        "    hits = 0\n",
        "    reciprocal_ranks = []\n",
        "\n",
        "    retriever = vector_index.as_retriever(similarity_top_k=top_k)\n",
        "\n",
        "    for question, true_context in d.items():\n",
        "        retrieved_items = retriever.retrieve(question)\n",
        "\n",
        "        hit = False\n",
        "        for rank, el in enumerate(retrieved_items, start=1):\n",
        "            if true_context in el.text :\n",
        "                if not hit:\n",
        "                    hits += 1\n",
        "                    reciprocal_ranks.append(1 / rank)\n",
        "                hit = True\n",
        "\n",
        "    hit_rate = hits / len(d)\n",
        "    mrr = sum(reciprocal_ranks) / len(d) if reciprocal_ranks else 0\n",
        "    return hit_rate, mrr\n",
        "\n",
        "# Evaluate metrics for top k\n",
        "top_k_values = [1, 2, 3]\n",
        "results = {}\n",
        "for k in top_k_values:\n",
        "    hit_rate, mrr = evaluate_metrics(data_dict, vector_index, k)\n",
        "    results[k] = {'Hit Rate': hit_rate, 'MRR': mrr}\n",
        "\n",
        "for k, metrics in results.items():\n",
        "    print(f\"Top {k}: Hit Rate = {metrics['Hit Rate']:.2f}, MRR = {metrics['MRR']:.4f}\")"
      ],
      "metadata": {
        "colab": {
          "base_uri": "https://localhost:8080/"
        },
        "id": "ZZeF5jEQRfrN",
        "outputId": "fdc6aadb-adce-46a7-cc83-bacba24c75b6"
      },
      "id": "ZZeF5jEQRfrN",
      "execution_count": 62,
      "outputs": [
        {
          "output_type": "stream",
          "name": "stdout",
          "text": [
            "Top 1: Hit Rate = 0.98, MRR = 0.9840\n",
            "Top 2: Hit Rate = 0.99, MRR = 0.9870\n",
            "Top 3: Hit Rate = 0.99, MRR = 0.9870\n"
          ]
        }
      ]
    },
    {
      "cell_type": "markdown",
      "source": [
        "## Evaluation on QA"
      ],
      "metadata": {
        "id": "H5wMJS9JDj0d"
      },
      "id": "H5wMJS9JDj0d"
    },
    {
      "cell_type": "code",
      "source": [
        "predictions, gt = {}, {}\n",
        "\n",
        "class_dict = { 'no': 0, 'yes': 1, 'maybe': 2, 'none':3}\n",
        "query_engine = vector_index.as_query_engine()\n",
        "\n",
        "for i, q in tqdm.tqdm(data.items()):\n",
        "    question = str(q['QUESTION'])\n",
        "    text_prompt = \"Answer question {}. Answer can only be one word and it should be either 'yes', 'no', or 'maybe'.\".format(\n",
        "        question)\n",
        "\n",
        "    response_vector = query_engine.query(text_prompt)\n",
        "    resp = response_vector.response\n",
        "\n",
        "    r = 'none'\n",
        "    if 'no' in resp.lower():\n",
        "        r = 'no'\n",
        "    elif 'yes' in resp.lower():\n",
        "        r = 'yes'\n",
        "    elif 'maybe' in resp.lower() or 'perhaps' in resp.lower():\n",
        "        r = 'maybe'\n",
        "\n",
        "    predictions.update({i: class_dict[r]})\n",
        "    gt.update({i: class_dict[labels[i]]})"
      ],
      "metadata": {
        "colab": {
          "base_uri": "https://localhost:8080/"
        },
        "id": "_Xn8V_v1YCEA",
        "outputId": "c40a20f1-f50e-4f4e-c258-c28c8dd19ba2"
      },
      "id": "_Xn8V_v1YCEA",
      "execution_count": 12,
      "outputs": [
        {
          "output_type": "stream",
          "name": "stderr",
          "text": [
            "100%|██████████| 500/500 [05:29<00:00,  1.52it/s]\n"
          ]
        }
      ]
    },
    {
      "cell_type": "code",
      "source": [
        "accuracy_score(list(gt.values()), list(predictions.values() ))"
      ],
      "metadata": {
        "colab": {
          "base_uri": "https://localhost:8080/"
        },
        "id": "zYMdHeSmDt4I",
        "outputId": "a1775bbc-1417-4818-d7bf-37dd273587bc"
      },
      "id": "zYMdHeSmDt4I",
      "execution_count": 13,
      "outputs": [
        {
          "output_type": "execute_result",
          "data": {
            "text/plain": [
              "0.69"
            ]
          },
          "metadata": {},
          "execution_count": 13
        }
      ]
    },
    {
      "cell_type": "code",
      "source": [
        "f1_score(list(gt.values()), list(predictions.values()), average='macro')"
      ],
      "metadata": {
        "colab": {
          "base_uri": "https://localhost:8080/"
        },
        "id": "At582fEXDvBJ",
        "outputId": "8f137716-3df9-4528-e522-908c52eb5dcb"
      },
      "id": "At582fEXDvBJ",
      "execution_count": 14,
      "outputs": [
        {
          "output_type": "execute_result",
          "data": {
            "text/plain": [
              "0.5075679399087727"
            ]
          },
          "metadata": {},
          "execution_count": 14
        }
      ]
    },
    {
      "cell_type": "code",
      "source": [
        "# Confusion matrix\n",
        "from sklearn.metrics import confusion_matrix, ConfusionMatrixDisplay\n",
        "\n",
        "cm = confusion_matrix(list(gt.values()), list(predictions.values()), labels=[0,1, 2])\n",
        "disp = ConfusionMatrixDisplay(confusion_matrix=cm, display_labels=['no', 'yes', 'maybe'])\n",
        "disp.plot(cmap=plt.cm.Blues,)\n",
        "plt.show()"
      ],
      "metadata": {
        "colab": {
          "base_uri": "https://localhost:8080/",
          "height": 449
        },
        "id": "5iFtvtZ7Wm8l",
        "outputId": "a3d7a13f-bfbb-4124-a99c-ab48f712d890"
      },
      "id": "5iFtvtZ7Wm8l",
      "execution_count": 43,
      "outputs": [
        {
          "output_type": "display_data",
          "data": {
            "text/plain": [
              "<Figure size 640x480 with 2 Axes>"
            ],
            "image/png": "[encoded data removed]"
          },
          "metadata": {}
        }
      ]
    },
    {
      "cell_type": "markdown",
      "source": [
        "## Examples"
      ],
      "metadata": {
        "id": "QQAPQ5kqTDst"
      },
      "id": "QQAPQ5kqTDst"
    },
    {
      "cell_type": "code",
      "source": [
        "c = 0\n",
        "for i, q in tqdm.tqdm(data.items()):\n",
        "  c += 1\n",
        "  if c >420:\n",
        "    print(q['QUESTION'], labels[i])\n",
        "  if c >440:\n",
        "    break"
      ],
      "metadata": {
        "colab": {
          "base_uri": "https://localhost:8080/"
        },
        "id": "DZxzH2H4TFFE",
        "outputId": "df6464ab-8a2a-4ace-9882-3be1403c3852"
      },
      "id": "DZxzH2H4TFFE",
      "execution_count": 36,
      "outputs": [
        {
          "output_type": "stream",
          "name": "stderr",
          "text": [
            " 88%|████████▊ | 440/500 [00:00<00:00, 362501.23it/s]"
          ]
        },
        {
          "output_type": "stream",
          "name": "stdout",
          "text": [
            "Surgical management of the atherosclerotic ascending aorta: is endoaortic balloon occlusion safe? no\n",
            "Is there a relationship between serum paraoxonase level and epicardial fat tissue thickness? no\n",
            "Do antibiotics decrease post-tonsillectomy morbidity? no\n",
            "Should prostate specific antigen be adjusted for body mass index? no\n",
            "Is it necessary to insert a nasobiliary drainage tube routinely after endoscopic clearance of the common bile duct in patients with choledocholithiasis-induced cholangitis? no\n",
            "Have antiepileptic drug prescription claims changed following the FDA suicidality warning? no\n",
            "Are high flow nasal cannulae noisier than bubble CPAP for preterm infants? no\n",
            "Are the arginine vasopressin V1a receptor microsatellites related to hypersexuality in children with a prepubertal and early adolescent bipolar disorder phenotype? no\n",
            "Are variations in the use of carotid endarterectomy explained by population Need? no\n",
            "Do supervised colorectal trainees differ from consultants in terms of quality of TME surgery? no\n",
            "Major depression and alcohol use disorder in adolescence: Does comorbidity lead to poorer outcomes of depression? no\n",
            "Perioperative care in an animal model for training in abdominal surgery: is it necessary a preoperative fasting? no\n",
            "Metastatic carcinoma to the cervical nodes from an unknown head and neck primary site: Is there a need for neck dissection? no\n",
            "Does Viral Co-Infection Influence the Severity of Acute Respiratory Infection in Children? no\n",
            "Cardiopulmonary bypass temperature does not affect postoperative euthyroid sick syndrome? no\n",
            "Xanthogranulomatous cholecystitis: a premalignant condition? no\n",
            "Does septoplasty change the dimensions of compensatory hypertrophy of the middle turbinate? no\n",
            "Prescriptions as a proxy for asthma in children: a good choice? no\n",
            "Does combining antiretroviral agents in a single dosage form enhance quality of life of HIV/AIDS patients? no\n",
            "Does desflurane alter left ventricular function when used to control surgical stimulation during aortic surgery? no\n",
            "Is fluoroscopy essential for retrieval of lower ureteric stones? no\n"
          ]
        },
        {
          "output_type": "stream",
          "name": "stderr",
          "text": [
            "\n"
          ]
        }
      ]
    },
    {
      "cell_type": "code",
      "source": [
        "query_engine = vector_index.as_query_engine()\n",
        "response_vector = query_engine.query(\" Answer question: Xanthogranulomatous cholecystitis: a premalignant condition?. Answer can only be one word and it should be either 'yes', 'no', or 'maybe'. \")\n",
        "response_vector.response"
      ],
      "metadata": {
        "colab": {
          "base_uri": "https://localhost:8080/",
          "height": 35
        },
        "id": "i82SqbatKSpr",
        "outputId": "162eb9ac-771c-4ced-9599-98ee150092b0"
      },
      "id": "i82SqbatKSpr",
      "execution_count": 38,
      "outputs": [
        {
          "output_type": "execute_result",
          "data": {
            "text/plain": [
              "'Maybe'"
            ],
            "application/vnd.google.colaboratory.intrinsic+json": {
              "type": "string"
            }
          },
          "metadata": {},
          "execution_count": 38
        }
      ]
    },
    {
      "cell_type": "code",
      "source": [],
      "metadata": {
        "id": "WyXda_yZTb1H"
      },
      "id": "WyXda_yZTb1H",
      "execution_count": null,
      "outputs": []
    }
  ],
  "metadata": {
    "kernelspec": {
      "display_name": "Python 3 (ipykernel)",
      "language": "python",
      "name": "python3"
    },
    "language_info": {
      "codemirror_mode": {
        "name": "ipython",
        "version": 3
      },
      "file_extension": ".py",
      "mimetype": "text/x-python",
      "name": "python",
      "nbconvert_exporter": "python",
      "pygments_lexer": "ipython3",
      "version": "3.9.6"
    },
    "colab": {
      "provenance": []
    }
  },
  "nbformat": 4,
  "nbformat_minor": 5
}